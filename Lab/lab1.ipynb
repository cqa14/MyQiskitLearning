{
 "cells": [
  {
   "cell_type": "code",
   "execution_count": 1,
   "metadata": {},
   "outputs": [],
   "source": [
    "from qiskit import *\n",
    "from qiskit.visualization import plot_histogram\n",
    "import numpy as np"
   ]
  },
  {
   "cell_type": "markdown",
   "metadata": {},
   "source": [
    "# Créer les fonctions XOR AND NAND OR en utilisant X CX CCX"
   ]
  },
  {
   "cell_type": "markdown",
   "metadata": {},
   "source": [
    "> exemple avec NOT"
   ]
  },
  {
   "cell_type": "code",
   "execution_count": 2,
   "metadata": {},
   "outputs": [],
   "source": [
    "def NOT(inp):\n",
    "    \"\"\"An NOT gate.\n",
    "    \n",
    "    Parameters:\n",
    "        inp (str): Input, encoded in qubit 0.\n",
    "        \n",
    "    Returns:\n",
    "        QuantumCircuit: Output NOT circuit.\n",
    "        str: Output value measured from qubit 0.\n",
    "    \"\"\"\n",
    "\n",
    "    qc = QuantumCircuit(1, 1) # A quantum circuit with a single qubit and a single classical bit\n",
    "    qc.reset(0)\n",
    "    \n",
    "    # We encode '0' as the qubit state |0⟩, and '1' as |1⟩\n",
    "    # Since the qubit is initially |0⟩, we don't need to do anything for an input of '0'\n",
    "    # For an input of '1', we do an x to rotate the |0⟩ to |1⟩\n",
    "    if inp=='1':\n",
    "        qc.x(0)\n",
    "        \n",
    "    # barrier between input state and gate operation \n",
    "    qc.barrier()\n",
    "    \n",
    "    # Now we've encoded the input, we can do a NOT on it using x\n",
    "    qc.x(0)\n",
    "    \n",
    "    #barrier between gate operation and measurement\n",
    "    qc.barrier()\n",
    "    \n",
    "    # Finally, we extract the |0⟩/|1⟩ output of the qubit and encode it in the bit c[0]\n",
    "    qc.measure(0,0)\n",
    "    qc.draw()\n",
    "    \n",
    "    # We'll run the program on a simulator\n",
    "    backend = Aer.get_backend('aer_simulator')\n",
    "    # Since the output will be deterministic, we can use just a single shot to get it\n",
    "    job = backend.run(qc, shots=1, memory=True)\n",
    "    output = job.result().get_memory()[0]\n",
    "    \n",
    "    return qc, output"
   ]
  },
  {
   "cell_type": "code",
   "execution_count": 3,
   "metadata": {},
   "outputs": [
    {
     "name": "stdout",
     "output_type": "stream",
     "text": [
      "NOT with input 0 gives output 1\n"
     ]
    },
    {
     "data": {
      "image/png": "[encoded data removed]",
      "text/plain": [
       "<PIL.Image.Image image mode=RGB size=279x75>"
      ]
     },
     "metadata": {},
     "output_type": "display_data"
    },
    {
     "name": "stdout",
     "output_type": "stream",
     "text": [
      "\n",
      "\n",
      "NOT with input 1 gives output 0\n"
     ]
    },
    {
     "data": {
      "image/png": "[encoded data removed]",
      "text/plain": [
       "<PIL.Image.Image image mode=RGB size=328x75>"
      ]
     },
     "metadata": {},
     "output_type": "display_data"
    },
    {
     "name": "stdout",
     "output_type": "stream",
     "text": [
      "\n",
      "\n"
     ]
    }
   ],
   "source": [
    "## Test the function\n",
    "for inp in ['0', '1']:\n",
    "    qc, out = NOT(inp)\n",
    "    print('NOT with input',inp,'gives output',out)\n",
    "    display(qc.draw())\n",
    "    print('\\n')"
   ]
  },
  {
   "cell_type": "markdown",
   "metadata": {},
   "source": [
    "> XOR"
   ]
  },
  {
   "cell_type": "code",
   "execution_count": 4,
   "metadata": {},
   "outputs": [],
   "source": [
    "def XOR(inp1,inp2):\n",
    "    \"\"\"An XOR gate.\n",
    "    \n",
    "    Parameters:\n",
    "        inpt1 (str): Input 1, encoded in qubit 0.\n",
    "        inpt2 (str): Input 2, encoded in qubit 1.\n",
    "        \n",
    "    Returns:\n",
    "        QuantumCircuit: Output XOR circuit.\n",
    "        str: Output value measured from qubit 1.\n",
    "    \"\"\"\n",
    "  \n",
    "    qc = QuantumCircuit(2, 1) \n",
    "    qc.reset(range(2))\n",
    "    \n",
    "    if inp1=='1':\n",
    "        qc.x(0)\n",
    "    if inp2=='1':\n",
    "        qc.x(1)\n",
    "    \n",
    "    # barrier between input state and gate operation \n",
    "    qc.barrier()\n",
    "    \n",
    "    # this is where your program for quantum XOR gate goes\n",
    "    \n",
    "    \n",
    "    \n",
    "    # we use cx to make our XOR gate\n",
    "    qc.cx(0,1)\n",
    "    \n",
    "    \n",
    "    \n",
    "    # barrier between input state and gate operation \n",
    "    qc.barrier()\n",
    "    \n",
    "    qc.measure(1,0) # output from qubit 1 is measured\n",
    "  \n",
    "    #We'll run the program on a simulator\n",
    "    backend = Aer.get_backend('aer_simulator')\n",
    "    #Since the output will be deterministic, we can use just a single shot to get it\n",
    "    job = backend.run(qc, shots=1, memory=True)\n",
    "    output = job.result().get_memory()[0]\n",
    "  \n",
    "    return qc, output"
   ]
  },
  {
   "cell_type": "code",
   "execution_count": 5,
   "metadata": {},
   "outputs": [
    {
     "name": "stdout",
     "output_type": "stream",
     "text": [
      "XOR with inputs 0 0 gives output 0\n"
     ]
    },
    {
     "data": {
      "image/png": "[encoded data removed]",
      "text/plain": [
       "<PIL.Image.Image image mode=RGB size=277x138>"
      ]
     },
     "metadata": {},
     "output_type": "display_data"
    },
    {
     "name": "stdout",
     "output_type": "stream",
     "text": [
      "\n",
      "\n",
      "XOR with inputs 0 1 gives output 1\n"
     ]
    },
    {
     "data": {
      "image/png": "[encoded data removed]",
      "text/plain": [
       "<PIL.Image.Image image mode=RGB size=325x113>"
      ]
     },
     "metadata": {},
     "output_type": "display_data"
    },
    {
     "name": "stdout",
     "output_type": "stream",
     "text": [
      "\n",
      "\n",
      "XOR with inputs 1 0 gives output 1\n"
     ]
    },
    {
     "data": {
      "image/png": "[encoded data removed]",
      "text/plain": [
       "<PIL.Image.Image image mode=RGB size=325x113>"
      ]
     },
     "metadata": {},
     "output_type": "display_data"
    },
    {
     "name": "stdout",
     "output_type": "stream",
     "text": [
      "\n",
      "\n",
      "XOR with inputs 1 1 gives output 0\n"
     ]
    },
    {
     "data": {
      "image/png": "[encoded data removed]",
      "text/plain": [
       "<PIL.Image.Image image mode=RGB size=325x113>"
      ]
     },
     "metadata": {},
     "output_type": "display_data"
    },
    {
     "name": "stdout",
     "output_type": "stream",
     "text": [
      "\n",
      "\n"
     ]
    }
   ],
   "source": [
    "## Test the function\n",
    "for inp1 in ['0', '1']:\n",
    "    for inp2 in ['0', '1']:\n",
    "        qc, output = XOR(inp1, inp2)\n",
    "        print('XOR with inputs',inp1,inp2,'gives output',output)\n",
    "        display(qc.draw())\n",
    "        print('\\n')"
   ]
  },
  {
   "cell_type": "markdown",
   "metadata": {},
   "source": [
    "> AND"
   ]
  },
  {
   "cell_type": "code",
   "execution_count": 6,
   "metadata": {},
   "outputs": [],
   "source": [
    "def AND(inp1,inp2):\n",
    "    \"\"\"An AND gate.\n",
    "    \n",
    "    Parameters:\n",
    "        inpt1 (str): Input 1, encoded in qubit 0.\n",
    "        inpt2 (str): Input 2, encoded in qubit 1.\n",
    "        \n",
    "    Returns:\n",
    "        QuantumCircuit: Output AND circuit.\n",
    "        str: Output value measured from qubit 2.\n",
    "    \"\"\"\n",
    "    qc = QuantumCircuit(3, 1) \n",
    "    qc.reset(range(2))\n",
    "  \n",
    "    if inp1=='1':\n",
    "        qc.x(0)\n",
    "    if inp2=='1':\n",
    "        qc.x(1)\n",
    "        \n",
    "    qc.barrier()\n",
    "\n",
    "    # this is where your program for quantum AND gate goes\n",
    "\n",
    "\n",
    "    # we use ccx to make our AND gate\n",
    "    qc.ccx(0,1,2)\n",
    "\n",
    "    qc.barrier()\n",
    "    qc.measure(2, 0) # output from qubit 2 is measured\n",
    "  \n",
    "    # We'll run the program on a simulator\n",
    "    backend = Aer.get_backend('aer_simulator')\n",
    "    # Since the output will be deterministic, we can use just a single shot to get it\n",
    "    job = backend.run(qc, shots=1, memory=True)\n",
    "    output = job.result().get_memory()[0]\n",
    "  \n",
    "    return qc, output"
   ]
  },
  {
   "cell_type": "code",
   "execution_count": 7,
   "metadata": {},
   "outputs": [
    {
     "name": "stdout",
     "output_type": "stream",
     "text": [
      "AND with inputs 0 0 gives output 0\n"
     ]
    },
    {
     "data": {
      "image/png": "[encoded data removed]",
      "text/plain": [
       "<PIL.Image.Image image mode=RGB size=277x187>"
      ]
     },
     "metadata": {},
     "output_type": "display_data"
    },
    {
     "name": "stdout",
     "output_type": "stream",
     "text": [
      "\n",
      "\n",
      "AND with inputs 0 1 gives output 0\n"
     ]
    },
    {
     "data": {
      "image/png": "[encoded data removed]",
      "text/plain": [
       "<PIL.Image.Image image mode=RGB size=325x150>"
      ]
     },
     "metadata": {},
     "output_type": "display_data"
    },
    {
     "name": "stdout",
     "output_type": "stream",
     "text": [
      "\n",
      "\n",
      "AND with inputs 1 0 gives output 0\n"
     ]
    },
    {
     "data": {
      "image/png": "[encoded data removed]",
      "text/plain": [
       "<PIL.Image.Image image mode=RGB size=325x150>"
      ]
     },
     "metadata": {},
     "output_type": "display_data"
    },
    {
     "name": "stdout",
     "output_type": "stream",
     "text": [
      "\n",
      "\n",
      "AND with inputs 1 1 gives output 1\n"
     ]
    },
    {
     "data": {
      "image/png": "[encoded data removed]",
      "text/plain": [
       "<PIL.Image.Image image mode=RGB size=325x150>"
      ]
     },
     "metadata": {},
     "output_type": "display_data"
    },
    {
     "name": "stdout",
     "output_type": "stream",
     "text": [
      "\n",
      "\n"
     ]
    }
   ],
   "source": [
    "## Test the function\n",
    "for inp1 in ['0', '1']:\n",
    "    for inp2 in ['0', '1']:\n",
    "        qc, output = AND(inp1, inp2)\n",
    "        print('AND with inputs',inp1,inp2,'gives output',output)\n",
    "        display(qc.draw())\n",
    "        print('\\n')"
   ]
  },
  {
   "cell_type": "markdown",
   "metadata": {},
   "source": [
    "> NAND"
   ]
  },
  {
   "cell_type": "code",
   "execution_count": 8,
   "metadata": {},
   "outputs": [],
   "source": [
    "def NAND(inp1,inp2):\n",
    "    \"\"\"An NAND gate.\n",
    "    \n",
    "    Parameters:\n",
    "        inpt1 (str): Input 1, encoded in qubit 0.\n",
    "        inpt2 (str): Input 2, encoded in qubit 1.\n",
    "        \n",
    "    Returns:\n",
    "        QuantumCircuit: Output NAND circuit.\n",
    "        str: Output value measured from qubit 2.\n",
    "    \"\"\"\n",
    "    qc = QuantumCircuit(3, 1) \n",
    "    qc.reset(range(3))\n",
    "    \n",
    "    if inp1=='1':\n",
    "        qc.x(0)\n",
    "    if inp2=='1':\n",
    "        qc.x(1)\n",
    "    \n",
    "    qc.barrier()\n",
    "    \n",
    "    # this is where your program for quantum NAND gate goes\n",
    "\n",
    "\n",
    "    qc.ccx(0,1,2)\n",
    "    qc.x(2)\n",
    "    \n",
    "    \n",
    "    \n",
    "    qc.barrier()\n",
    "    qc.measure(2, 0) # output from qubit 2 is measured\n",
    "  \n",
    "    # We'll run the program on a simulator\n",
    "    backend = Aer.get_backend('aer_simulator')\n",
    "    # Since the output will be deterministic, we can use just a single shot to get it\n",
    "    job = backend.run(qc,shots=1,memory=True)\n",
    "    output = job.result().get_memory()[0]\n",
    "  \n",
    "    return qc, output"
   ]
  },
  {
   "cell_type": "code",
   "execution_count": 9,
   "metadata": {},
   "outputs": [
    {
     "name": "stdout",
     "output_type": "stream",
     "text": [
      "NAND with inputs 0 0 gives output 1\n"
     ]
    },
    {
     "data": {
      "image/png": "[encoded data removed]",
      "text/plain": [
       "<PIL.Image.Image image mode=RGB size=325x150>"
      ]
     },
     "metadata": {},
     "output_type": "display_data"
    },
    {
     "name": "stdout",
     "output_type": "stream",
     "text": [
      "\n",
      "\n",
      "NAND with inputs 0 1 gives output 1\n"
     ]
    },
    {
     "data": {
      "image/png": "[encoded data removed]",
      "text/plain": [
       "<PIL.Image.Image image mode=RGB size=374x150>"
      ]
     },
     "metadata": {},
     "output_type": "display_data"
    },
    {
     "name": "stdout",
     "output_type": "stream",
     "text": [
      "\n",
      "\n",
      "NAND with inputs 1 0 gives output 1\n"
     ]
    },
    {
     "data": {
      "image/png": "[encoded data removed]",
      "text/plain": [
       "<PIL.Image.Image image mode=RGB size=374x150>"
      ]
     },
     "metadata": {},
     "output_type": "display_data"
    },
    {
     "name": "stdout",
     "output_type": "stream",
     "text": [
      "\n",
      "\n",
      "NAND with inputs 1 1 gives output 0\n"
     ]
    },
    {
     "data": {
      "image/png": "[encoded data removed]",
      "text/plain": [
       "<PIL.Image.Image image mode=RGB size=374x150>"
      ]
     },
     "metadata": {},
     "output_type": "display_data"
    },
    {
     "name": "stdout",
     "output_type": "stream",
     "text": [
      "\n",
      "\n"
     ]
    }
   ],
   "source": [
    "## Test the function\n",
    "for inp1 in ['0', '1']:\n",
    "    for inp2 in ['0', '1']:\n",
    "        qc, output = NAND(inp1, inp2)\n",
    "        print('NAND with inputs',inp1,inp2,'gives output',output)\n",
    "        display(qc.draw())\n",
    "        print('\\n')"
   ]
  },
  {
   "cell_type": "markdown",
   "metadata": {},
   "source": [
    "> OR"
   ]
  },
  {
   "cell_type": "code",
   "execution_count": 10,
   "metadata": {},
   "outputs": [],
   "source": [
    "def OR(inp1,inp2):\n",
    "    \"\"\"An OR gate.\n",
    "    \n",
    "    Parameters:\n",
    "        inpt1 (str): Input 1, encoded in qubit 0.\n",
    "        inpt2 (str): Input 2, encoded in qubit 1.\n",
    "        \n",
    "    Returns:\n",
    "        QuantumCircuit: Output XOR circuit.\n",
    "        str: Output value measured from qubit 2.\n",
    "    \"\"\"\n",
    "\n",
    "    qc = QuantumCircuit(3, 1) \n",
    "    qc.reset(range(3))\n",
    "    \n",
    "    if inp1=='1':\n",
    "        qc.x(0)\n",
    "    if inp2=='1':\n",
    "        qc.x(1)\n",
    "    \n",
    "    qc.barrier()\n",
    "   \n",
    "    # this is where your program for quantum OR gate goes\n",
    "\n",
    "    qc.cx(0,2)\n",
    "    qc.cx(1,2)\n",
    "    qc.ccx(0,1,2)\n",
    "    \n",
    "    \n",
    "    \n",
    "    qc.barrier()\n",
    "    qc.measure(2, 0) # output from qubit 2 is measured\n",
    "  \n",
    "    # We'll run the program on a simulator\n",
    "    backend = Aer.get_backend('aer_simulator')\n",
    "    # Since the output will be deterministic, we can use just a single shot to get it\n",
    "    job = backend.run(qc,shots=1,memory=True)\n",
    "    output = job.result().get_memory()[0]\n",
    "  \n",
    "    return qc, output"
   ]
  },
  {
   "cell_type": "code",
   "execution_count": 11,
   "metadata": {},
   "outputs": [
    {
     "name": "stdout",
     "output_type": "stream",
     "text": [
      "OR with inputs 0 0 gives output 0\n"
     ]
    },
    {
     "data": {
      "image/png": "[encoded data removed]",
      "text/plain": [
       "<PIL.Image.Image image mode=RGB size=352x187>"
      ]
     },
     "metadata": {},
     "output_type": "display_data"
    },
    {
     "name": "stdout",
     "output_type": "stream",
     "text": [
      "\n",
      "\n",
      "OR with inputs 0 1 gives output 1\n"
     ]
    },
    {
     "data": {
      "image/png": "[encoded data removed]",
      "text/plain": [
       "<PIL.Image.Image image mode=RGB size=401x150>"
      ]
     },
     "metadata": {},
     "output_type": "display_data"
    },
    {
     "name": "stdout",
     "output_type": "stream",
     "text": [
      "\n",
      "\n",
      "OR with inputs 1 0 gives output 1\n"
     ]
    },
    {
     "data": {
      "image/png": "[encoded data removed]",
      "text/plain": [
       "<PIL.Image.Image image mode=RGB size=401x150>"
      ]
     },
     "metadata": {},
     "output_type": "display_data"
    },
    {
     "name": "stdout",
     "output_type": "stream",
     "text": [
      "\n",
      "\n",
      "OR with inputs 1 1 gives output 1\n"
     ]
    },
    {
     "data": {
      "image/png": "[encoded data removed]",
      "text/plain": [
       "<PIL.Image.Image image mode=RGB size=401x150>"
      ]
     },
     "metadata": {},
     "output_type": "display_data"
    },
    {
     "name": "stdout",
     "output_type": "stream",
     "text": [
      "\n",
      "\n"
     ]
    }
   ],
   "source": [
    "## Test the function\n",
    "for inp1 in ['0', '1']:\n",
    "    for inp2 in ['0', '1']:\n",
    "        qc, output = OR(inp1, inp2)\n",
    "        print('OR with inputs',inp1,inp2,'gives output',output)\n",
    "        display(qc.draw())\n",
    "        print('\\n')"
   ]
  },
  {
   "cell_type": "markdown",
   "metadata": {},
   "source": [
    "## Run on real device"
   ]
  },
  {
   "cell_type": "code",
   "execution_count": 12,
   "metadata": {},
   "outputs": [
    {
     "name": "stderr",
     "output_type": "stream",
     "text": [
      "C:\\Users\\romai\\AppData\\Local\\Temp\\ipykernel_15204\\485379158.py:1: DeprecationWarning: The package qiskit.providers.ibmq is being deprecated. Please see https://ibm.biz/provider_migration_guide to get instructions on how to migrate to qiskit-ibm-provider (https://github.com/Qiskit/qiskit-ibm-provider) and qiskit-ibm-runtime (https://github.com/Qiskit/qiskit-ibm-runtime).\n",
      "  IBMQ.load_account()\n",
      "C:\\Users\\romai\\AppData\\Local\\Temp\\ipykernel_15204\\485379158.py:1: DeprecationWarning: The qiskit.IBMQ entrypoint and the qiskit-ibmq-provider package (accessible from 'qiskit.providers.ibmq`) are deprecated and will be removed in a future release. Instead you should use the qiskit-ibm-provider package which is accessible from 'qiskit_ibm_provider'. You can install it with 'pip install qiskit_ibm_provider'. Just replace 'qiskit.IBMQ' with 'qiskit_ibm_provider.IBMProvider'\n",
      "  IBMQ.load_account()\n"
     ]
    },
    {
     "data": {
      "text/plain": [
       "<AccountProvider for IBMQ(hub='ibm-q', group='open', project='main')>"
      ]
     },
     "execution_count": 12,
     "metadata": {},
     "output_type": "execute_result"
    }
   ],
   "source": [
    "IBMQ.load_account()"
   ]
  },
  {
   "cell_type": "code",
   "execution_count": 13,
   "metadata": {},
   "outputs": [
    {
     "data": {
      "text/plain": [
       "[<AccountProvider for IBMQ(hub='ibm-q', group='open', project='main')>]"
      ]
     },
     "execution_count": 13,
     "metadata": {},
     "output_type": "execute_result"
    }
   ],
   "source": [
    "IBMQ.providers()"
   ]
  },
  {
   "cell_type": "code",
   "execution_count": 14,
   "metadata": {},
   "outputs": [
    {
     "data": {
      "text/plain": [
       "[<IBMQSimulator('ibmq_qasm_simulator') from IBMQ(hub='ibm-q', group='open', project='main')>,\n",
       " <IBMQBackend('ibmq_lima') from IBMQ(hub='ibm-q', group='open', project='main')>,\n",
       " <IBMQBackend('ibmq_belem') from IBMQ(hub='ibm-q', group='open', project='main')>,\n",
       " <IBMQBackend('ibmq_quito') from IBMQ(hub='ibm-q', group='open', project='main')>,\n",
       " <IBMQSimulator('simulator_statevector') from IBMQ(hub='ibm-q', group='open', project='main')>,\n",
       " <IBMQSimulator('simulator_mps') from IBMQ(hub='ibm-q', group='open', project='main')>,\n",
       " <IBMQSimulator('simulator_extended_stabilizer') from IBMQ(hub='ibm-q', group='open', project='main')>,\n",
       " <IBMQSimulator('simulator_stabilizer') from IBMQ(hub='ibm-q', group='open', project='main')>,\n",
       " <IBMQBackend('ibmq_jakarta') from IBMQ(hub='ibm-q', group='open', project='main')>,\n",
       " <IBMQBackend('ibmq_manila') from IBMQ(hub='ibm-q', group='open', project='main')>,\n",
       " <IBMQBackend('ibm_lagos') from IBMQ(hub='ibm-q', group='open', project='main')>,\n",
       " <IBMQBackend('ibm_nairobi') from IBMQ(hub='ibm-q', group='open', project='main')>,\n",
       " <IBMQBackend('ibm_perth') from IBMQ(hub='ibm-q', group='open', project='main')>,\n",
       " <IBMQBackend('ibm_oslo') from IBMQ(hub='ibm-q', group='open', project='main')>]"
      ]
     },
     "execution_count": 14,
     "metadata": {},
     "output_type": "execute_result"
    }
   ],
   "source": [
    "provider = IBMQ.get_provider('ibm-q')\n",
    "provider.backends()"
   ]
  },
  {
   "cell_type": "code",
   "execution_count": 15,
   "metadata": {},
   "outputs": [
    {
     "data": {
      "application/vnd.jupyter.widget-view+json": {
       "model_id": "2ccb0ccda1fe4a73bfa6c6f33379c034",
       "version_major": 2,
       "version_minor": 0
      },
      "text/plain": [
       "VBox(children=(HTML(value=\"<h1 style='color:#ffffff;background-color:#000000;padding-top: 1%;padding-bottom: 1…"
      ]
     },
     "metadata": {},
     "output_type": "display_data"
    },
    {
     "data": {
      "text/plain": [
       "<IBMQBackend('ibmq_lima') from IBMQ(hub='ibm-q', group='open', project='main')>"
      ]
     },
     "execution_count": 15,
     "metadata": {},
     "output_type": "execute_result"
    }
   ],
   "source": [
    "import qiskit.tools.jupyter\n",
    "\n",
    "backend_ex = provider.get_backend('ibmq_lima')\n",
    "backend_ex"
   ]
  },
  {
   "cell_type": "code",
   "execution_count": 16,
   "metadata": {},
   "outputs": [
    {
     "data": {
      "text/plain": [
       "[<IBMQBackend('ibmq_lima') from IBMQ(hub='ibm-q', group='open', project='main')>,\n",
       " <IBMQBackend('ibmq_belem') from IBMQ(hub='ibm-q', group='open', project='main')>,\n",
       " <IBMQBackend('ibmq_quito') from IBMQ(hub='ibm-q', group='open', project='main')>,\n",
       " <IBMQBackend('ibmq_jakarta') from IBMQ(hub='ibm-q', group='open', project='main')>,\n",
       " <IBMQBackend('ibmq_manila') from IBMQ(hub='ibm-q', group='open', project='main')>,\n",
       " <IBMQBackend('ibm_lagos') from IBMQ(hub='ibm-q', group='open', project='main')>,\n",
       " <IBMQBackend('ibm_nairobi') from IBMQ(hub='ibm-q', group='open', project='main')>,\n",
       " <IBMQBackend('ibm_perth') from IBMQ(hub='ibm-q', group='open', project='main')>,\n",
       " <IBMQBackend('ibm_oslo') from IBMQ(hub='ibm-q', group='open', project='main')>]"
      ]
     },
     "execution_count": 16,
     "metadata": {},
     "output_type": "execute_result"
    }
   ],
   "source": [
    "backends = provider.backends(filters = lambda x:x.configuration().n_qubits >= 2 and not x.configuration().simulator\n",
    "                             and x.status().operational==True)\n",
    "backends"
   ]
  },
  {
   "cell_type": "code",
   "execution_count": 17,
   "metadata": {},
   "outputs": [
    {
     "data": {
      "application/vnd.jupyter.widget-view+json": {
       "model_id": "e5671a4b40b847bca2f74e359f406c99",
       "version_major": 2,
       "version_minor": 0
      },
      "text/plain": [
       "VBox(children=(HTML(value=\"<h1 style='color:#ffffff;background-color:#000000;padding-top: 1%;padding-bottom: 1…"
      ]
     },
     "metadata": {},
     "output_type": "display_data"
    },
    {
     "data": {
      "text/plain": [
       "<IBMQBackend('ibmq_jakarta') from IBMQ(hub='ibm-q', group='open', project='main')>"
      ]
     },
     "execution_count": 17,
     "metadata": {},
     "output_type": "execute_result"
    }
   ],
   "source": [
    "from qiskit.providers.ibmq import least_busy\n",
    "backend = least_busy(provider.backends(filters=lambda x: x.configuration().n_qubits >= 2 and \n",
    "                                        not x.configuration().simulator and x.status().operational==True))\n",
    "backend"
   ]
  },
  {
   "cell_type": "code",
   "execution_count": 18,
   "metadata": {},
   "outputs": [],
   "source": [
    "from qiskit.providers.fake_provider import FakeVigo\n",
    "backend = FakeVigo()"
   ]
  },
  {
   "cell_type": "markdown",
   "metadata": {},
   "source": [
    "AND function on real device"
   ]
  },
  {
   "cell_type": "code",
   "execution_count": 19,
   "metadata": {},
   "outputs": [
    {
     "name": "stdout",
     "output_type": "stream",
     "text": [
      "AND gate\n"
     ]
    },
    {
     "data": {
      "image/png": "[encoded data removed]",
      "text/plain": [
       "<PIL.Image.Image image mode=RGB size=119x86>"
      ]
     },
     "metadata": {},
     "output_type": "display_data"
    },
    {
     "name": "stdout",
     "output_type": "stream",
     "text": [
      "\n",
      "\n",
      "Transpiled AND gate with all the required connectivity\n"
     ]
    },
    {
     "data": {
      "image/png": "[encoded data removed]",
      "text/plain": [
       "<PIL.Image.Image image mode=RGB size=586x97>"
      ]
     },
     "execution_count": 19,
     "metadata": {},
     "output_type": "execute_result"
    }
   ],
   "source": [
    "qc_and = QuantumCircuit(3)\n",
    "qc_and.ccx(0,1,2)\n",
    "print('AND gate')\n",
    "display(qc_and.draw())\n",
    "print('\\n\\nTranspiled AND gate with all the required connectivity')\n",
    "qc_and.decompose().draw()"
   ]
  },
  {
   "cell_type": "code",
   "execution_count": 20,
   "metadata": {},
   "outputs": [],
   "source": [
    "from qiskit.tools.monitor import job_monitor"
   ]
  },
  {
   "cell_type": "code",
   "execution_count": 21,
   "metadata": {},
   "outputs": [],
   "source": [
    "# run the cell to define AND gate for real quantum system\n",
    "\n",
    "def AND(inp1, inp2, backend, layout):\n",
    "    \n",
    "    qc = QuantumCircuit(3, 1) \n",
    "    qc.reset(range(3))\n",
    "    \n",
    "    if inp1=='1':\n",
    "        qc.x(0)\n",
    "    if inp2=='1':\n",
    "        qc.x(1)\n",
    "        \n",
    "    qc.barrier()\n",
    "    qc.ccx(0, 1, 2) \n",
    "    qc.barrier()\n",
    "    qc.measure(2, 0) \n",
    "  \n",
    "    qc_trans = transpile(qc, backend, initial_layout=layout, optimization_level=3)\n",
    "    job = backend.run(qc_trans, shots=8192)\n",
    "    print(job.job_id())\n",
    "    job_monitor(job)\n",
    "    \n",
    "    output = job.result().get_counts()\n",
    "    \n",
    "    return qc_trans, output"
   ]
  },
  {
   "cell_type": "code",
   "execution_count": 22,
   "metadata": {},
   "outputs": [
    {
     "data": {
      "application/vnd.jupyter.widget-view+json": {
       "model_id": "366c07c38be84191a58729beb9df89e5",
       "version_major": 2,
       "version_minor": 0
      },
      "text/plain": [
       "VBox(children=(HTML(value=\"<h1 style='color:#ffffff;background-color:#000000;padding-top: 1%;padding-bottom: 1…"
      ]
     },
     "metadata": {},
     "output_type": "display_data"
    },
    {
     "data": {
      "text/plain": [
       "<FakeVigo('fake_vigo')>"
      ]
     },
     "execution_count": 22,
     "metadata": {},
     "output_type": "execute_result"
    }
   ],
   "source": [
    "backend"
   ]
  },
  {
   "cell_type": "code",
   "execution_count": 23,
   "metadata": {},
   "outputs": [],
   "source": [
    "layout = [1, 2, 3] # moins d'erreur sur les CNOT"
   ]
  },
  {
   "cell_type": "code",
   "execution_count": 24,
   "metadata": {},
   "outputs": [
    {
     "name": "stdout",
     "output_type": "stream",
     "text": [
      "e086b4b0-cb55-464d-a3a7-cf2fcc570b8b\n",
      "Job Status: job has successfully run\n",
      "\n",
      "Probability of correct answer for inputs 0 0\n",
      "0.95\n",
      "---------------------------------\n",
      "38743acc-2bcf-4d14-8b1e-018c33af03ec\n",
      "Job Status: job has successfully run\n",
      "\n",
      "Probability of correct answer for inputs 0 1\n",
      "0.95\n",
      "---------------------------------\n",
      "0a6ac231-b9df-4c5e-8850-47614fb529d1\n",
      "Job Status: job has successfully run\n",
      "\n",
      "Probability of correct answer for inputs 1 0\n",
      "0.95\n",
      "---------------------------------\n",
      "7cd8c40f-e965-4297-b984-ccb26b478558\n",
      "Job Status: job has successfully run\n",
      "\n",
      "Probability of correct answer for inputs 1 1\n",
      "0.92\n",
      "---------------------------------\n",
      "\n",
      "\n",
      "The highest of these probabilities was 0.95\n",
      "The lowest of these probabilities was 0.92\n"
     ]
    }
   ],
   "source": [
    "output_all = []\n",
    "qc_trans_all = []\n",
    "prob_all = []\n",
    "\n",
    "worst = 1\n",
    "best = 0\n",
    "for input1 in ['0','1']:\n",
    "    for input2 in ['0','1']:\n",
    "        qc_trans, output = AND(input1, input2, backend, layout)\n",
    "        \n",
    "        output_all.append(output)\n",
    "        qc_trans_all.append(qc_trans)\n",
    "        \n",
    "        prob = output[str(int( input1=='1' and input2=='1' ))]/8192\n",
    "        prob_all.append(prob)\n",
    "        \n",
    "        print('\\nProbability of correct answer for inputs',input1,input2)\n",
    "        print('{:.2f}'.format(prob) )\n",
    "        print('---------------------------------')\n",
    "        \n",
    "        worst = min(worst,prob)\n",
    "        best = max(best, prob)\n",
    "        \n",
    "print('')\n",
    "print('\\nThe highest of these probabilities was {:.2f}'.format(best))\n",
    "print('The lowest of these probabilities was {:.2f}'.format(worst))"
   ]
  },
  {
   "cell_type": "code",
   "execution_count": 25,
   "metadata": {},
   "outputs": [
    {
     "name": "stdout",
     "output_type": "stream",
     "text": [
      "Transpiled AND gate circuit for ibmq_vigo with input 0 0\n",
      "\n",
      "The circuit depth : 24\n",
      "# of nonlocal gates : 10\n",
      "Probability of correct answer : 0.95\n"
     ]
    },
    {
     "data": {
      "image/png": "[encoded data removed]",
      "text/plain": [
       "<PIL.Image.Image image mode=RGB size=1987x245>"
      ]
     },
     "execution_count": 25,
     "metadata": {},
     "output_type": "execute_result"
    }
   ],
   "source": [
    "print('Transpiled AND gate circuit for ibmq_vigo with input 0 0')\n",
    "print('\\nThe circuit depth : {}'.format (qc_trans_all[0].depth()))\n",
    "print('# of nonlocal gates : {}'.format (qc_trans_all[0].num_nonlocal_gates()))\n",
    "print('Probability of correct answer : {:.2f}'.format(prob_all[0]) )\n",
    "qc_trans_all[0].draw()"
   ]
  },
  {
   "cell_type": "code",
   "execution_count": 26,
   "metadata": {},
   "outputs": [
    {
     "name": "stdout",
     "output_type": "stream",
     "text": [
      "Transpiled AND gate circuit for ibmq_vigo with input 0 1\n",
      "\n",
      "The circuit depth : 25\n",
      "# of nonlocal gates : 10\n",
      "Probability of correct answer : 0.95\n"
     ]
    },
    {
     "data": {
      "image/png": "[encoded data removed]",
      "text/plain": [
       "<PIL.Image.Image image mode=RGB size=2036x245>"
      ]
     },
     "execution_count": 26,
     "metadata": {},
     "output_type": "execute_result"
    }
   ],
   "source": [
    "print('Transpiled AND gate circuit for ibmq_vigo with input 0 1')\n",
    "print('\\nThe circuit depth : {}'.format (qc_trans_all[1].depth()))\n",
    "print('# of nonlocal gates : {}'.format (qc_trans_all[1].num_nonlocal_gates()))\n",
    "print('Probability of correct answer : {:.2f}'.format(prob_all[1]) )\n",
    "qc_trans_all[1].draw()"
   ]
  },
  {
   "cell_type": "code",
   "execution_count": 27,
   "metadata": {},
   "outputs": [
    {
     "name": "stdout",
     "output_type": "stream",
     "text": [
      "Transpiled AND gate circuit for ibmq_vigo with input 1 0\n",
      "\n",
      "The circuit depth : 25\n",
      "# of nonlocal gates : 10\n",
      "Probability of correct answer : 0.95\n"
     ]
    },
    {
     "data": {
      "image/png": "[encoded data removed]",
      "text/plain": [
       "<PIL.Image.Image image mode=RGB size=2036x245>"
      ]
     },
     "execution_count": 27,
     "metadata": {},
     "output_type": "execute_result"
    }
   ],
   "source": [
    "print('Transpiled AND gate circuit for ibmq_vigo with input 1 0')\n",
    "print('\\nThe circuit depth : {}'.format (qc_trans_all[2].depth()))\n",
    "print('# of nonlocal gates : {}'.format (qc_trans_all[2].num_nonlocal_gates()))\n",
    "print('Probability of correct answer : {:.2f}'.format(prob_all[2]) )\n",
    "qc_trans_all[2].draw()"
   ]
  },
  {
   "cell_type": "code",
   "execution_count": 28,
   "metadata": {},
   "outputs": [
    {
     "name": "stdout",
     "output_type": "stream",
     "text": [
      "Transpiled AND gate circuit for ibmq_vigo with input 1 1\n",
      "\n",
      "The circuit depth : 25\n",
      "# of nonlocal gates : 10\n",
      "Probability of correct answer : 0.92\n"
     ]
    },
    {
     "data": {
      "image/png": "[encoded data removed]",
      "text/plain": [
       "<PIL.Image.Image image mode=RGB size=2036x245>"
      ]
     },
     "execution_count": 28,
     "metadata": {},
     "output_type": "execute_result"
    }
   ],
   "source": [
    "print('Transpiled AND gate circuit for ibmq_vigo with input 1 1')\n",
    "print('\\nThe circuit depth : {}'.format (qc_trans_all[3].depth()))\n",
    "print('# of nonlocal gates : {}'.format (qc_trans_all[3].num_nonlocal_gates()))\n",
    "print('Probability of correct answer : {:.2f}'.format(prob_all[3]) )\n",
    "qc_trans_all[3].draw()"
   ]
  }
 ],
 "metadata": {
  "kernelspec": {
   "display_name": "Python 3 (ipykernel)",
   "language": "python",
   "name": "python3"
  },
  "language_info": {
   "codemirror_mode": {
    "name": "ipython",
    "version": 3
   },
   "file_extension": ".py",
   "mimetype": "text/x-python",
   "name": "python",
   "nbconvert_exporter": "python",
   "pygments_lexer": "ipython3",
   "version": "3.10.8"
  },
  "vscode": {
   "interpreter": {
    "hash": "8ac250f5c06efe43a33b813f68ddc45d6fc74b88e11ac437a7c4f4be1526e100"
   }
  },
  "widgets": {
   "application/vnd.jupyter.widget-state+json": {
    "state": {
     "007412f147fb45b2b6de38a5d82d9982": {
      "model_module": "@jupyter-widgets/base",
      "model_module_version": "2.0.0",
      "model_name": "LayoutModel",
      "state": {
       "border_bottom": "4px solid #000000",
       "border_left": "4px solid #000000",
       "border_right": "4px solid #000000",
       "border_top": "4px solid #000000",
       "max_height": "650px",
       "min_height": "650px"
      }
     },
     "022514c9a5ee42da8625389e33b8aad6": {
      "model_module": "@jupyter-widgets/output",
      "model_module_version": "1.0.0",
      "model_name": "OutputModel",
      "state": {
       "layout": "IPY_MODEL_086f4a1acb4d4c29a9d994d40102b9ca",
       "outputs": [
        {
         "data": {
          "image/png": "iVBORw0KGgoAAAANSUhEUgAAA38AAALPCAYAAADSCnlOAAAAOXRFWHRTb2Z0d2FyZQBNYXRwbG90bGliIHZlcnNpb24zLjYuMiwgaHR0cHM6Ly9tYXRwbG90bGliLm9yZy8o6BhiAAAACXBIWXMAAA9hAAAPYQGoP6dpAACfD0lEQVR4nOzdeZyN5f/H8ffZZsUwGFsyxhpDylaRJaRSSIQS7au0qahk+RbtUSpU30hIkaKUUNpIJdvY933fzT7n3L8//OZ8jVmNM+c+c+7X8/GYOnOfe/mcM2Pu+32u674um2EYhgAAAAAAQc1udgEAAAAAgKJH+AMAAAAACyD8AQAAAIAFEP4AAAAAwAIIfwAAAABgAYQ/AAAAALAAwh8AAAAAWADhDwAAAAAsgPAHAAAAABZA+AMAAAAACyD8AQAAAIAFEP4AAAAAwAIIfwAAAABgAYQ/AAAAALAAwh8AAAAAWADhDwAAAAAsgPAHAAAAABZA+AMAAAAACyD8AQAAAIAFEP4AAAAAwAIIfwAAAABgAYQ/AAAAALAAwh8AAAAAWADhDwAAAAAsgPAHAAAAABZA+AMAAAAACyD8AQAAAIAFEP4AAAAAwAIIfwAAAABgAYQ/AAAAALAAwh8AAAAAWADhDwAAAAAsgPAHAAAAABZA+AMAAAAACyD8AQAAAIAFEP4AAAAAwAIIfwAAAABgAYQ/AAAAALAAwh8AAAAAWADhDwAAAAAsgPAHAAAAABZA+AMAAAAACyD8AQAAAIAFEP4AAAAAwAIIfwAAAABgAYQ/AAAAALAAwh8AAAAAWADhDwAAAAAsgPAHAAAAABZA+AMAAAAACyD8AQAAAIAFEP4AAAAAwAIIfwAAAABgAYQ/AAAAALAAwh8AAAAAWADhDwAAAAAsgPAHAAAAABZA+AMAAAAACyD8AQAAAIAFEP4AAAAAwAIIfwAAAABgAYQ/AAAAALAAwh8AAAAAWADhDwAAAAAsgPAHAAAAABZA+AMAAAAACyD8AQAAAIAFEP4AAAAAwAIIfwAAAABgAYQ/AAAAALAAwh8AAAAAWADhDwAAAAAsgPAHAAAAABZA+AMAAAAACyD8AQAAAIAFEP4AAAAAwAIIfwAAAABgAYQ/AAAAALAAwh8AAAAAWADhDwAAAAAsgPAHAAAAABZA+AMAAAAACyD8AQAAAIAFEP4AAAAAwAIIfwAAAABgAYQ/AAAAALAAwh8AAAAAWADhDwAAAAAsgPAHAAAAABZA+AMAAAAACyj24W/RokWy2WxatGiR2aUEjYcfflgdOnTw2f4GDRqk5s2b+2x/AAAAAM7feYW/iRMnymazeb+cTqeqVKmiO++8U3v27CmqGk2XlJSkYcOGFThgZgbS3L4+//zzoi34Amzbtk0fffSRnnvuOe+y1NRUPfrooypfvrwuuugivfTSS9m22717t0qUKKE//vgj23OPP/64Vq5cqdmzZxdp7QAAAABy5yzMRiNGjFD16tWVkpKiP//8UxMnTtTvv/+uhIQEhYWF+bpG0yUlJWn48OGSpDZt2hR4uwEDBqhp06bZll955ZW+Ks3nxowZo+rVq6tt27beZa+//ro+/fRTPf/88zp16pRGjBihGjVqqHfv3t51nn76aXXu3FktWrTIts+KFSuqS5cueuONN9S5c2e/vA4AAAAAWRUq/F1//fVq0qSJJOnee+9VuXLl9Oqrr2r27Nm69dZbfVpgcXb11Vere/fu57WNx+NRWlpajiE6MTFRkZGRF1RTUlKSIiIicnwuPT1dU6ZM0YMPPphl+bfffqunnnpKzzzzjCRp165dmj17tjf8/f7775ozZ47Wr1+f63FvvfVW9ejRQ1u3blVcXNwFvQYAAAAA588n9/xdffXVkqQtW7ZkWb5+/Xp1795d0dHRCgsLU5MmTbJ1/Tt69KgGDhyoBg0aqESJEipVqpSuv/56rVy5Mttxdu/era5duyoyMlIxMTF64oknlJqammNNX375pRo3bqzw8HCVK1dOffr0ydY1tU2bNjm25N15552KjY2VJG3fvl3ly5eXJA0fPtzbdXPYsGEFeWvyZbPZ1L9/f02ZMkX169dXaGiofvjhB28X219++UUPP/ywYmJidNFFF3m3e//9973rV65cWY888oiOHz+e7fXFx8dr2bJlatWqlSIiIrJ05zzX77//rsOHD6t9+/ZZlicnJ6tMmTLe76Ojo5WUlCTpTFh97LHH9Mwzz2Sp71yZ+/zmm28K/N4AAAAA8J1Ctfyda/v27ZKUJSCsWbNGLVq0UJUqVTRo0CBFRkbqiy++UNeuXTVz5kzdfPPNkqStW7fq66+/Vo8ePVS9enUdOHBA48ePV+vWrbV27VpVrlxZ0pkA0q5dO+3cuVMDBgxQ5cqVNXnyZP3000/Z6pk4caLuuusuNW3aVKNGjdKBAwc0ZswY/fHHH1q+fLlKly5d4NdWvnx5ffDBB3rooYd08803q1u3bpKkhg0b5rvtqVOndPjw4WzLy5YtK5vN5v3+p59+0hdffKH+/furXLlyio2N1YoVKySdGXylfPnyevHFF5WYmChJGjZsmIYPH6727dvroYce0oYNG/TBBx/o77//1h9//CGXy+Xd95EjR3T99derV69e6tOnjypUqJBrvYsXL5bNZtNll12WZXnTpk01YcIEtWnTRqdPn9a0adPUv39/SdLHH3+sw4cP6+mnn87zvYiKilKNGjX0xx9/6Iknnsj7jQMAAADge8Z5+OSTTwxJxoIFC4xDhw4Zu3btMmbMmGGUL1/eCA0NNXbt2uVdt127dkaDBg2MlJQU7zKPx2NcddVVRq1atbzLUlJSDLfbneU427ZtM0JDQ40RI0Z4l40ePdqQZHzxxRfeZYmJiUbNmjUNScbPP/9sGIZhpKWlGTExMUZ8fLyRnJzsXffbb781JBkvvviid1nr1q2N1q1bZ3ud/fr1M6pVq+b9/tChQ4YkY+jQoQV6n37++WdDUq5f+/bt864rybDb7caaNWuy7CPzvW7ZsqWRkZHhXX7w4EEjJCTEuPbaa7O8b2PHjjUkGf/973+zvD5Jxrhx4wpUd58+fYyyZctmW75r1y6jfv363vqvvvpq49SpU8bx48eN8uXLG59//nmB9n/ttdcal1xySYHWBQAAAOBbher22b59e5UvX15Vq1ZV9+7dFRkZqdmzZ3u7/R09elQ//fSTbr31Vm/r1+HDh3XkyBF17NhRmzZt8nbBDA0Nld1+pgy3260jR46oRIkSqlOnjv7991/vMefOnatKlSpluYcuIiJC999/f5ba/vnnHx08eFAPP/xwlvvmOnXqpLp16+q7774rzEsulBdffFHz58/P9hUdHZ1lvdatW6tevXo57uO+++6Tw+Hwfr9gwQKlpaXp8ccf975vmeuVKlUq2+sLDQ3VXXfdVaB6jxw5kqX1NtNFF12k5cuXa/ny5VqzZo0WLVqkEiVKaPjw4apTp4569uyp33//Xc2bN1fVqlU1YMAApaWlZdtPmTJlcmwJBQAAAFD0CtXt87333lPt2rV14sQJ/fe//9Wvv/6q0NBQ7/ObN2+WYRgaMmSIhgwZkuM+Dh48qCpVqsjj8WjMmDF6//33tW3bNrndbu86ZcuW9T7esWOHatasmaW7pCTVqVMny/c7duzIcbkk1a1bV7///vv5v+BCatCgQbb753JSvXr1Aj+X2+sLCQlRXFyc9/lMVapUUUhISEFLlmEYOS53uVxq1KiR9/v169fr/fff1+LFi3X06FF16tRJgwYNUtu2bXXXXXfp5Zdf9o6Qeva+z/35AQAAAPCPQoW/Zs2aeUf77Nq1q1q2bKnbbrtNGzZsUIkSJeTxeCRJAwcOVMeOHXPcR82aNSVJI0eO1JAhQ3T33XfrP//5j6Kjo2W32/X4449791NUbDZbjmHn7ADqD+Hh4YV67kL3fa6yZcvq2LFjBVr3iSeeUJ8+fXT55Zdr8uTJio6O1uDBgyVJzzzzTI7h79ixYypXrlzBiwcAAADgMxc84IvD4dCoUaPUtm1bjR07VoMGDfIO5e9yufJt+ZoxY4batm2rjz/+OMvy48ePZwkK1apVU0JCQrbWow0bNmTZrlq1at7l11xzTZbnNmzY4H1eOtMNcevWrdlqOrf1LJBaq85+fWdPmZCWlqZt27YVqKUxN3Xr1tWUKVN04sQJRUVF5bret99+q8WLF2vTpk2SpL1796pSpUre5ytXrpxtZFXpzATyl156aaHrAwAAAFB4PpnqoU2bNmrWrJlGjx6tlJQUxcTEqE2bNho/frz27duXbf1Dhw55Hzscjmytb19++WW28HDDDTdo7969mjFjhndZUlKSJkyYkGW9Jk2aKCYmRuPGjcsyDcT333+vdevWqVOnTt5lNWrU0Pr167PUs3LlSv3xxx9Z9pk5L965UymYoX379goJCdE777yT5X37+OOPdeLEiSyv73xdeeWVMgxDy5Yty3WdtLQ0Pfnkk3rhhRcUExMjSapQoYI2b96sjIwMSdK6detUsWLFLNudOHFCW7Zs0VVXXVXo+gAAAAAUnk+mepCkp59+Wj169NDEiRP14IMP6r333lPLli3VoEED3XfffYqLi9OBAwe0ZMkS7d692zuP34033qgRI0borrvu0lVXXaXVq1drypQp2SYCv++++zR27Fj17dtXy5YtU6VKlTR58uRsE5a7XC69+uqruuuuu9S6dWv17t3bO9VDbGxslmkG7r77br311lvq2LGj7rnnHh08eFDjxo1T/fr1dfLkSe964eHhqlevnqZPn67atWsrOjpa8fHxio+Pz/M9+e2335SSkpJtecOGDQs0VUROypcvr8GDB2v48OG67rrr1LlzZ23YsEHvv/++mjZtqj59+hRqv5LUsmVLlS1bVgsWLMjWapppzJgxkqTHHnvMu+yGG27QI488ottuu01XXXWV/vOf/+jee+/Nst2CBQtkGIa6dOlS6PoAAAAAXIDzGRo0c/qBv//+O9tzbrfbqFGjhlGjRg3v1ARbtmwx+vbta1SsWNFwuVxGlSpVjBtvvNGYMWOGd7uUlBTjqaeeMipVqmSEh4cbLVq0MJYsWZLjNAw7duwwOnfubERERBjlypUzHnvsMeOHH37IMtVDpunTpxuXXXaZERoaakRHRxu33367sXv37mx1f/bZZ0ZcXJwREhJiNGrUyJg3b162qR4MwzAWL15sNG7c2AgJCcl32of8pno4e1tJxiOPPHJe77VhnJnaoW7duobL5TIqVKhgPPTQQ8axY8eyrNO6dWujfv36udaZkwEDBhg1a9bM8bn9+/cbJUuWNGbPnp3tue+//96oW7euUbp0aaNv375GYmJilud79uxptGzZ8rxqAQAAAOA7NsPIZXhHWNLWrVtVt25dff/992rXrp1P9rl//35Vr15dn3/+OS1/AAAAgEkIf8jmoYce0ubNmzV//nyf7G/QoEH66aef9Ndff/lkfwAAAADOH+EPAAAAACzAJ6N9AgAAAAACG+EPAAAAACyA8AcAAAAAFkD4AwAAAAALIPwBAAAAgAUQ/gAAAADAApxmFwDJ7XYrISFBkhQfHy+Hw2FyRQAAAACCDfP8AQAAAIAF0O0TAAAAACyAbp8BIC0tTRMnTpQk3XnnnQoJCTG3IAAAAABBh26fASApKUnx8fGSpISEBEVERJhcEQAAAIBgQ7dPAAAAALAAwh8AAAAAWADhDwAAAAAsgPAHAAAAABZA+AMAAAAACyD8AQAAAIAFMM9fAAgNDdXUqVO9jwEAAADA15jnDwAAAAAsgG6fAAAAAGABdPsMAOnp6Zo2bZokqXfv3nK5XCZXBAAAACDY0O0zACQlJSk+Pl6SlJCQoIiICJMrAgAAABBs6PYJAAAAABZA+AMAAAAAC+CePwAA/p8nI10ZyUlyJyfJyMiQYRiSxyPZJNnsstltsjmccoZHyBEeKbuT0ygAoPjgrAUAsCTDMJRx+qQykhKVkZykjKREGRnp/1vBZpMM6f//I8l2JgSedau8zemSMyLyf1+RJWWz2fz4KgAAKDjCHwDAUjzp6Uo9ekgpRw7KyMjIfcVs46EZ/8uBmUsy0pV+8rjSTx6XdCYMhpWLUWh0OdmdjNwMAAgsARH+ti6Yb3YJRSaufQezSwAAyzMMQxmJp5Vy5KDSTxwruuNkpCt5/x4l79+jkNLRCi0bI2dEJK2BAICAEBDhz+pCQkL00UcfeR8DAHwnI+m0Tu/aLk9qil+Pm3b8qNKOH5UjLEKRVWPlDGcaHwCAuQh/AcDpdOqaa64xuwwACCqGx6PkA3uVcmi/qXW4U5J0ctNahcVUUnhMJdnsDLQNADAH4Q8AEHQykk7r9M5t8qSlml2KV8rBfUo7cUwlLo6jFRAAYArCXwBIT0/XN998I0nq0qWLXC4GCQCAwgiU1r7ceFJT/tcKWKEy9wICAPyK8BcA0tPT9cwzz0iSbrjhBsIfABSC4XHr1PYtyjh90uxS8pVycJ/cyUkqUa0G3UABAH7DGQcAUOx53Bk6uXVjsQh+mdJPndCpbRtluN1mlwIAsAjCHwCgWDPcbp3aslHupESzSzlvGYmnzwRADwEQAFD0CH8AgGLL8Hh0avsmuVOSzC6l0DKSEnVq+xYZHo/ZpQAAghzhDwBQLBmGodM7tyoj8bTZpVywjNMnlbh7u9llAACCHOEPAFAspR07ovSTx80uw2cyJ4UHAKCoEP4AAMWOJz1NiXt3ml2GzyXu2SFPRrrZZQAAghRTPQSAkJAQjR071vsYAJA7wzB0etd2KQjvkTPcbiXu2amS1WqYXQoAIAgR/gKA0+nUDTfcYHYZAFAspB07UqymdDhf6SeOKe34UYWUjja7FABAkKHbJwCg2AjW7p7novsnAKAoEP4CQEZGhubOnau5c+cqIyPD7HIAIGClHDoQlN09z2W43Uo5fNDsMgAAQYZunwEgLS1N/fv3lyQlJCTI6eTHAgDnMjxupRw9ZHYZfpN65JDCK1SSzcbntAAA3+CMAgAoFtKOH7NEq18mw52h9BPHzS4DABBECH8AgGIh5fABs0vwO7p+AgB8ifAHAAh4GUmJcqckm12G32Uknbbk6wYAFA3CHwAg4KUcsW4LWMoR69znCAAoWoQ/AEDASz95wuwSTJN+8rjZJQAAggThDwAQ0DzpaTLc1p0Gx5OeJo+FXz8AwHeYUyAAuFwuvfbaa97HAID/yUhO8vsxbQ6HwspXlDOihJwREbLZHZKk1KOHlbh7u9/rcScnyV6ilN+PCwAILoS/AOByudS9e3ezywCAgOQ2IfzZXSEKj6nk9+PmJiM5SS7CHwDgAhH+AAABLSPptN+PaRiG0k+fUkbSadmdToVGl/d7DWfLSEo09fgAgOBA+AsAGRkZ+vXXXyVJrVq1ktPJjwUAMmUk+b/lz5OaolNbN0iSQqPLKzTa7yVk4Sb8AQB8gJQRANLS0nTvvfdKkhISEgh/APD/DI/b0oO9ZPKkp8kwDNlsNrNLAQAUY4z2CQAIWIbHY3YJgcMwzK4AAFDMEf4AAAHL8BB4MhGEAQAX6oLCX2pqqp599llVrlxZ4eHhat68uebPn++r2gAAVmcQeLxo+QMAXKALCn933nmn3nrrLd1+++0aM2aMHA6HbrjhBv3+++++qg8AYGU2Oqh4cb8fAOACFXpkkb/++kuff/65Xn/9dQ0cOFCS1LdvX8XHx+uZZ57R4sWLfVYkAMCabHYCTyabnSAMALgwhT6TzJgxQw6HQ/fff793WVhYmO655x4tWbJEu3bt8kmBAADrMi3w2OxyRZWRK6qMHOER3sX2kBDvcrsrxM81EYQBABem0C1/y5cvV+3atVWqVKksy5s1ayZJWrFihapWrXph1VmEy+XSsGHDvI8BAGfY7A7ZHE6/T/dgdzpVslqNbMtdJUrJVeLMee/0rm1KO3bEP/W4QpjmAQBwwQod/vbt26dKlSplW565bO/evTlul5qaqtTU1KzL0tIUGuLnT1ADiMvlUt++fc0uAwACkjMiQumnTppdhqkcEZFmlwAACAKFDn/JyckKDQ3NtjwsLMz7fE5GjRql4cOHZ1k24I4+eozwAwDIgSM80u/hz5OepqOr/vHrMfPiJPwBAHyg0DdThIeHZ2vBk6SUlBTv8zkZPHiwTpw4keXrwV69CltGUHC73frzzz/1559/yu12m10OAAQUgo/kPOu+QwAACqvQLX+VKlXSnj17si3ft2+fJKly5co5bhcaGpqtxfCwhbt8Sme6wt52222SpISEBEVEcJIHgEwEH2UZdAYAgMIqdMtfo0aNtHHjRp08mbUrztKlS73PAwBwoeyuENkchf6sstizu0Jkt/DrBwD4TqHDX/fu3eV2uzVhwgTvstTUVH3yySdq3rw5I30CAHzGVSrK7BJMY+XXDgDwrUJ/lNi8eXP16NFDgwcP1sGDB1WzZk1NmjRJ27dv18cff+zLGgEAFhdWtrzfplUINKFlY8wuAQAQJC6oH8mnn36qIUOGaPLkyTp27JgaNmyob7/9Vq1atfJVfQAAyBEeKUdYuNwpOY8kHaycESXkDMt5ADUAAM7XBYW/sLAwvf7663r99dd9VQ8AANnYbDaFlaugxN3bzS7Fr0LL0eoHAPCdQt/zBwCAP4WULiPZrXPasjmcCilV2uwyAABBhOHDAoDT6dSgQYO8jwEA2dnsDoVGl1fq4QNml+IXoWXLy2ahsAsAKHokjQAQEhKi+++/3+wyACDghZevoNSjhySPx+xSipTN4VAYXT4BAD7GR4oAgGLD7gpRZOWLzS6jyEVWqSa702V2GQCAIEP4CwBut1srV67UypUr5Xa7zS4HAAJaSJmycpYoZXYZRcYVVUYhpaPNLgMAEITo9hkAUlNTdfPNN0uSEhISFBERYXJFABC4bDabSlwUq+MbE4Ku+6fN4VBkleBv2QQAmIOWPwBAsWMPCc7un3T3BAAUJcIfAKBYcpYoJdmC4zTm8Xj0z4otSjbokAMAKDrBcdYEAFiKJz1dp7ZtlIzi3+3T7fZo+coteumVKRrQ7zmdOHbS7JIAAEGK8AcAKFY86ek6uXWDPKkpZpdywdxujzZu3q2Rr09XRoZbm9ZvIwACAIoM4Q8AUGwEU/DzeDxas26HXvzPZKWmpXuXEwABAEWF8AcAKBaCKvgZhv7+d5OGvvyZklPSsj1PAAQAFAXCXwBwOp0aMGCABgwYIKeTm/0B4FwFDX720DCFli3vp6oKz1aijCZ/+ZvS0zNyXYcACADwNZthGIbZRWxdMN/sEopMXPsOZpcAAMVaQYOfIyxcJeNqy+50KSPxtE7v2iZPWqqfqiwYe2iYSlStLmdEpA4fPKr+dwzWzm2789ymVt3qemfSSEWVCd6J7QEA/kHLHwAgYBUm+EmSM7KEomrXV1j5iv4os0DCYiopqlY9OSMiJUnlYqI1dvIoXVz9ojy3owUQAOArhL8A4PF4tHHjRm3cuFEeT/EfthwAfKGwwS+TzW5XRKWLVKpGXdlDw4qy1Dw5wsJVquYliqhYRTZ71tMuARAA4E90+yxiBen2mZSUpPj4eElSQkKCIiIiirosAAhoFxr8zmUYhjISTyvlyEGlnzjmy1JzFVI6WqFlY+SMiJTNZstzXbqAAgD8gZY/AEBA8XXwkySbzSZXiZIqWa2GSl/SUOEVKsvm8P0AWzanS+EVq6h0vUtV4uI4uSJL5Bv8JFoAAQD+QfgDAASMogh+57K7QhReobJK12uoktVrKbxCZblKlZbtnH2lp2coPSNDGRluZWS4lZ6RofT0DLnd/+ueb3O65CpVWuEVq6hk9dpngmVMpULVRQAEABQ1un0WMbp9AkDB+CP45VtDRroykpPkTk7Sp+OnyemwKyTkzHHS0tKVmpau00kpemLIADnCI4qkBrqAAgCKCuGviBH+ACB/gRD8ztW4Vnulp6VnW+4KcWnZpgVFemwCIACgKNDtEwBgqkAMfmajCygAoCgQ/gAApiH45Y4ACADwNcJfAHA6nbrvvvt03333yen0/ehzABCICH75IwACAHyJe/6KWEHu+QMAqykOwc/Me/7OxT2AAABfoOUPAOBXxSH4BRpaAAEAvkD4CwAej0e7d+/W7t275fF48t8AAIopgl/hEQABABeK8BcAUlJS1KpVK7Vq1UopKXlfEAFAcUXwu3AEQADAhQiIe/6sjnn+AAS74hj8Aumev3NxDyAAoDBo+QMAFKniGPwCHS2AAIDCIPwBAIoMwa/oEAABAOeL8AcAKBIEv6JHAAQAnA/CHwDA5wh+/kMABAAUFOEPAOBTBD//IwACAAqC8BcAHA6H+vTpoz59+sjhcJhdDgAUGsHPPARAAEB+mOoBAOATwRb8Anmqh7wwDQQAIDe0/AEALliwBb/ijBZAAEBuCH8BwDAMHTlyREeOHBENsQCKG4Jf4CEAAgByQvgLAMnJyWratKmaNm2q5ORks8sBgAIj+AUuAiAA4FyEPwBAoRD8Ah8BEABwNsIfAOC8EfyKDwIgACAT4Q8AcF4IfsUPARAAIBH+AADngeBXfBEAAQCEPwBAgRD8ij8CIABYG+EPAJAvgl/wIAACgHUR/gKAw+HQLbfcoltuuUUOh8PscgAgC4Jf8CEAAoA12YwAmFV864L5Zpdgirj2HcwuAQDyZOXg17hWe6WnpWdb7gpxadmmBSZU5HuHDx5V/zsGa+e23XmuV6tudb0zaaSiypTyU2UAgKJAyx8AIEdWDn5WQQsgAFgL4S8AGIahpKQkJSUlKQAaYgGA4GchBEAAsA7CXwBITk5WfHy84uPjlZycbHY5ACyO4Gc9BEAAsAbCHwDAi+BnXQRAAAh+hD8AgCSCHwiAABDsCH8AAIIfvAiAABC8CH8AYHEEP5yLAAgAwYnwBwAWRvBDbgiAABB8CH8AYFEEP+SHAAgAwYXwFwAcDoeuv/56XX/99XI4HGaXA8ACCH4oKAIgAAQPwl8ACA0N1Xvvvaf33ntPoaGhZpcDIMgR/HC+CIAAEBwIfwBgIQQ/FBYBEACKP8IfAFhERnKSTm5eR/BDoZ1PALy3+xPatX2PnyoDABQE4S8AJCUlKS4uTnFxcUpKSjK7HABByBv80tPyXI/gh/wUNADu2bVfd9zUnwAIAAGE8AcAQS4z+Mkw8lyP4JdVelr6eS23koIGwLTUNAIgAAQQwh8ABDGCH4oKARAAih/CHwAEKYIfihoBEACKF8IfAAQhT3q6Tm3dmG/wk82mEtUJfii8cjHRGjPxZblC8v4dSktN0yN9BjEKKACYiPAHAEEmczoHw52R94o2m0rVqieHi+CHC1OhUjl9+MVbcrqcea53+OBRpoEAABMR/gAgiBR0Hr/M4OcMC/dPYQh6tevF6aMv3843ADIPIACYh/AXABwOh9q0aaM2bdrI4XCYXQ6AYorgB7MRAAEgsBH+AkBoaKj++9//6r///a9CQ0PNLgdAMUTw873c7mHL7942qyMAAkDgIvwBQDFX0OBnDw1TVO36BD8Uudr14vTpnLH5jgJKAAQA/yL8AUAxVtDg5wgLV6kadeQIDfNTZbC62LiqBZoGggAIAP5D+AsASUlJql+/vurXr6+kpCSzywFQTJxP8GMeP5ihoPMAEgABwD8IfwEiOTlZycnJZpcBoJgg+KG4IAACQOAg/AFAMUPwQ3FDAASAwED4A4BihOCH4ooACADmI/wBQDFB8ENxRwAEAHMR/gCgGCD4IVgQAAHAPIUOf6dPn9bQoUN13XXXKTo6WjabTRMnTvRhaQAAieCH4EMABABzFDr8HT58WCNGjNC6det06aWX+rImy7Hb7WrevLmaN28uu53GWAD/Q/BDsCIAAoD/FTppVKpUSfv27dOOHTv0+uuv+7ImywkLC9O0adM0bdo0hYUxATOAMwh+CHYEQADwr0KHv9DQUFWsWNGXtQAA/h/BD1ZBAAQA//F7H8PU1FSdPHkyy1dqWpq/ywCAgEXwg9UQAAHAP/we/kaNGqWoqKgsX+M+/9zfZQSUpKQkNWnSRE2aNFFSUpLZ5QAwEcEPVkUABICi5/fwN3jwYJ04cSLL14O9evm7jIBz9OhRHT161OwyAJiI4AerIwACQNHye/gLDQ1VqVKlsnyFhoT4uwwACCgEP+AMAiAAFB3mFQAAkxH8gKwIgABQNAh/AGAigh+QMwIgAPge4Q8ATELwA/JGAAQA33JeyMZjx47V8ePHtXfvXknSnDlztHv3bknSo48+qqioqAuvEACCEMEPKJjMANj/jsHauW13rutlBsB3Jo1UVJlSfqwQAIoPm2EYRmE3jo2N1Y4dO3J8btu2bYqNjS3QfrYumF/YEoq1uPYdJEkpKSnq2bOnJGn69OkKCwszsywARYzgVzw0rtVe6Wnp2Za7QlxatmmBCRVZ2+GDR/MNgJJUq251AiAA5OKCwp+vWD38AbAOgl/xQfgLPARAALgw3PMHAH5C8AMuDPcAAsCFIfwBgB8Q/ADfIAACQOER/gJAcnKyrr76al199dVKTk42uxwAPkbwA3yLAAgAhUP4CwCGYWjPnj3as2ePAuAWTAA+RPADigYBEADOH+EPAIoIwQ8oWgRAADg/hD8AKAIEP8A/CIAAUHCEPwDwMYIf4F8EQAAoGMIfAPgQwQ8wBwEQAPJH+AMAHyH4AeYiAAJA3gh/AcBms6lWrVqqVauWbDab2eUAKASCHxAYCIAAkDvCXwAIDw/XvHnzNG/ePIWHh5tdDoDzRPADAgsBEAByRvgDgAtA8AMCEwEQALIj/AFAIRH8gMBGAASArAh/ASA5OVkdO3ZUx44dlZycbHY5AAqA4AcUDwRAAPgfwl8AMAxDmzZt0qZNm2QYhtnlAMgHwQ8oXgiAAHAG4Q8AzgPBDyieCIAAQPgDgAIj+AHFGwEQgNUR/gCgAAh+QHAgAAKwMpsRADeZbV0w3+wSTBHXvoMkKSkpSfHx8ZKkhIQERUREmFkWEBA8Ho92bt+jtas3aO3qjUpYuU57du5Talqa0lLT5HZ75HI5FRoaovCIMNWtV0v1GtZRvQZ1VK9BbZUuE+W7Wgh+QS8lJVUb123R2tUbtG71Rq1euU6bN2zLeWWb1K1nJ+/vWu26NRQSGuLfgnHBDh88qv53DNbObbvzXK9W3ep6Z9JIRZUp5bNjnzh6UlvWbdfmtVu1ee02bd+4S6kpqUpPS1dGulsOp10ul0shoS5VvChGNePjVPOS6qpxSXVVrBojm83ms1oAWAvhz0SEPyCr/XsP6qvp32npH8u0PmGTkpPPhC2n06GMDHee29rtdskmedweSVL5CuXU8LJL1K5jK3W4obVCw0ILVRPBLzgZhqF//16lOTPnacU/Cdq+dZc8Ho9sNpvsDrvc+fy+OZ0OZbjdkiHZHXbF1aimy5o2UOfu16nhZfW4OC8m/BUAU1PS9PuPf2rpz8u0cfUWHT9yQtKZ3x3DMGR48r4Uczgd3t/JsPBQ1axXXQ2b11f7Lq0VHVOmUDUBsCbCn4kyw19ycrKuvfZaSdKPP/6o8PBwM8sC/Mrj8WjpH8s0bdIs/bJgsWw2mzwej0/2bbfb5fF4VLJUCfW4vbO639ZZF11cqeC1EfyCTuLpJH0760dN/WSmtm3ZKYfDIbc776BXUJn7qlU3TrfdeYuu79JOERH8PQ90RRkA9+08oO+/XKj5s35WcmKKbHZbvkGvoGx2m2yyqfk1jXVDzw6Kb1yXDx0A5IvwZ6LM8AdY0ckTp/TNl99r6sSvtGfXPp9ehOfE7rDL8HjUonVz9e7XTS3bNs/zQongF1y2bNyuzz+dpa+//F6pKamy2WxFNrVO5gV+RES4bu7VST3v6KrYuKpFciz4hi8DoMfj0T+/rtB3n8/XyqUJsjvs3h4JRSFz/5UurqBOva7VNTddrYgSfOgAIGeEPxMR/mBVC3/4VcOefV0nT5ySJL/Ob+lw2OV2e9Tsqss04vVBqnxRxWzrEPyCR2pKqt5767+aNGG67HZ7kX7AkBOHwyHDMHRf/z66/9G+coXwuxKofBEA9+08oDEvjtf6lZuKPPRl8/+fZZWOjtKjw+5T45aX+u/YAIoNwp+JCH+wmuPHTmjkkNH6Yc5PPu3+VBgOh0OuEJeeefER3dL7Jm8rIMEveKz8d42ef+Jl7dqx168fMOTEZrOpeo2LNXL0C6rXoLaptSB3hQ2AHo9Hcz+fr0mjP5fb4/Fv6DtH5t/WazpfrbsH3q4SJSNNqwVA4CH8mSgz/KWkpKhnz56SpOnTpyssLMzMsoAi8dO83zTs2dd06uRpuU28MMpJZitgxQplCX5BIDUlVe+//Ykmjv9cNrvN1Avxszn+f3CP+/rfQStgADvfAJh0Ktnb2hdI7Ha7SpUpSSsggCwIfyZitE9YQWpKqoYNel3fzZpvemtfbs60Ajr17OO3qe1V8XmvS/ALaFs3bdeAe58LiNa+3NhsNsXVrKYxH72si2PznmsO5ihoAKx2URWln06Xx+TWvtxk/s3t0K2NHhjUT06X0+ySAJiMSd4BFJmkxCQ91O8Zff/NAkkKyOAnSW63WynJqRo+6hPN+u73XNcj+AW2NavW645uj2jPrn0BG/ykM/e4bt+6S3fc/LA2rt9idjnIQUEmgo9whSn5WLIy0jMCMvhJ//ubu2DWLxr5xNtKTUkzuSIAZguIlj+ro+UPwejkiVO6//antH7NJp9N3eAv995xvfrc2j7LMoJfYPtn6Uo93O8ZpaWlBeyF+LkcDrvCwsM0YcpbatDoErPLQQ5yawGMdIUrMqR4jahps9tU99JaevHdgQqPLF61A/AdWv4A+FxSYpIevGOgNqwtfsFPkj6a/L2mz1rk/Z7gF9hWr1inh/s+rbTU4hP8JMnt9ig5KUX33fakNq6jBTAQ5dQCGOEKK3bBTzrTCrhh5Wa9NOBNpaXSAghYFeEPgE+lpabpsfue19rVGwNuYJfz8cF/5+i7H5cS/ALc5o3b9ECfp5SWll4sP2jweDxKTUnRvb0f187ted9fBnOcHQDDnaEqEVJ8e+d4PB6tXb5Rrz3zrjLSM8wuB4AJCH8AfOrV4e/qryXLi+WF+LneGPulNh9NJfgFqNOnEvXgHQOVnJRcrH/f3G6PTp1M1IN3PK2UlFSzy0EOysVE66HH+6lkaPGfNsEwDC37baUmv/uF2aUAMAHhL0BER0crOjra7DKAC/Ln7//oyymzA3Zgl/Nls9n0/FOvKjk576kfYI43X/5Ahw8eLdYtzJncbrf27t6nsa9/ZHYpyEHS6WRNfGuadz7Q4s4wDH0z+XutX7HR7FIA+BnhLwBERETon3/+0T///MNgLyi2Ek8n6fknR8luD54/Kx6PR/v3HtC7XJAHnCW//a2Z0+YU6xa/c3k8hiZ//IWW/73a7FJwjk/emqITR08E9Ciy58tut+vtIeMZARSwmOC5SgNgqjdffl9HDh0Nqotx6cwF+Wf//VL//r3K7FLw/06fStQLQfZBQyab3a7nnniZ1uYAsnzJas2f9Ys8QdKjIZPH49HBPYc05b0ZZpcCwI+C78wJwO/+/P0fzZgaXK0wZ7Pb7HrucS7IA8WbL7+vI4ePBeXvm8ft0b49++n+GSASTyXpnRcnyGYPju6e5zIMQ7M/+17r6P4JWAbhLwCkpKSod+/e6t27t1JSuLhE8ZKWmqYXngrOVphMmd0/x4+ZZHYplvfPnys0c9q3QRn8MmW2NiesXGd2KZb32dgvz3T3DLJWv7PZ7XaNHjJe7gy32aUA8IPgvVorRjwej5YuXaqlS5cG9QUNgtP873/Rwf2Hg/531+MxNG3SV0pKSja7FEubNOFzORwOs8socna7Q5M//tLsMizt9MlEzZ+1KOi6e57L4/HowO6D+ue3FWaXAsAPCH8ALsi0iV8Fdavf2ZKTUjT3mwVml2FZe3fv168//Sm3O/hbKNxut378dpGOHD5mdimW9dPsXy3TGma32/Xd9PlmlwHAD6xxxQagSGxYu1mrlq8N+la/TDabTVM/mRlUI/4VJzOmzgnae69yYhgezZr+ndllWJLH49G30+bLkDX+rXs8Hq1aukZ7d+w3uxQARYzwB6DQpk/+2hJd8DIZhqHNG7Zp1b9rzC7FctJS0/TllNnyBMGcfgV1pqvxLEu0dAaaVX+t0cG9h2SR7CdJsjvs+mHGT2aXAaCIEf4AFMqpk6c1e+Y8y12YOhwOff7p12aXYTkLfvhVJ46fNLsMvzt04LB++/lPs8uwnLmfL5DdYa1LJI/bo/mzflZqcqrZpQAoQtb6ywbAZ36Y85PS09LNLsPv3G635n37k06dPG12KZYyY8psy9xbejaHw66ZU+eYXYalHD96Qn//utxSrcyZkhNT9OfP/5hdBoAiZL0zaYAKDw9XeHi42WUABbZiWYIlL8YlKSPDrXUJzIvlL263W6tWrLPMvaVnc7s9+vfv1dxn6kcbV2+x7PvtcDq0fuUms8sAUIScZhcAKSIiQmvWcA8RipdV/671e5dPV4hL/e7rqU43d9BFVSspOTlF//61SuPfmaR1Cf67YLHb7VqzaoOaXXW5345pZdu37FJaappfj1m3fi11vLGtGje/VJWqVFB0dGmdOpWo1cvX6pNx0/Tv36v8Vsupk6e1f+9BVapSwW/HtLIta7fJ4bDL7aeWv2o1L9LNd96oGpfEKrp8aYWGhSrpdLK2b9ypBV//ol9/WOKXOiTJneHWxtVb/HY8AP5H+ANw3pKSkrVz+26/HtPhcOi9T17RFS2beJeFhoXqmo5Xq0XrZup/9yAt/eNf/xRjk9au3uCfY0FrVq/3+zG733aTbu3TJcuy6LKl1br9VWrZtrkGPjxUC3/4zW/1rFm1gfDnJ5vWbPPr3H6xtS9Wm04tsiwrVaakGjavr4bN66t85XKa+V//df3dvmmXMtIz5HRxiQgEo4D4l711AXPLBIK49h3MLgHFxIY1m/3eLarnHV29wW/T+q16/+3/qm79WnpgQD+FhoXqP28MVqfWt/nlPkSP26NVy9cW+XFwxtrVG+V0OpTh5znXDh08olnTv9Pyv1erVFRJPfhYP1WvWU0Oh0MDX3jEb+HP4XRo7eoNan99K78cz8oMw9CmNf7t9nn6ZKJ+nPmz1vy7XscOH1eJUiXUuc91qntpLUlSp17X+jX8uTPc2rV1j6rXqea3YwLwn4AIf1aXlp6uYR+MkyQNe+hBhbhcJlcE5G1twgbZbDa/XiD16NPZ+3j4oNe1avlaLfzhN8U3rKsWbZqrYuUYtW53pRZ8/6tf6tm354BOnjilUlEl/XI8K0tYsc7vwe+7WfP1xn/eU0rK/0Y+3LJpu2b88F9JUpWqlRRdtrSOHjle5LV43B6tWeX/1k8rOnromE4d9+9gTst+X6llv6/Msmzfzv16e/rLkqTwyDC/1iNJW9ZtJ/wBQcqaozUEGLfHo78SEvRXQoLcFhzQAMXPuoRNfh3spVRUSdWoFStJSk9LV8LK/10Ir1j2v/tlL2/a0G81SfLrfYZW5Xa7tWHtZr8fd/k/q7MEP0nauS1rV+dkPw2JbxhGlt95FJ0t67abenybzaYy5Uvr2u7XeJcl/L3OrzU4nA5tWbfNr8cE4D+0/AE4bwf3H/LrYC9Vqlb0Pj5+/GSWUR+PHjl21nqV/FaTJB0+dMSvx7OipMRkpfp5sJfctL++tffxsqUrlZyU7Ldjnzp5WhkZGXI6OW0XpWOHj5t27FcnDVWdhjW933s8Hi37baXGDv/Ir3W43W4dO3zCr8cE4D+0/AE4b8lJKX493tnToJx7T196esb/1ovwb/eo1JTACCXBLDUlMCacviS+tgYNHyDpTE2vjRjr9xr8PeKpFaWlpstmt5ldhiTJ8Bhyu93+r8fgbxsQzPgIEcB5O7c7XFFLTv5fC0tISNZ7Yl1njUjnz1Bqs9m4GPeDQGj1u6xJA4395BWVLFVC6ekZenbAf0yZ5zE1NU0RkRF+P66VpKemn7mfWf6f5+/9l/6rEqUiVa5CtK7r0U6XNKqtK65porIVovV0n6F+rSVQPnQB4HuEPwDnzd+Tbe/Ztd/7OKpMlBwOh7fbabny0Wett89/Rdkkt8e/g5BYkdkTu195dRONnvCSwiPClZqSqqf7D9ei+X+YUovHT/POWZnb45FZ7X47Nu3yPl7y0z+a/PMHCg0LUa36cap8cUXt3bk/j619i981IHjR7RPAeQsLC/Xr8U6eOKUtm7ZLOtPSV//Sut7nGl5e3/vYnxNvGx5DoX5+H6zIzPf4mo5X692PRyk8IlxJiUnqf/cg04KfZO57YRWhoS75eRYbhYTmMsL3WYVElvRvi29oOL9rQLCi5Q/AeQsz4cLgy89me++5GvbKQL331n91SXxttWjdTJK0f+9B/bJwiV9rCg0N8evxrMis97jDDW306rtD5HQ65fF4NG7MJKWlpuuyJg286ySsWu+XeSUz8ftW9FwhLr+3Nr8xZYQ2rt6itcs36PD+I4qKLqXre7T3BrDU5FTt2rbXrzWFhvG7BgQrwl8ACA8N1YIJ480uAyiwUlGl/D7P3/TJX6tNh6t0RcsmqlknTm+Pf8n7XGpKqoYMHOXXC3FJKlEi0q/Hs6KIiHC//65JUqtrrvCOrGm32/Xkcw9lW+e6Fj21d7d/uuI5XU45XZyyi1qEn1vYpDMfprXv2lrtu7bO8fmJb09Tih/vZ7Y77IqIDM9/RQDFEt0+AZy32pfU8Os8f9KZ4ccfuWuQ3nntQ23dvEOpKak6fuyEfv7xd/W95REt/eNfv9YjnXkfULRcIS5VrVbF7DJMV6tOnGy2wBiFMpjF1qrq92N+/elcLV+8Sof3H1FaaprS09J1YM8h/fr9Yj1393/0/ZcL/VqPYRiKrX2xX48JwH/4GBHAeavXoLZf5/nLlJ6Wro/e+0wfvfeZ3499rhIlI1X5oor5r4gL1vDyetqza59ff+eGDHxFQwa+4rfj5cXpdKhBo0vMLsMSLoqtLFeIy6+9COZOX6C50xf47Xj5MTyGatSrbnYZAIoILX8BIC09XSPGjdeIceOVlu7fbmtAYdSLr2N2Caay2aT4S+vSEuMn9RrUMX3UTzNlZLhVr4G1/835i8PpoNVLUlydamaXAKCIEP4CgNvj0a///qtf//1Xbgtf4KD4KF+hrMqULW12GaZxOBxZRhxF0arfoI7f7/kLNPUbEv78pXZ8nBxOh9llmCamSnm/jy4KwH8IfwAKpUGjSyzb8pWR4Vb9BoQ/f6lTv6Zlf9ekM4O9xNWKNbsMy6hZL07uDGvO4Wm321WnQU2zywBQhAh/AAol/tK6stute0Fer0Fts0uwjIiIcF1c/SKzyzBN7bo15GKkT7+paeH73QwZln79gBUQ/gAUSscbr5Hbbb1uyna7XfGX1mWwFz+76eZrLflhg81mU6ebO5hdhqVcFFdZF1WvLEs2NhvSVe2bml0FgCJE+ANQKNVrXKymVzaS3WGtPyMej0e33XmL2WVYTrdenSRZ72rc6XKqS/frzC7DUmw2m27sfa2sdpup3WFXk6sbqXylcmaXAqAIWeuqDYBP9e53izwWa/0rWaqEOtyQ82TMKDrlYsqq/Q2t5XBYZyAOh8OhG2/uoFJRJc0uxXJa33CVQsNCzC7Drzxuj27oRSszEOwIfwAKrU2Hq1S2XBmzy/Abu8OuHrd3VmhYqNmlWFKvvjebMr+kWdxut3recbPZZVhSeGS42nVpZZ2eDTYppnI5Xdq8vtmVAChiFvmrFtjCQkI05913NOfddxQWYq1PGlG8OZ1O9ep7s+x2a/wpMTwedb+ts9llWFbjZg0VG1fVEiN/2u121WtQh4GFTHRdj3aW6dlgk02del1rmb/lgJXxrzwA2Gw2hYeGKjw01BIXNQgu3XrdaInfW4fDoRZtmuuiiyuZXYpl2Ww23X53d0vM+efxeHT73dxbaqaLa1ykepfVtkTrn9Pl0DWdrza7DAB+EPx/0QAUqfIVyuqhx+80u4wiZ7fb9MyLj5pdhuV163WjatWNC+p7/xwOhxpeVk83dGlvdimWd/+gflLwf9agOwb0VMmoEmaXAcAPCH8BIC09Xa99MlGvfTJRaenpZpcDnLe7HrpNtS+pEdQX5I89e79i46qaXYbluVxOjRr9gtllFCm73aaX3nouqP89FRextS9Wz/u7Bu1As3aHXXUa1FCnXteaXQoAPyH8BQC3x6MflyzRj0uWyO2xxv0FCC4ul1MjRz9vdhlFwuFwqEGjS3T73d3NLgX/r/YlNfTgY/2Ctrvx44Me4IOGAHLL3TepWo2qQdn9026367H/PChHEL42ADnjXzsAn6hdt0ZQdv+02216+e3naYUJMHc/fLtq1qkeVD+XzO6et93FvX6BxOly6omXHwzK7p99H+upytUqml0GAD8i/AHwmWDs/kl3z8AUjN0/6e4ZuGJrX6xb7+tidhk+Q3dPwLoIfwB8xuVy6o33hyuyRESx7yJlt9vUpkMLunsGsNqX1NDzLz1udhk+M/y1Z/mgIUB5PB6dOnxKDlvx/rsmnQl+JaNK6MlXHqG7J2BB/KsH4FOxcVX14dS3FBoaUmznjLLb7WpyRSO98d4wWmECXPfbOuuxZ+83u4wLNnj4Y7qxG60wgcjj8eiTV6bolzl/KMwZInsxvtfUbrcrPCJML014ThUqlze7HAAmKJ5XZgAC2iXxtfXBp68rJMRV7AKg3W5X/KV19c5HIxUSGmJ2OSiAex6+Xfc+0sfsMgrt0afvVe87u5ldBnKQGfx+/uY3Sf8/L68ztFgGQLvdrtCwEA3/4FlVrVHF7HIAmKR4XZUBKDYub9pQH08fo4jI8GLTtchmt6npVZdpwtS3FBEZYXY5OA+PPn2vBjxzn9llnLdnhj6q+/rfYXYZyMG5wS9TcQyAdoddkaUiNOqTIapZP87scgCYqNBXZH///bf69++v+vXrKzIyUhdffLFuvfVWbdy40Zf1WUJYSIhmvPmGZrz5hsJCaGlA8GjQ6BJ9+tV7Kl0mqljcA9iuYyu9999XFBERbnYpOE82m033PtJHz7/0hGw2W0D/vjkcdtntdv3njUHqwz2lASm34JcpMwC6ikG3cLvdrjLlSuvViUMVW/tis8sBYDKbYRiFGry4e/fu+uOPP9SjRw81bNhQ+/fv19ixY3X69Gn9+eefio+PL/C+ti6YX5gS4GNx7TuYXQKC1InjJzXqxTGa+80C2ew2GZ7AGTPd4XDIFeLSM0P765ZeNwbt3HFWsmr5Wj33xMvatX2PCnmKKzI2m01xNatp5OjndUl8bbPLQQ7yC36ZQkJdeuKN/tqxZZcmjf5cbrdbHnfgzNWb+be2XZdWuvup2xVZkt4MAC4g/C1evFhNmjRRyFktVZs2bVKDBg3UvXt3ffbZZwXeF+EvMBD+UNR+/vF3DX3mNZ08eSpgLpKat7hcI14fpEpVKphdCnwoNSVVH4yeqE/GTZPNbjP9983hsMswpPsevUP3979DrhCXqfUgZ+cT/J5661HVb1JXkrRv1wGNeXGC1q8IjN5PdrtdpcqU1IDh9+vyFg3NLgdAACl0+MtN48aNJUnLli0r8DZWD39p6eka9+WXkqQHe/RQiMuciwLCH/zh+LETGvXiGH0/e6Hsdrs8Hv9flNPaZx2rlq/Vc4+/pF079prWCkhrX/FQ2OB39vZzpy8wtRXQbrfJQ2sfgDz4NPwZhqGqVauqfv36mjdvXoG3s3r4S05N1U2PDpAkzXn3HYWHhppSB+EP/rRowR+a8M6nSli5Xg6HQ263u0iPlxnwnE6Hru/SXo88eTetfRaRmpKqSROma+rEmTp65LgcDrvcRXxhbnfY5XF7VD6mrG6/p7vuuLsHrX0B7EKD39n27Tqgz8d9pd/nLZXH4/HLhw6Zv291G9VSz/tv1mVXNijyYwIonnwa/j777DPdcccd+vjjj3X33XfnuE5qaqpSU1OzLNvz+28KtfBAJ4Q/WNn6NZv0xWffaPbMeUpPS5ckn14sZQbLyhdV1G13dlOXHtcrqnQpn+0fxUd6eoYWzf9D0yZ9pX/+XFEkHzpkBssrWjZR7zu76eq2zeV0On16DPiWL4Pf2U4cPamF3/yq7z6fryMHj3oDmq/YbJJhSKFhIWrXpZU6dr9G1WpW9dn+AQQnn4W/9evXq3nz5qpfv75+++23XCdGHjZsmIYPH55l2YA7+uixvn19UUaxRPgDpFMnT2vOzHmaNukr7di2W9L/7pM6n66hTqdDGW63ZJwJfi3bNlfvft10RcvGxW7OQRSdrZu264sps/XNl98r8XSSpP//3ck4vzB49jYlS5XQzT076dY+nXVx7EU+rxm+V1TB72xut0fLF6/Sd5//qJV/rpHH45HNJtnt5/fhg81uk00279/DqnFV1KlXB7W+4SqFRzJCMYCC8Un4279/v1q0aKH09HT9+eefqly5cq7r0vKXHeEPyOrY0eNau3qj1q7eoLWrN2jV8nU6dOBwnts4HA7F1aqmhpfVU70GdVSvQW3VqhPHRO3Ik8fj0a4de///d22jElau09rVG5SclJLndhGR4arfsI7iL71E9RrUVv2GdVWlaiXuHy1G/BH8zpWWmqbtm3Zpy9pt2rJuuzas2qw92/fl+wFX2QrRqh1fQzXrVVfNetUVd0msSkaVuOB6AFjPBYe/EydOqE2bNtq5c6d+++031atX77z3wT1/hD8gP8eOHte+PQeVlpqmlJRUZWRkKDQ0RKFhoQqPCFO12IsIevAJj8ejPbv26cTxk0pNTVNqSppsNikkNERhYaGKKh2lKlUrEvSKMTOCX27SUtO0d+cBpSanKi0tXemp6XK6HAoJcckVGqKYyuUIegB85oJuREhJSdFNN92kjRs3asGCBYUKfgBQEGWiS6tMdGmzy4AF2O12Va1WRVWrVTG7FBSBQAp+Z44Totha3KsHwD8KHf7cbrd69uypJUuW6JtvvtGVV17py7oAAAB8KtCCHwD4W6HD31NPPaXZs2frpptu0tGjR7NN6t6nT58LLs4qQl0ufTbyZe9jAADgWwQ/ALiAe/7atGmjX375Jdfnz2e3Vr/nL1Bwzx8AIBgR/ADgjEK3/C1atMiHZQAAAPgewQ8A/oeZZwNAekaG/vv115Kku7t2lYsJgQEAuGAEPwDIihmPA0CG260vf5yvL3+cf2ZyagAAcEEIfgCQHeEPAAAEFYIfAOSM8AcAAIIGwQ8Ackf4AwAAQYHgBwB5I/wBAIBij+AHAPkj/AEAgGKN4AcABUP4AwAAxRbBDwAKjgnlAkCoy6WPhg31PgYAAPkj+AHA+SH8BQC73a7YypXNLgMAgGKD4AcA549unwAAoFgh+AFA4dDyFwDSMzI0de73kqTbbrheLic/FgAAckLwA4DCI2UEgAy3W5O//VaSdGvHawl/AADkgOAHABeGbp8AACDgEfwA4MIR/gAAQEAj+AGAbxD+AABAwCL4AYDvEP4AAEBAIvgBgG8R/gAAQMAh+AGA7xH+AABAQCH4AUDRYE6BABDicmnsc4O9jwEAsCqCHwAUHcJfAHDY7aobG2t2GQAAmIrgBwBFi26fAADAdAQ/ACh6tPwFgPSMDH21cKEkqVu7dnI5+bEAAKyD4AcA/kHKCAAZbrc+nPmVJKlzmzaEPwCAZRD8AMB/6PYJAABMQfADAP8i/AEAAL8j+AGA/xH+AACAXxH8AMAchD8AAOA3BD8AMI/NMAzD7CKsLikpSfHx8ZKkhIQERUREmFwRAAC+R/ADAHPR8gcAAIocwQ8AzMecAgEgNDRUU6dO9T4GACCYEPwAIDDQ7RMAABQZgh8ABA66fQIAgCJB8AOAwEK3zwCQnp6uadOmSZJ69+4tl8tlckUAAFwYgh8ABB66fQYARvsEAASTjIwMPd/nJe3ZtjfP9Qh+AOBftPwBAACfycjI0ODbRmjfjv15rkfwAwD/454/AADgEwQ/AAhshD8AAHDBCH4AEPgIfwAA4IIUNPg5XQ6CHwCYiPAHAAAKzePxaOJrU/MNfpLU46GbCX4AYCLCHwAAKJTM6RwWffN7vuv2HtBdnW6/1g9VAQByw2ifASAkJEQfffSR9zEAAIGuoPP4SQQ/AAgUzPMHAADOC8EPAIonWv4AAECBFTT42R129XykG8EPAAII4S8ApKen65tvvpEkdenSRS6Xy+SKAADIrqDBj+kcACAw0e0zACQlJSk+Pl6SlJCQoIiICJMrAgAgK4IfABR/AdHyt3XBfLNL8Im49h3MLgEAAJ8j+AFAcGCqBwAAkCuCHwAED8IfAADIEcEPAIIL4Q8AAGRD8AOA4EP4AwAAWRD8ACA4Ef4AAIAXwQ8AgldAjPZpdSEhIRo7dqz3MQAAZiD4AUBwI/wFAKfTqRtuuMHsMgAAFkbwA4DgR7dPAAAsjuAHANZAy18AyMjI0I8//ihJuvbaa+V08mMBAPgHwQ8ArIOUEQDS0tLUv39/SVJCQgLhDwDgFwQ/ALAWun0CAGBBBD8AsB7CHwAAFkPwAwBrIvwBAGAhBD8AsC7CHwAAFkHwAwBrI/wBAGABBD8AAOEPAIAgR/ADAEhM9RAQXC6XXnvtNe9jAAB8heAHAMhE+AsALpdL3bt3N7sMAECQIfgBAM5Gt08AAIIQwQ8AcC5a/gJARkaGfv31V0lSq1at5HTyYwEAFB7BDwCQE1JGAEhLS9O9994rSUpISCD8AQAKjeAHAMgN3T4BAAgSBD8AQF4IfwAABAGCHwAgP4Q/AACKOYIfAKAgCH8AABRjBD8AQEER/gAAKKYIfgCA80H4AwCgGCL4AQDOF3MKBACXy6Vhw4Z5HwMAkBeCHwCgMAh/AcDlcqlv375mlwEAKAYIfgCAwip0t881a9aoR48eiouLU0REhMqVK6dWrVppzpw5vqwPAAD8P4IfAOBCFLrlb8eOHTp16pT69eunypUrKykpSTNnzlTnzp01fvx43X///b6sM6i53W79/fffkqSmTZvK4XCYXBEAINAQ/AAAF8pmGIbhq5253W41btxYKSkpWr9+fYG327pgvq9KMFVc+w6F2i4pKUnx8fGSpISEBEVERPiyLABAMUfwAwD4gk9H+3Q4HKpataqOHz/uy90CAGBZBD8AgK9c8IAviYmJSk5O1okTJzR79mx9//336tmzpy9qAwDA0gh+AABfuuDw99RTT2n8+PGSJLvdrm7dumns2LG5rp+amqrU1NSsy9LSFBoScqGlAAAQNAh+AABfu+Bun48//rjmz5+vSZMm6frrr5fb7VZaWlqu648aNUpRUVFZvsZ9/vmFlgEAQNAg+AEAioJPB3yRpGuvvVbHjx/X0qVLZbPZsj2fU8vfnt9/C4qWPwZ8AYDiz+Px6NCewzp9IlHpaelKT02XbJIrxKWQUJdKRJVQucplZbf79Lb5LMcn+AEAioLPJ3nv3r27HnjgAW3cuFF16tTJ9nxoaKhCQ0OzLDscBMEPAFD8eDweHdx1SNs37NT2dTu1bd127dy4W2kpufdgkaTQsBBdXKeq4urHqlqdixVb92KVr1LuggMhwQ8AUJR8Hv6Sk5MlSSdOnPD1roOW0+nUoEGDvI8BAEVr77Z9+nnWb1o890+lJJ3pjeJwOuTOcBdo+9SUNG1auUVb12yTO8MjSQovEa6Wna5Um5tbquLFFc67JoIfAKCoFbrb58GDBxUTE5NlWXp6uq644gqtW7dOBw8eVIkSJQq0L6vP8wcAKHoZGW4t/3WlFn65SJtWbpHdYZfH7fHpMTL3eUmT2rrmlja6tEW8HE5HvtsR/AAA/lDoZqYHHnhAJ0+eVKtWrVSlShXt379fU6ZM0fr16/Xmm28WOPgBAFCU0lLTNG/qQi38cpFOHT8tu/3M/ei+Dn5n73PDv5u17p+NiooupfY92+raXtfI6cr5lEvwAwD4S6Fb/j7//HN9/PHHWr16tY4cOaKSJUuqcePGevTRR9W5c+fz2pfVW/7cbrcSEhIkSfHx8XI48v+UGACQvy0J2/Th8Ik6vPeIfDy+WYHZbFLFahV139B+qlbn4izPEfwAAP7k89E+C8Pq4Y/RPgHAt9JT0/X1R99q3tSFstkkj8fcU53dYZdhGOrUt6Nuuut6OV1Ogh8AwO8YXQQAEFS2JGzTRyMm6dCewzIMQ+Z/xPm/7qDfTvpByxat0D1D+uqnWb8S/AAAfkX4AwAEjZ9m/qqpb30hm02mdfPMkyEd2HVQL93zmtI9GXmuSvADAPga4Q8AUOwZhqHvJs3TrAlz/v97kwvKg8ftkWEYctmdyvC45TayDzxD8AMAFAXCHwCgWDMMQ1+Nm625k380u5QCs9nOjDjqtDskj7IEQIIfAKCo2M0uAACACzF38o/FKvidy2l3yGE7czom+AEAihItfwCAYmvR17/pq3GzzS7jgjntDjnsDoIfAKBIEf4CgNPp1IABA7yPAQD527Vpt6a8Md3sMnzCkOSw2VU2pozZpQAAghjz/PlQYef5AwCcn4wMt/5z1yvau32/dxqF4s7usCu2zsUaPP4p2R3clQEA8D3OLgCAYmfup/O0e+veoAl+0plRQLeu3a75X/xsdikAgCBF+AsAHo9HGzdu1MaNG+XxBM+FDAAUhV2bdmvOf+ee6SsZhGaO+0b7dx4wuwwAQBAi/AWAlJQUXXfddbruuuuUkpJidjkAELAyMtz6aMQk6f+nSghGhsfQxyM+DapWTQBAYCD8AQCKjV+/+UO7twRXd89zZXb//PPHv80uBQAQZAh/AIBiwTAMLfjiZyl4G/28bDbbmdcKAIAPEf4AAMXCxhWbdWDXwaC91+9shmFox4Zd2r5uh9mlAACCCOEPAFAs/DTjF0tNgWB32PXzrN/MLgMAEESscxYFABRbJ46c0L+/rAjqe/3O5XF79Oe8v5V4MsnsUgAAQYLwBwAIeL/OXmyF3p7ZuDPcWvz9n2aXAQAIEk6zC4DkdDp13333eR8DALJaMu8vGR7rxT/DMLTkh7/Uoec1ZpcCAAgCJI0AEBISosGDB5tdBgAEpJSkFB3cdcjsMkyze8teZWS45XQ6zC4FAFDMEf4AAAFt16bdMgxzW/0ee+MhNbwq3vv9871HaP+OA345tjvDrb1b9+ri2lX9cjwAQPDinr8A4PF4tHv3bu3evVsej3UGMwCAgti+fpdsNvMm92t+bdMswc8MOzbsMvX4AIDgQPgLACkpKWrVqpVatWqllJQUs8sBgICyY8NO2ezmhL8SUZHq/dgt8ng8Sk9LN6UGh9Oh7et3mnJsAEBwIfwBAALaloRtpk3x0Ovx7ipZpqR+nb1YJ46cNKUGd4Zb29ZuN+XYAIDgQvgDAASsjPQMHdpz2JRjxzevpys7NtOxQ8c1471ZptSQafeWvabf9wgAKP4IfwCAgJWSnGpK6AkND9Udz/SSJH32xnQlJ5rbJd+d4ZY7w21qDQCA4o/wBwAIWOmp5txn1+2Bm1SuUln9vfBfrfhtlSk1nMusew4BAMGD8AcACFhmhL+K1SromltaK/Fkoqa+9YXfj5+bNJOCMAAgeDDPHwAgYNkd/v+MMiq6lOwOuyJLRert717JcZ2Xp72onRt3a/ido/xWl93O57UAgAsTEOEvrn0Hs0swlcPhUJ8+fbyPAQBnuEIC4jQVEHgvAAAXijNJAAgNDdWIESPMLgMAAo4rNMTvxzy4+5CmjZ6RbXnnu69XZKlISdJ3k+Zpz7Z9fq3LFeLy6/EAAMGH8AcACFhh4aFyhbj8OtjJsUPHteCLn7Mt79CzrTf8Lf5hqfbvOOC3miJKhMvhpGcIAODCcANBADAMQ0eOHNGRI0eYxwkAzmJ32FW1VhWzyzCXTYq9pJrZVQAAggAtfwEgOTlZTZs2lSQlJCQoIiLC5IoAIHDE1a+uHRt2mT7P3bO3vGjKce12u6rXizXl2ACA4ELLHwAgoFWrU9X04Gcmj9uj2LpVzS4DABAECH8AgIAWW/dis0swXbU6vAcAgAtH+AMABLSKF1ew9EiXESXCFV2hjNllAACCAOEPABDQ7A674uJjZbPbzC7F7+x2u2pdWkM2m/VeOwDA9wh/AICA17pLSxke642G7PF41LprS7PLAAAECcIfACDgNW7TSJGlrDcScunyUWpwRX2zywAABAmmeggADodDt9xyi/cxACArp8upNje30tzJ8yzTAmiz2dTuljayO/icFgDgGzaDWcUBAMXAkf1H9ewtL8oqpy27w643vxmpUtElzS4FABAk+DgRAFAslK0YrYZX1bdES5jdYVeTay4n+AEAfCr4z6DFgGEYSkpKUlJSkmU+0QaAwuh4W3t53B6zyyhyHrdHHXtdY3YZAIAgQ/gLAMnJyYqPj1d8fLySk5PNLgcAAlady2qpVZcWQT3tg81m07W9rlHsJdXMLgUAEGQIfwCAYuXW/jcrKrpUUAZAu92mcpXK6uYHbjK7FABAECL8AQCKlfDIcN0zpG9Qjvrp8Ri6d2g/hYSGmF0KACAIBcRUD1sXzDe7BFMlp6aaXQIAFCv1mtZVqy4t9NucxUETAm02mzr0bKuaDeLMLgUAEKRo+QMAFEu39u+mqLJRQTH6p91hV7nKdPcEABSt4n/GBABYUnhkmJ4a3V+h4aGy24vv6cxutyuiZISefLs/3T0BAEWq+J4tAQCWV7l6JQ0c86icIc5iOQCM3W5TSFiInn53gGIuKm92OQCAIEf4CwAOu12tLr9crS6/XA6Hw+xyAKBYib2kmp58+xGFhLhkL0YB0G63KzQ8VAPfGaCLalQxuxwAgAXYjACYVdzqA76cLa59B7NLAIBiaceGnXpjwDtKSUoN+Ing7Q67IktGaOC7j+miGpXNLgcAYBG0/AEAgkK1OhfrufEDVb5yWdlsAdwCaJMqXlxBz3/4NMEPAOBXhD8AQNCoFFtRwz99Xtfd3l42my2gBoKx2+2y223qfNcNGjpxkMpXKWd2SQAAi6HbZwBITk3VTY8OkCQlJCQoIiLC5IoAoPjbumabPhoxSQd3H5bppzrbmcFp7nuxny6uXdXcWgAAlhU4H4kCAOBDcfWrZ20FNGE+QLvjrNa+TwYR/AAApnKaXQAAAEXFFepS94e76qobrtDPX/2q379dorSUNNlstiJrDczcd1hEqK6+qYXadrtaFarGFMmxAAA4H4Q/AEDQqxxbUbc/eatuebCz/vzxby34YpH2bd8vu8Pus5FBM/dVpUZltb+1jZq1b6LQMCZtBwAEDsIfAMAywiLC1Kbr1WrdpaU2r96qJd8v1aZVW7V/xwF5PB7JdmZglvwCocNhl/v/17E77KocW0k1G8apRacrVP2SaoE92igAwLIIfwAAy7HZbKrVsIZqNawhSUpPTdfuLXu1Y8NObV+/U9vWbtfpE4nKSM9QelqGJMkV4pQrxKUSpUsorl41VatzsarVvVhV4irJFeIy8+UAAFAghD8AgOW5Ql2qXq+aqterZnYpAAAUGcJfAHDY7WoWH3/mscNhcjUAAAAAghHz/AWYuPYdzC4BAAAAQBBinj8AAAAAsADCHwAAAABYAPf8BYDk1FT1eGqgJOmff/9VRESEyRUBAAAACDaEvwCRkpZmdgkAAAAAghjdPgEAAADAAgh/AAAAAGABhD8AAAAAsADCHwAAAABYAOEPAAAAACyA0T4DgN1mU8Patc88tpPHAQAAAPiezTAMw+witi6Yb3YJASOufQezSwAAAAAQhGhmAgAAAAALIPwBAAAAgAX4LPy9/PLLstlsio+P99UuLSM5NVW3PPmUbnnyKSUlJZldDgAAAIAg5JMBX3bv3q2RI0cqMjLSF7uzpBOnT5tdAgAAAIAg5pPwN3DgQF1xxRVyu906fPiwL3YJAAAAAPChC+72+euvv2rGjBkaPXq0D8oBAAAAABSFCwp/brdbjz76qO699141aNDAVzUBAAAAAHzsgrp9jhs3Tjt27NCCBQsKvE1qaqpSU1OzLktLU2hIyIWUAgAAAADIQ6Fb/o4cOaIXX3xRQ4YMUfny5Qu83ahRoxQVFZXla9znnxe2DAAAAABAARS65e+FF15QdHS0Hn300fPabvDgwXryySezLNvz+2+FLSMo2G021a5W7cxjO1MvAgAAAPC9QoW/TZs2acKECRo9erT27t3rXZ6SkqL09HRt375dpUqVUnR0dLZtQ0NDFRoammXZYYt3+QwNCdH7zz8nSQoLCzO5GgAAAADByGYYhnG+Gy1atEht27bNc53HHnuswCOAbl0w/3xLCFpx7TuYXQIAAACAIFSolr/4+HjNmjUr2/IXXnhBp06d0pgxY1SjRo0LLg4AAAAA4BuFavnLTZs2bXT48GElJCSc13ZWb/lLSU3TPcOGSZJ++vVXhYeHm1sQAAAAgKBzQVM9wDcMGTpw5MiZx77L4gAAAADg5dPwt2jRIl/uDgAAAADgI8wrAAAAAAAWQPgDAAAAAAsg/AEAAACABRD+AAAAAMACGO0zANhkU7VKlc48ttlMrgYAAABAMPLpPH+FZfV5/s4W176D2SUAAAAACEJ0+wQAAAAACyD8AQAAAIAFcM9fAEhJTdMjI0dKkua2aKnw8HCTKwIAAAAQbAh/AcCQoR379p15bP4tmAAAAACCEN0+AQAAAMACCH8AAAAAYAGEPwAAAACwAMIfAAAAAFgA4Q8AAAAALIDRPgOATTZVKFv2zGObzeRqAAAAAAQjmxEAcwtsXTDf7BICRlz7DmaXAAAAACAI0e0TAAAAACyA8AcAAAAAFsA9fwEgNS1NT7z+hiTp65ZXKywszOSKAAAAAAQbwl8A8BiGNu7Yceaxx2NyNQAAAACCEd0+AQAAAMACCH8AAAAAYAGEPwAAAACwAMIfAAAAAFgA4Q8AAAAALIDRPgNEVIkSZpcAAAAAIIjZDMMwzC5i64L5ZpcQMOLadzC7BAAAAABBKCDCHwAAAACgaHHPHwAAAABYAOEvAKSkpKh3797q3bu3UlJSzC4HAAAAQBBiwJcA4PF4tHTpUu9jAAAAAPA1Wv4AAAAAwAIIfwAAAABgAYQ/AAAAALAAwh8AAAAAWADhDwAAAAAsgNE+A0R4eLjZJQAAAAAIYjbDMAyziwAAAAAAFC26fQIAAACABRD+AAAAAMACCH8BIDU1VXfffbfuvvtupaamml0OAAAAgCDEgC8BwO12a9GiRd7HAAAAAOBrtPwBAAAAgAUQ/gAAAADAAgh/AAAAAGABhD8AAAAAsADCHwAAAABYAOEPAAAAACzA9PCXmpqqYcOGWXp+u4iICK1bt059+/aVw+EwpQZ+DgAAAEBwsxmGYZhZwMmTJxUVFaUTJ06oVKlSZpZiKrPfB7OPDwAAAKBomd7yBwAAAAAoeoQ/AAAAALAAwh8AAAAAWIDp4S80NFRDhw5VaGio2aWYyuz3wezjAwAAAChapg/4AgAAAAAoeqa3/AEAAAAAih7hDwAAAAAsgPAHAAAAABZA+AMAAAAAC/B5+HvvvfcUGxursLAwNW/eXH/99Vee63/55ZeqW7euwsLC1KBBA82dOzfL84Zh6MUXX1SlSpUUHh6u9u3ba9OmTb4uu0i98sorstlsevzxx3Nd56uvvlKTJk1UunRpRUZGqlGjRpo8eXK29datW6fOnTsrKipKkZGRatq0qXbu3JllnT179qhPnz4qW7aswsPD1aBBA/3zzz8FqvWPP/6Q0+lUo0aNsiz/9ddfddNNN6ly5cqy2Wz6+uuvC7Q/AAAAAIHBp+Fv+vTpevLJJzV06FD9+++/uvTSS9WxY0cdPHgwx/UXL16s3r1765577tHy5cvVtWtXde3aVQkJCd51XnvtNb3zzjsaN26cli5dqsjISHXs2FEpKSm+LL3I/P333xo/frwaNmyY53rR0dF6/vnntWTJEq1atUp33XWX7rrrLs2bN8+7zpYtW9SyZUvVrVtXixYt0qpVqzRkyBCFhYV51zl27JhatGghl8ul77//XmvXrtWbb76pMmXK5Fvr8ePH1bdvX7Vr1y7bc4mJibr00kv13nvvncerBwAAABAofDrVQ/PmzdW0aVONHTtWkuTxeFS1alU9+uijGjRoULb1e/bsqcTERH377bfeZVdccYUaNWqkcePGyTAMVa5cWU899ZQGDhwoSTpx4oQqVKigiRMnqlevXr4qvUicPn1al19+ud5//3299NJLatSokUaPHl3g7S+//HJ16tRJ//nPfyRJvXr1ksvlyrFFMNOgQYP0xx9/6Lfffjvvenv16qVatWrJ4XDo66+/1ooVK3Jcz2azadasWeratet5HwMAAACAOXzW8peWlqZly5apffv2/9u53a727dtryZIlOW6zZMmSLOtLUseOHb3rb9u2Tfv378+yTlRUlJo3b57rPgPJI488ok6dOmV7jfkxDEMLFy7Uhg0b1KpVK0lngvR3332n2rVrq2PHjoqJiVHz5s2zdb+cPXu2mjRpoh49eigmJkaXXXaZPvzww3yP+cknn2jr1q0aOnToedUKAAAAoHjwWfg7fPiw3G63KlSokGV5hQoVtH///hy32b9/f57rZ/7/fPYZKD7//HP9+++/GjVqVIG3OXHihEqUKKGQkBB16tRJ7777rjp06CBJOnjwoE6fPq1XXnlF1113nX788UfdfPPN6tatm3755RfvPrZu3aoPPvhAtWrV0rx58/TQQw9pwIABmjRpUq7H3bRpkwYNGqTPPvtMTqez8C8aAAAAQMDiSr8I7Nq1S4899pjmz5+f5X68/JQsWVIrVqzQ6dOntXDhQj355JOKi4tTmzZt5PF4JEldunTRE088IUlq1KiRFi9erHHjxql169aSzrQQNmnSRCNHjpQkXXbZZUpISNC4cePUr1+/bMd0u9267bbbNHz4cNWuXftCXzoAAACAAOWz8FeuXDk5HA4dOHAgy/IDBw6oYsWKOW5TsWLFPNfP/P+BAwdUqVKlLOucOxplIFm2bJkOHjyoyy+/3LvM7Xbr119/1dixY5WamiqHw5FtO7vdrpo1a0o6E+zWrVunUaNGqU2bNipXrpycTqfq1auXZZtLLrlEv//+u/f7SpUq5bjOzJkzc6z11KlT+ueff7R8+XL1799f0pkAaRiGnE6nfvzxR11zzTWFeyMAAAAABAyfdfsMCQlR48aNtXDhQu8yj8ejhQsX6sorr8xxmyuvvDLL+pI0f/587/rVq1dXxYoVs6xz8uRJLV26NNd9BoJ27dpp9erVWrFihferSZMmuv3227VixYocg19OPB6PUlNTJZ15f5s2baoNGzZkWWfjxo2qVq2a9/sWLVrku87ZSpUqla3WBx98UHXq1NGKFSvUvHnz83npAAAAAAKUT7t9Pvnkk+rXr5+aNGmiZs2aafTo0UpMTNRdd90lSerbt6+qVKnivQ/uscceU+vWrfXmm2+qU6dO+vzzz/XPP/9owoQJkuSdG++ll15SrVq1VL16dQ0ZMkSVK1cO6JEmS5Ysqfj4+CzLIiMjVbZsWe/yc9+LUaNGqUmTJqpRo4ZSU1M1d+5cTZ48WR988IF3H08//bR69uypVq1aqW3btvrhhx80Z84cLVq0yLvOE088oauuukojR47Urbfeqr/++ksTJkzwvqeSNHjwYO3Zs0effvqp7HZ7tlpjYmIUFhaWZfnp06e1efNm7/fbtm3TihUrFB0drYsvvvjC3zQAAAAARcqn4a9nz546dOiQXnzxRe3fv1+NGjXSDz/84B2wZefOnbLb/9fYeNVVV2nq1Kl64YUX9Nxzz6lWrVr6+uuvs4SOZ555RomJibr//vt1/PhxtWzZUj/88MN53UsXiM59LxITE/Xwww9r9+7dCg8PV926dfXZZ5+pZ8+e3nVuvvlmjRs3TqNGjdKAAQNUp04dzZw5Uy1btvSu07RpU82aNUuDBw/WiBEjVL16dY0ePVq33367d519+/Zlmxg+P//884/atm3r/f7JJ5+UJPXr108TJ04835cPAAAAwM98Os8fAAAAACAw+eyePwAAAABA4CL8AQAAAIAFEP4AAAAAwAIIfwAAAABgAYQ/AAAAALAAwh8AAAAAWADhDwAAAAAsgPAHAAAAABZA+AMAAAAACyD8AQAAAIAFEP4AAAAAwAIIfwAAAABgAYQ/AAAAALAAwh8AAAAAWADhDwAAAAAsgPAHAAAAABZA+AMAAAAACyD8AQAAAIAFEP4AAAAAwAIIfwAAAABgAYQ/AAAAALAAwh8AAAAAWADhDwAAAAAsgPAHAAAAABZA+AMAAAAACyD8AQAAAIAFEP4AAAAAwAIIf7CUXbt2KSwsTH/88YdP9nfkyBFFRkZq7ty5BVp/2LBhstlsstlsKlGihE9qgP8dP37c+3O02Wx64403zC4JAJCPL774QtHR0Tp9+rRP9vfDDz+oRIkSOnToUIHWb9Omjfe8ceONN/qkBvjf119/neUa4J9//jG7pPNC+POxiRMn5vmL0KZNG8XHx/u5quIjKSlJw4YN06JFi4pk/yNGjFDz5s3VokUL77I//vhDl19+uUqWLKk2bdpo/fr12bYbMGCAOnbsmG152bJlde+992rIkCHnVcfkyZP18ccf5/p8s2bNZLPZ9MEHH5zXfoub1NRUPfvss6pcubLCw8PVvHlzzZ8/v8Db79mzR7feeqtKly6tUqVKqUuXLtq6dWuWdZKTk3XPPfcoPj5eUVFRKlGihC699FKNGTNG6enpWdY9+8R87pfL5fKuFxkZqcmTJ+vtt9++sDcAgM9s2bJFDzzwgOLi4hQWFqZSpUqpRYsWGjNmjJKTk73rxcbGymaz6dFHH822j0WLFslms2nGjBnZnluzZo369OmjKlWqKDQ0VJUrV9btt9+uNWvWZFkvt78h534V1XmuOFu7dq2GDRum7du3+3zfbrdbQ4cO1aOPPprlw9fx48erevXqio6O1h133KGTJ09m2c7j8eiyyy7TyJEjs+3zuuuuU82aNTVq1KgC11G3bl1NnjxZAwcOzPH548ePKywsTDabTevWrSvwfoubr776Sj179lRcXJwiIiJUp04dPfXUUzp+/HiB97Fu3Tpdd911KlGihPfnl18QnzJlSp4fwHs8Hn3wwQdq1KiRwsPDVbZsWV1zzTVauXKld50mTZpo8uTJuv/++wtca0Ax4FOffPKJIcn4+++/c3y+devWRv369f1cVfFx6NAhQ5IxdOhQn+/74MGDhsvlMqZOnepddvz4caNs2bJGp06djA8++MBo3ry5Ua9ePSMjI8O7TkJCghEWFmasWbMmx/2uXbvWkGQsXLgw3xqGDh1q5PfPbuPGjYYkIzY21mjRokUBX13x1KtXL8PpdBoDBw40xo8fb1x55ZWG0+k0fvvtt3y3PXXqlFGrVi0jJibGePXVV4233nrLqFq1qnHRRRcZhw8f9q535MgRo3nz5sbTTz9tvPfee8YHH3xg3HHHHYbNZjN69+6dZZ8//vijMXny5Cxf48aNMyQZN9xwQ7Yatm3bZkgyXn/99Qt/MwAU2rfffmuEh4cbpUuXNgYMGGBMmDDBGDt2rNGrVy/D5XIZ9913n3fdatWqGZKM0NBQY8+ePVn28/PPPxuSjC+//DLL8pkzZxohISFGxYoVjeeff9746KOPjBdeeMGoVKmSERISYnz11Vfedc/9G9KhQwdDUrbl+/fvL9o3pRj68ssvDUnGzz//7PN9z5o1y7DZbMbu3bu9y3777TfDZrMZjz32mDFmzBijYsWKxv33359lu3HjxhnVq1c3UlJSctzv+++/b0RERBgnT57Mt4bWrVsbrVu3znOdCRMmGGFhYd7ftWBVtmxZo0GDBsaQIUOMDz/80BgwYIAREhJi1K1b10hKSsp3+127dhnlypUzatSoYYwZM8Z4+eWXjTJlyhiXXnqpkZqamuM2p06dMipXrmxERkYakZGROa7Tr18/w+l0Gnfffbfx4YcfGqNHjzb69etn/Pjjj9nWze+aP1AR/nwsEMLf6dOnc1zu8XgK9A8qL8nJyYbb7S7w+unp6bn+I8xJUYa/t956ywgPDzdOnTrlXfb9998bERERRnJysmEY/7uYX79+vXed9u3bG48++mie+46PjzfuuOOOfGsoSPh78cUXjZiYGGPmzJmGzWYztm3blu9+i6OlS5dmC07JyclGjRo1jCuvvDLf7V999VVDkvHXX395l61bt85wOBzG4MGD892+f//+hiRj3759ea43efJkQ5IxZcqUbM8R/gDzbd261ShRooRRt25dY+/evdme37RpkzF69Gjv99WqVTPq169vOJ3ObH/bcwp/mzdvNiIiIoy6desaBw8ezLL+oUOHjLp16xqRkZHGli1bcqzvkUceyffvvi8lJibmuPx8z8c5ye36wlfrF2X469y5s9GyZcssy5599lmjbdu23u8/+eQTo2LFit7vjx07ZpQrV86YOXNmrvs9cOCA4XA4jI8//jjfGgoS/lq1amV069bNeOKJJ4zq1avnu8/iKqef8aRJkwxJxocffpjv9g899JARHh5u7Nixw7ts/vz5hiRj/PjxOW7z7LPPGnXq1DFuv/32HMPf9OnTDUlZPszJS3ENf3T7DGBLly7Vddddp6ioKEVERKh169bZ7lXLvIds7dq1uu2221SmTBm1bNlS0pmuLTfeeKPmzZunJk2aKDw8XOPHj5ckbd26VT169FB0dLQiIiJ0xRVX6Lvvvsuy78zuL59//rleeOEFValSRREREdm6RGTavn279/6n0aNHq0aNGgoNDdXatWuVlpamF198UY0bN1ZUVJQiIyN19dVX6+eff86yffny5SVJw4cP93aNGTZsmHed9evXq3v37oqOjlZYWJiaNGmi2bNnF+j9/Prrr9W8efMsTf3JyckKCwtTWFiYJCk6OlrSme6nmdssX75cw4cPz3PfHTp00Jw5c2QYRoFqycvUqVPVvXt33XjjjYqKitLUqVO9z82YMUM2m02//PJLtu3Gjx8vm82mhIQE77Ivv/xS9erVU1hYmOLj4zVr1izdeeedio2NveA6L9SMGTPkcDiydJsICwvTPffcoyVLlmjXrl35bt+0aVM1bdrUu6xu3bpq166dvvjii3yPn/ke5NfFZOrUqYqMjFSXLl3y3ScA/3vttdd0+vRpffzxx6pUqVK252vWrKnHHnssy7LY2Fj17dtXH374ofbu3Zvn/l9//XUlJSVpwoQJ3nNUpnLlymn8+PFKTEzUa6+9duEv5iyfffaZGjdurPDwcEVHR6tXr17Z/i5m3kqybNkytWrVShEREXruuefyPB9L0k8//aSrr75akZGRKl26tLp06ZKti2Fe1xc5ybzt5ZdfftHDDz+smJgYXXTRRZKkHTt26OGHH1adOnW8Xel69OiRpXvnxIkT1aNHD0lS27Ztc+we+/3333vrLlmypDp16pSt221OUlJS9MMPP6h9+/ZZlicnJ6tMmTLe76Ojo73n/8z3oEGDBurWrVuu+46JiVHDhg31zTff5FtHfnbu3KnffvtNvXr1Uq9evbRt2zYtXrzY+3z//v1VokSJLDVm6t27typWrCi32y3pTPfFYcOGqXLlyoqIiFDbtm21du1axcbG6s4777zgWi9UmzZtsi27+eabJalA3V1nzpypG2+8URdffLF3Wfv27VW7du0crwE2bdqkt99+W2+99ZacTmeO+3zrrbfUrFkz3XzzzfJ4PEpMTCzgqyleCH9F5MSJEzp8+HC2r3PvMcrNTz/9pFatWunkyZMaOnSoRo4cqePHj+uaa67RX3/9lW39Hj16KCkpSSNHjtR9993nXb5hwwb17t1bHTp00JgxY9SoUSMdOHBAV111lebNm6eHH35YL7/8slJSUtS5c2fNmjUr277/85//6LvvvtPAgQM1cuRIhYSE5Fn7J598onfffVf333+/3nzzTUVHR+vkyZP66KOP1KZNG7366qsaNmyYDh06pI4dO2rFihWSpPLly3vvcbv55ps1efJkTZ482ftHd82aNbriiiu0bt06DRo0SG+++aYiIyPVtWvXHOs+W3p6uv7++29dfvnlWZZfdtllOnHihN58803t2LFDQ4cOVVRUlOrUqaPU1FQ99dRTGj58eJaTQ04aN26s48ePF+gklJelS5dq8+bN6t27t0JCQtStWzdNmTLF+3ynTp1UokSJHP+wTZ8+XfXr1/feU/rdd9+pZ8+ecrlcGjVqlLp166Z77rlHy5YtK3R9qampOf5e5/SVn+XLl6t27doqVapUluXNmjWTJO/vRU48Ho9WrVqlJk2aZHuuWbNm2rJli06dOpVleVpamg4fPqxdu3Zp1qxZeuONN1StWjXVrFkz1+McOnRI8+fPV9euXRUZGZnvawLgf3PmzFFcXJyuuuqq89ru+eefV0ZGhl555ZV89x8bG6urr746x+dbtWql2NjYbB+gXoiXX35Zffv2Va1atfTWW2/p8ccf18KFC9WqVatsH1gdOXJE119/vRo1aqTRo0erbdu23udyOh8vWLBAHTt21MGDBzVs2DA9+eSTWrx4sVq0aJHjvXa5XV/k5uGHH9batWv14osvatCgQZKkv//+W4sXL1avXr30zjvv6MEHH9TChQvVpk0bb5Bp1aqVBgwYIEl67rnnvNcAl1xyiaQz98pnngNfffVVDRkyRGvXrlXLli3zvUdw2bJlSktLy3YN0LRpU/3www/68ccftWnTJr355pvec9DatWs1btw4jR49Ot/X3Lhx4ywhrbCmTZumyMhI3XjjjWrWrJlq1KiR5RqgZ8+eSkxMzPa7lpSUpDlz5qh79+5yOBySpMGDB2v48OFq0qSJXn/9ddWqVUsdO3a8oEBz+vTpAp3/T5w4Uaj979+/X9KZD1XysmfPHh08eDDXa4Dly5dnW/7444+rbdu2uuGGG3Lc58mTJ/XXX3+padOmeu6557xjBMTFxRXoA+Vixeymx2CT2QSc11d+3T49Ho9Rq1Yto2PHjobH4/EuT0pKMqpXr2506NDBuyyzG+G59y4Zxv/ua/jhhx+yLH/88ccNSVnuqzp16pRRvXp1IzY21tutM7P7S1xcXIG6i2Z2gStVqlS2rjEZGRnZupscO3bMqFChgnH33Xd7l+XV7bNdu3ZGgwYNsvS793g8xlVXXWXUqlUrz9o2b95sSDLefffdbM+9/vrrhsPhMCQZ4eHh3nsCX375ZSM+Pj7L/X+5Wbx4sSHJmD59ep7r5dfts3///kbVqlW9P/cff/zRkGQsX77cu07v3r2NmJiYLHXt27fPsNvtxogRI7zLGjRoYFx00UVZurkuWrTIkGRUq1Yt39eUk4L8fmd+5ad+/frGNddck235mjVrDEnGuHHjct028/fk7Neb6b333svWddcwDGPatGlZ6mvSpImxatWqPGt89913DUnG3Llzc3yebp+AuU6cOGFIMrp06VLgbapVq2Z06tTJMAzDuOuuu4ywsDBvd9Fzu30eP368QPvv3LmzISnH+77Ot9vn9u3bDYfDYbz88stZlq9evdpwOp1Zlrdu3TrHv5d5nY8bNWpkxMTEGEeOHPEuW7lypWG3242+fft6l+V1fZGTzPNDy5Yts503c7qGWLJkiSHJ+PTTT73Lcuv2eerUKaN06dJZ7t00DMPYv3+/ERUVlW35uT766CNDkrF69eosyzMyMoxu3bp5zwtVq1b1nheuvfZa48EHH8z3dRuGYYwcOdKQZBw4cCDP9fLr9tmgQQPj9ttv937/3HPPGeXKlTPS09MNwzhzzVOlShXjlltuybLdF198YUgyfv31V8MwzrwvTqfT6Nq1a5b1hg0bZkgy+vXrV6DXda5+/foV6PyfX9fW3Nxzzz2Gw+EwNm7cmOd6f//9d7bfnUxPP/20ISnLteK3335rOJ1O79gN/fr1y9bt899//zUkGWXLljUqVKhgvP/++8aUKVOMZs2aGTabzfj++++zHau4dvvMud0TF+y9995T7dq1sy1/6qmnvE3yuVmxYoU2bdqkF154QUeOHMnyXLt27TR58mR5PB7Z7f9ruH3wwQdz3Ff16tWzjVI5d+5cNWvWLEv3jRIlSuj+++/X4MGDtXbt2iwjkvbr10/h4eF51ny2W265JVvXGIfD4f00yuPx6Pjx4/J4PGrSpIn+/ffffPd59OhR/fTTTxoxYoROnTqVpVWnY8eOGjp0qPbs2aMqVarkuH3m+5hTC97AgQN1xx13aNu2bapTp47KlCmjvXv3atSoUfr666+VkZGhxx9/XN98840qVqyot99+O8tooWfvtyAtXrnJyMjQ9OnT1a9fP9lsNknSNddco5iYGE2ZMkWNGjWSdOaTv2nTpmnRokVq166dpDNdID0ej3r27ClJ2rt3r1avXq3nnnsuSzfX1q1bq0GDBrl23c1Px44dz2s0zrwkJycrNDQ02/LMLrhnj86X07aSzmv7tm3bav78+Tp+/LgWLlyolStX5vsJ6NSpU1W+fHl16NAh7xcDwBSZf8tKlixZqO1feOEFTZ48Wa+88orGjBmT7fnMc01++898/uTJk4WuJdNXX30lj8ejW2+9Ncs5pWLFiqpVq5Z+/vlnPffcc97loaGhuuuuu3Lc17nn43379mnFihV65plnvLc5SFLDhg3VoUOHHKctyu36Ijf33Xef93yf6exriPT0dJ08eVI1a9ZU6dKl9e+//+qOO+7Ic5+Zf7t79+6d5T1xOBxq3rx5lltIcpLbNYDD4dDMmTO1efNmnThxQvXr11dYWJhmz56tv/76S1OmTNGePXv04IMPatmyZWrcuLHGjx+vypUrZ9nP2dcAMTExedaSm1WrVmn16tVZRg7t3bu3Ro4cqXnz5qlTp06y2Wzq0aOHxo8fr9OnT3vP79OnT1eVKlW813ULFy5URkaGHn744SzHePTRR7PcSnO+nnnmGfXp0yff9fLrLZWTqVOn6uOPP9YzzzyjWrVq5bluQa8BQkNDlZaWpieeeEIPPvig6tWrl+s+M6f/OHLkiP788081b95cktS5c2dVr15dL730kq677rrzfl2BiPBXRJo1a5Zjc3SZMmXyDQibNm2SdCZ05ebEiRNZ/nFVr149x/VyWr5jxw7vL/XZMrtW7NixI0v4y23fuclt/UmTJunNN9/U+vXrs3R/Lcj+N2/eLMMwNGTIkFynVTh48GCu4S+Tkcs9eRUqVFCFChW83z/77LNq166d2rVrpxdeeEELFy7U9OnT9fPPP6tTp07avn27SpcunW2/maGtMH788UcdOnRIzZo10+bNm73L27Ztq2nTpunVV1+V3W733gc6ffp0b/ibPn26GjVq5P3AYceOHZKUY5fGmjVrFihw56RSpUo53lNTGOHh4UpNTc22PCUlxft8XttKOq/tz/4Zd+/eXSNHjlSHDh20adMmVaxYMdt+tm7dqiVLlqh///653h8AwFyZ3cbP7eZdUHFxcbrjjjs0YcIEbxfFs2UGufz2X9CQWBCbNm2SYRi5XgCfPe2MJFWpUiXX2zHOPb9mnhvq1KmTbd1LLrlE8+bNU2JiYpZu7r64BkhOTtaoUaP0ySefaM+ePVnOxQXpIph5XXTNNdfk+Py5tw/kJrdrgLPPlWlpaXrqqac0dOhQlStXTldffbUqVaqkOXPm6JVXXtFtt92WbZoOX1wDfPbZZ4qMjFRcXJz3GiAsLEyxsbGaMmWKOnXqJOnMB8CjR4/W7Nmzddttt+n06dOaO3euHnjgAe/xc7sGiI6OLlQwy1SvXr08A1Rh/fbbb7rnnnvUsWNHvfzyy/mufz7XAG+//bYOHz6c79gNmetXr149yzVyiRIldNNNN+mzzz5TRkZGUFwPFP9XEIQ8Ho+kMzeZZ7b2nOvc+Ulyu1A+nxa73JzvPnJa/7PPPtOdd96prl276umnn1ZMTIwcDodGjRqlLVu25LvPzPdk4MCBOc63J+UcdDKVLVtWknTs2LF8j/Xnn39qxowZ3oFTpk2bpiFDhujKK6/UlVdeqfHjx+vbb7/N8ulX5n7z66eel8x+/bfeemuOz//yyy9q27atQkNDvfc5vv/++zpw4ID++OOPHOcg8rXk5OQC9+XPKVCdrVKlStqzZ0+25fv27ZOkbJ+sni06OlqhoaHedc93e+lMAHz++ef1zTff6IEHHsj2fOZAO7fffnue+wFgnlKlSqly5cpZBro6X88//7wmT56sV199VV27ds3yXFRUlCpVqqRVq1bluY9Vq1apSpUqBQ4hefF4PLLZbPr++++ztaBJBT//5/dcQfniGuDRRx/VJ598oscff1xXXnmloqKiZLPZ1KtXL+/5PS+Z60yePDnHc0t+F+RnXwNkDkKTm7fffltOp1P9+/fXrl279Pvvv2vbtm2KjY3Va6+9pri4OO3evTvLfi70GsAwDE2bNk2JiYk5hquDBw96W/quuOIKxcbG6osvvtBtt92mOXPmKDk52dvzpyidOHEiz145mUJCQrK0LOdl5cqV6ty5s+Lj4zVjxowChavMD6FzuwbIvEY4ceKEXnrpJT388MM6efKkt6fA6dOnZRiGtm/froiICMXExHivGc5uCMgUExOj9PR0JSYmKioqqkCvK5AR/gJQjRo1JJ05qZ07MpUvVKtWTRs2bMi2PHNy82rVqvn8mDNmzFBcXJy++uqrLJ+MDR06NMt6uX1qFhcXJ+nMJ56FeU8uvvhihYeHa9u2bXmuZxiGBgwYoMcee8z7c9i7d2+WIFG5cuVsoSVzv5mtp+crMTFR33zzjXr27Knu3btne37AgAGaMmWK90b+nj17atKkSVq4cKHWrVsnwzCy/OHP/Bme3YKYKadlBTV9+vRcuxedK7dPWDM1atRIP//8s06ePJnlgmnp0qXe53Njt9vVoEED/fPPP9meW7p0qeLi4vL9BD7zBJZbmJ06dapq1KihK664Is/9ADDXjTfeqAkTJmjJkiW68sorz3v7GjVqqE+fPho/fnyOvWJuvPFGffjhh/r9999zHO3yt99+0/bt23P8EKkwatSoIcMwVL169RxvH7kQmeeG3K4BypUrVySDW82YMUP9+vXTm2++6V2WkpKSbfCa3K4BMs/HMTExhboGqFu3rqQz5+oGDRrkut6+ffv00ksv6csvv5TT6fSOBJt5DZD5/z179mQJf9u2bVO5cuWy3fJSUL/88ot2796tESNGZLuOOHbsmO6//359/fXX3g+db731Vo0ZM0YnT57U9OnTFRsbm+VcdfY1wNktsUeOHCnQh+C5eeyxxzRp0qR812vdunW21tGcbNmyRdddd51iYmI0d+7cXCdeP1eVKlVUvnz5HK8B/vrrL+/1w7Fjx3T69Gm99tprOY7GW716dXXp0kVff/21KleurIoVK+b4ofTevXsVFhbmk5b9QMBonwGocePGqlGjht544w1vH+SzHTp06IL2f8MNN+ivv/7SkiVLvMsSExM1YcIExcbGFkmTfuanl2cHgqVLl2apQZIiIiIkZR9+PyYmRm3atNH48eNz/KQnv/fE5XKpSZMmOf6hONvEiRO1a9cuPf/8895lFSpU8Abj9PR0bd68Odsnj8uWLVNUVJTq16+f5/5zM2vWLCUmJuqRRx5R9+7ds33deOONmjlzpreLQ/v27RUdHa3p06dr+vTpatasWZY/8JUrV1Z8fLw+/fTTLL9Dv/zyi1avXp3t+Fu2bClQC2zmPX8F+cpP9+7d5Xa7NWHCBO+y1NRUffLJJ2revLmqVq3qXb5z507vz+Ds7f/+++8sP9MNGzbop59+8g4XLp25ByOnIPrRRx9JUo7ds5cvX65169bptttuy/d1ADDXM888o8jISN177706cOBAtue3bNmS4/18Z3vhhReUnp6e4wXi008/rfDwcD3wwAPZ7sM/evSoHnzwQUVEROjpp5++sBfy/7p16yaHw6Hhw4dn+9tlGEa2Gs5HpUqV1KhRI02aNCnLeTYhIUE//vhjriMhXiiHw5Httbz77rvZxkDIDJ7nXgN07NhRpUqV0siRI3McNT2/a4DGjRsrJCQk32uAQYMGqVWrVt57uzJbgTLPP5lTEOR0DVCYDx4yZXb5fPrpp7Od/++77z7VqlUr26ifqampmjRpkn744YdsPYbatWsnp9PpHUE909ixY7MdOz09XevXr8/x2upczzzzTIHO/2eH/Nzs379f1157rex2u+bNm5dncM7pGuWWW27Rt99+m2X6k4ULF2rjxo3ea4CYmBjNmjUr21fbtm0VFhamWbNmafDgwd7te/bsqV27dmW5hjl8+LC++eYbXXPNNVnG2ijOaPkLQHa7XR999JGuv/561a9fX3fddZeqVKmiPXv26Oeff1apUqU0Z86cQu9/0KBBmjZtmq6//noNGDBA0dHRmjRpkrZt26aZM2cWyS/3jTfeqK+++ko333yzOnXqpG3btmncuHGqV69elnASHh6uevXqafr06apdu7aio6MVHx+v+Ph4vffee2rZsqUaNGig++67T3FxcTpw4ICWLFmi3bt3a+XKlXnW0KVLFz3//PPZWpoynTp1Ss8995xGjhyZ5dOd7t27a8SIEfJ4PPrjjz+UkpKS7QQ5f/583XTTTYXu7z9lyhSVLVs216HKO3furA8//FDfffedunXrJpfLpW7duunzzz9XYmKi3njjjWzbjBw5Ul26dFGLFi1011136dixYxo7dqzi4+OzfaiQee9gfsNl+/Kev+bNm6tHjx4aPHiwDh48qJo1a2rSpEnavn27Pv744yzr9u3bV7/88kuWi4eHH35YH374oTp16qSBAwfK5XLprbfeUoUKFfTUU0951/vss880btw4de3aVXFxcTp16pTmzZvn/ZnldA9J5kmWLp9A4KtRo4amTp2qnj176pJLLlHfvn0VHx+vtLQ0LV68WF9++WW+85pltv7l1KpRq1YtTZo0SbfffrsaNGige+65R9WrV/f+rTp8+LCmTZvmbZ3yxet56aWXNHjwYG3fvl1du3ZVyZIltW3bNs2aNUv333+/Bg4cWOj9v/7667r++ut15ZVX6p577tH/tXfvYVGVeRzAv2fAGZCrKcilRMmM7EKCSUSbmohUoqRluS6psbW12NpT2mP67Fqum7VdXde00tWtx5W85K4Pmq6kZnhDUbzmDSUv64W1FVEkbr/9wxjmzDkzAwoz48z38zw8MGfe9z2/9zfD+c0LM+dcuXIFM2bMQEhIyHWdDMSegQMH4osvvkBISAi6d++OzZs3Iz8/3/x2zAb33nsvfHx88M4776C8vBwmk8l84rNZs2YhKysLCQkJePrppxEWFobjx49jxYoVSElJ0V3YNPDz80NaWhry8/MxZcoU3TaFhYX48ssvVW/x7dy5M3r27IlRo0YhOzsbc+bMQVJSkuodUufOncPu3buRk5NzTbn56aefsHTpUvTv3998shJrgwYNwvTp03Hu3DmEh4cjISEBXbt2xaRJk/DTTz9p3vLZsWNHjB07Fu+//z4GDRqE9PR07Nq1C19//TU6dOigeq1y6tQp3HHHHRg5ciTmz59vN9aW/Mxfeno6jh49itdeew0FBQUoKChQxW95ojW91ygTJ07E4sWL0bdvX4wdOxaXLl3Cu+++i7vvvtv8DqW2bdtq3soNXL2Gc2Fhoea+119/HYsWLcLQoUPxyiuvICQkBLNnz0ZNTY1TPlrjNE4+u6jHc3Ta1969ezu81EODnTt3ypAhQ6R9+/ZiMpkkJiZGhg0bJt988425TcOpmMvKyjT9LU9nba2kpESeeOIJCQ0NFT8/P+nVq5fk5eWp2lif8toRe6e9r6+vl7feektiYmLEZDJJjx49JC8vT0aOHKm57MCmTZskMTFRjEaj5rIPJSUl8swzz0hERIS0adNGoqOjZeDAgbJkyRKH8Z09e1Z8fX3liy++0L1//Pjx0rNnT9XlNURELl26JM8884yEhoZKXFyc5tIZ33//vQCQ/Px8hzHoXeqhIa6srCyb/SorK6Vt27by+OOPm7etWbNGAIiiKHLixAndfrm5uRIXFycmk0nuuusuWb58uQwdOlTi4uJU7WJiYq758g/X48qVKzJu3DiJiIgQk8kk9913nya/Io2nM7d24sQJeeKJJyQ4OFgCAwNl4MCBcvjwYVWbbdu2yZNPPimdOnUSk8kkAQEBkpCQIB988IH59NmW6urqJDo6WhISEhzGz0s9ELmPQ4cOyXPPPSedO3cWo9EoQUFBkpKSIjNmzFCd9t1WbTx8+LD5sj96dW/37t0yfPhwiYyMlDZt2khERIQMHz5cc/kAa8291EODpUuXyoMPPigBAQESEBAgcXFxkpOTIwcPHjS3sfWawtGxKT8/X1JSUsTf31+Cg4MlIyND9u/fr2pj7/WFHnuvf/73v//J6NGjpUOHDhIYGCgDBgyQAwcOSExMjOayA5999pnExsaaHwvLyz6sW7dOBgwYICEhIeLn5ye33nqrjBo1SrZv3+4wvq+++koURZHjx49r7quvr5ekpCR55ZVXNPcdOXJEHnroIQkMDJSHHnpISkpKVPfPmjVL2rZtq3uZD2t6l3pYunSpAJC5c+fa7Ndwmabp06ebt02aNEkASNeuXXX71NbWyu9//3uJiIgQf39/efjhh+X777+X9u3bqy5h0fBcudbLP1wrNONSEbZeo+zdu1fS0tKkbdu2EhoaKiNGjJAzZ8443LfepR4alJSUyOOPPy7BwcHmvBUWFuq2vVEv9aCIOPhgDpEHyc7OxqFDh/Ddd9+12Jgvv/wyNmzYgKKiIof/+XvjjTfw5ptvoqysDIqiaP7q6Qz33nsvwsLCWuySDd5Ifn7r1YkTJ5CQkIB33333uv4ST0RErauurg7du3fHsGHD8Mc//rHFxu3Rowf69OmDDz/80GHbPn36oKamBv/6179gNBpb5ARBzXHhwgW0a9cOU6dOVX28hZqnuroaFy9eRG5uLl566SVs27ZN9yMk7soz3rxK1ESTJ0/Gtm3bsHHjxhYZ7/z585gzZw6mTp3arLd8hoWFtcqJdSzV1NSgtrZWtW39+vXYtWsX+vTp06r79nTl5eUICwtDQkKCq0MhIqIm8PHxwZQpUzBz5kzd8ylci1WrVuHw4cOqz405smnTJoSFhbX6Z8r1zsr50UcfAQBfA1ynlStXIiwsDC+99JKrQ7km/M8fkRMdPXoUR48eBXD11NSteQAuLS1FamoqfvWrXyEqKgoHDhzA7NmzERISgr1797rkv46eora2VnUms27duqFTp06uC4iIiNxeUVGR+WybYWFhiI+Pb7V9zZ8/H/Pnz8ejjz6KwMBAFBQUYOHChUhLS8Pq1atbbb/eoKysTHWeiaSkpBvqTKBc/BF5qPLycjz//PPYuHEjysrKEBAQgH79+uHtt99usRMTEBERkfvZsWMHXnvtNRQXF+PixYvo2LEjhg4diqlTpzb5kgrkmbj4IyIiIiIi8gL8zB8REREREZEX4OKPiIiIiIjIC7jFRd6rqqpQXV3t6jCIiAiA0Wi0ebFhogas3URE7qOptdvli7+qqioEBYSgtp4FhIjIHURERODYsWNcAJJNrN1ERO6lqbXb5Yu/6upq1NZXIy76fvgYfAAAimKAAY3XTFMUBQbFYP7ZvB2K5rZBddtgvt+gadf4jter49u432K7QVGgaOKCbj/r/Vr2MyiKZp/4+f6GeduOWz1n8/hKY5ur2y1G/rmPqh/sj2MZt3U7y7DN8Vo/Fgrs9zOPb93O6jG2zrGiNKRKkxvr8TXx2MyNfj/zduvbOvOxHMe6v+YxUj1ntDFY9zfPQ7GasyZXP383aPvbirUxCp39Ghz0sxE3DNq4NHHq5NReO008OrGq4tB5/ltM1aK/+sFQ1E8O7WNgsNFPUTR9VfPTPJYW4ziIXXe/Vs9vGKxuW8/P8rb6F1jzIFRcvox70gaiurqaiz+yyVy7o5Lg49P4UqIp9VuB9veoKfW78RjehPqtV9809RWafrp1EVZx6NRv6znb6m+vLl6NAZpxmlK/9eur4/qt+1hYHYv1xm88lKpz2dz63bh/q/Ed1G9NnbboZ69Oaetx423rfVrXW9V3iznZq5PNqd/qOqY/R736bWucZtdvg8XPduLU9lX3s67TgEX91suppr5Zx62ui9r6ph7Hcn7266TFPmzU/oZ2Nuuro/ptfb95fHtx2bltp35XVFY2uXa7fPHXwMfgAx/D1XCas/izXwSuf/GnOQBq4rLfr6mLP73ioh+3rUWbdZFBYz9Fp19LLf4s2tk7sDW9ODkuHtYxNo6jHt/WAay5iz/bRUZ/HMeLP21cmoOwjf23yuLP+jlkMY69fjaLXHMWfzaKnXU7TTw6sari0CseP8emnqu6ELT84k8xt1HFaXl/ay7+9PZnlVPo9CNqKoNF7QaaVr+btoi7vsWfvUWcvdcF17L409Y/W3Hr1VPrcaA7Tqss/hRFM7er+3Vcv20tpJtbv5u8+LOxH71+9urU9S/+mldfm1O/r2nxp5erJiz+dONszuLP4Dg3uvVbL6dNWfwZ1Nv02rfs4k/dzmZ9b63Fn614rHJ6rfWbJ3whIiIiIiLyAlz8EREREREReQEu/oiIiIiIiLwAF39ERERERERegIs/IiIiIiIiL8DFHxERERERkRfg4o+IiIiIiMgLcPFHRERERETkBbj4IyIiIiIi8gJc/BEREREREXkBLv6IiIiIiIi8ABd/REREREREXoCLPyIiIiIiIi/AxR8REREREZEX4OKPiIiIiIjIC3DxR0RERERE5AW4+CMiIiIiIvICXPwRERERERF5AS7+iIiIiIiIvAAXf0RERERERF6Aiz8iIiIiIiIv4OvqABrU1deZf1YUAwSKxW0FohjMP5u3Q0G91W2D6rbB3N6gade47lUU634W91tsNygKFKu4DI03Vf2s92vZz6Aomn3i5/sNP3+3HbeiyoF5fKWxzdXtFiP/3EfVD/bHsYzbup1l2OZ4rdopCuz3M49v3c7qMbbOsaI0pEqTG+vxNfHYzI1+P/N269s687Ecx7q/5jFSPWe0MVj3N89DsZqzJlc/fzdo+9uKtTEKnf0aHPSzETcM2rg0cerk1F47TTw6sari0Hn+W0zVor/6wVDUTw7tY2Cw0U9RNH1V89M8lhbjOIhdd79Wz28YrG5bz8/ytvoXWPMgVFy+DKKmqq+vQ53q99Zx/W44Fje3fjcew5tQv/Xqm6a+QtNPty7CKg6d+m2wmrOt/vbq4tUYoBmnKfVbv746rt/WObn6s+P63XgoVeeyufW7cf9W4zuo35o6bdHPXp3S1uPG29b7tK63qu8Wc7JXJ5tTv9V1TH+OevXb1jjNrt8Gi5/txKntq+5nXacBi/qtl1NNfbOOW10XtfVNPY7l/OzXSYt92Kj9De1s1ldH9dv6fvP49uKyc9tO/a6orERTuXzxZzQaERERgQOntrg6FCIiAhAREQGj0ejqMMiNmWv3f7a6OhQiIkLTa7ciIuKEeOyqqqpCdXW1q8MAAFy8eBG33HILTpw4geDgYFeH49GYa+divp3nRs+10WiEn5+fq8MgN2erdt/oz39nYI6ahnlyjDlyzFty1NTa7fL//AGAn5+f273QCA4O9ugniDthrp2L+XYe5po8maPazee/Y8xR0zBPjjFHjjFHV/GEL0RERERERF6Aiz8iIiIiIiIvwMWfFZPJhMmTJ8NkMrk6FI/HXDsX8+08zDV5Mz7/HWOOmoZ5cow5cow5UnOLE74QERERERFR6+J//oiIiIiIiLwAF39ERERERERegIs/IiIiIiIiL8DFHxERERERkRfwuMXfzJkz0blzZ/j5+SEpKQmFhYV22y9evBhxcXHw8/PD3XffjZUrV6ruf+ONNxAXF4eAgAC0a9cOqamp2Lp1q/n+0tJSZGdno0uXLvD398ett96KyZMno7q6ulXm505aOteWXnjhBSiKgo8++ki1/ccff8SIESMQHByM0NBQZGdn49KlSy0xHbfninwfOnQIgwcPRocOHRAcHIwHH3wQ69ata4npuLWWzvWoUaOgKIrqKz09XTPOihUrkJSUBH9/f7Rr1w6ZmZktOS2iFrFhwwZkZGQgKioKiqLgn//8p932X331Ffr374+wsDAEBwcjOTkZq1evdk6wLtLcHAHAggULEB8fj7Zt2yIyMhLPPvsszp8/3/rBusi0adNw3333ISgoCOHh4cjMzMTBgweb3D83NxeKonj0cXLWrFm45557zBcnT05Oxtdff223T3Nqvye4lhxduHABOTk5iIyMhMlkQrdu3Tw+T5Y8avH35Zdf4pVXXsHkyZOxY8cOxMfHY8CAATh37pxu+02bNmH48OHIzs7Gzp07kZmZiczMTOzdu9fcplu3bvjrX/+KPXv2oKCgAJ07d0ZaWhrKysoAAAcOHEB9fT0++eQT7Nu3Dx9++CFmz56NiRMnOmXOrtIauW6wbNkybNmyBVFRUZr7RowYgX379mHNmjXIy8vDhg0b8Pzzz7f4/NyNq/I9cOBA1NbWYu3atSgqKkJ8fDwGDhyIM2fOtPgc3UVr5To9PR2nT582fy1cuFB1/9KlS5GVlYXRo0dj165d2LhxI375y1+22jyJrtXly5cRHx+PmTNnNqn9hg0b0L9/f6xcuRJFRUXo27cvMjIysHPnzlaO1HWam6ONGzfimWeeQXZ2Nvbt24fFixejsLAQzz33XCtH6jrffvstcnJysGXLFqxZswY1NTVIS0vD5cuXHfYtLS3FuHHj8Itf/MIJkbrOzTffjLfffhtFRUXYvn07Hn74YQwePBj79u3Tbd+c2u8pmpuj6upq9O/fH6WlpViyZAkOHjyIzz77DNHR0U6O3IXEg/Tq1UtycnLMt+vq6iQqKkqmTZum237YsGHy2GOPqbYlJSXJb37zG5v7KC8vFwCSn59vs82f//xn6dKlSzOjv7G0Vq5Pnjwp0dHRsnfvXomJiZEPP/zQfN/+/fsFgGzbts287euvvxZFUeTUqVMtMCv35Yp8l5WVCQDZsGGDedvFixcFgKxZs6YFZuWeWiPXI0eOlMGDB9vcZ01NjURHR8ucOXOuL3giJwMgy5Yta3a/7t27y5tvvtnyAbmhpuTo3XffldjYWNW2v/zlLxIdHd2KkbmXc+fOCQD59ttv7barra2VBx54QObMmePw2OqJ2rVrZ7NWXMvrWk9kL0ezZs2S2NhYqa6udnJU7sNj/vNXXV2NoqIipKammrcZDAakpqZi8+bNun02b96sag8AAwYMsNm+uroan376KUJCQhAfH28zlvLyctx0003XMIsbQ2vlur6+HllZWRg/fjzuvPNO3TFCQ0PRs2dP87bU1FQYDAbVW3E9javy3b59e9x+++34/PPPcfnyZdTW1uKTTz5BeHg4EhMTW2h27qU1jyPr169HeHg4br/9drz44ouqt3Pt2LEDp06dgsFgQI8ePRAZGYlHHnnEo/9aS96rvr4eFRUVHl0nmys5ORknTpzAypUrISI4e/YslixZgkcffdTVoTlNeXk5ADh8XkyZMgXh4eHIzs52Rlhuo66uDrm5ubh8+TKSk5N12zT3da2naUqOli9fjuTkZOTk5KBjx46466678NZbb6Gurs7J0bqOr6sDaCn//e9/UVdXh44dO6q2d+zYEQcOHNDtc+bMGd321m9py8vLw9NPP43KykpERkZizZo16NChg+6YR44cwYwZM/Dee+9dx2zcW2vl+p133oGvry9+97vf2RwjPDxctc3X1xc33XSTR78N0VX5VhQF+fn5yMzMRFBQEAwGA8LDw7Fq1Sq0a9fuOmflnlor1+np6RgyZAi6dOmCkpISTJw4EY888gg2b94MHx8fHD16FMDVzxh/8MEH6Ny5M95//3306dMHhw4d4otk8ijvvfceLl26hGHDhrk6FLeRkpKCBQsW4KmnnkJVVRVqa2uRkZHR5LeN3ujq6+vx8ssvIyUlBXfddZfNdgUFBZg7dy6Ki4udF5yL7dmzB8nJyaiqqkJgYCCWLVuG7t2767Zt6utaT9OcHB09ehRr167FiBEjsHLlShw5cgS//e1vUVNTg8mTJzs5ctfwmP/8taa+ffuiuLgYmzZtQnp6OoYNG6b7+Z9Tp04hPT0dTz75pEe/T781FBUVYfr06Zg/fz4URXF1OB6vKfkWEeTk5CA8PBzfffcdCgsLkZmZiYyMDJw+fdrJEd/Ynn76aQwaNAh33303MjMzkZeXh23btmH9+vUArr7wAYBJkyZh6NChSExMxLx586AoChYvXuzCyIla1j/+8Q+8+eabWLRokeaPed5s//79GDt2LP7whz+gqKgIq1atQmlpKV544QVXh+YUOTk52Lt3L3Jzc222qaioQFZWFj777DObf4D3RLfffjuKi4uxdetWvPjiixg5ciT279/v6rDcSnNyVF9fj/DwcHz66adITEzEU089hUmTJmH27NlOjtp1PGbx16FDB/j4+ODs2bOq7WfPnkVERIRun4iIiCa1DwgIQNeuXXH//fdj7ty58PX1xdy5c1Vt/vOf/6Bv37544IEH8Omnn7bAjNxXa+T6u+++w7lz59CpUyf4+vrC19cXP/zwA1599VV07tzZPIb1oru2thY//vijzf16Alfle+3atcjLy0Nubi5SUlKQkJCAjz/+GP7+/vj73//e8hN1A615HLEUGxuLDh064MiRIwCAyMhIAFD9pdJkMiE2NhbHjx+/prkQuZvc3Fz8+te/xqJFizRvTfN206ZNQ0pKCsaPH4977rkHAwYMwMcff4y//e1vHv/HtjFjxiAvLw/r1q3DzTffbLNdSUkJSktLkZGRYa5bn3/+OZYvXw5fX1+UlJQ4MWrnMRqN6Nq1KxITEzFt2jTEx8dj+vTpum2vpR55gubkKDIyEt26dYOPj4952x133IEzZ854xZn6AQ9a/BmNRiQmJuKbb74xb6uvr8c333xj832/ycnJqvYAsGbNGpvtLcf96aefzLdPnTqFPn36mP9abzB4TFp1tUaus7KysHv3bhQXF5u/oqKiMH78ePMpwZOTk3HhwgUUFRWZx1i7di3q6+uRlJTU0tN0G67Kd2VlJQBons8Gg8H8nypP46zjyMmTJ3H+/Hnzoi8xMREmk0l1mvOamhqUlpYiJibmeqZE5BYWLlyI0aNHY+HChXjsscdcHY7bqays1BxrG16ciogrQmp1IoIxY8Zg2bJlWLt2Lbp06WK3fVxcHPbs2aOqW4MGDTK/O+uWW25xUuSuZf0a1NK1vq71NPZylJKSgiNHjqhexxw6dAiRkZEwGo3OCtG1XHu+mZaVm5srJpNJ5s+fL/v375fnn39eQkND5cyZMyIikpWVJRMmTDC337hxo/j6+sp7770n33//vUyePFnatGkje/bsERGRS5cuyeuvvy6bN2+W0tJS2b59u4wePVpMJpPs3btXRK6eLbFr167Sr18/OXnypJw+fdr85claOtd6rM8+KSKSnp4uPXr0kK1bt0pBQYHcdtttMnz48FaZoztxRb7Lysqkffv2MmTIECkuLpaDBw/KuHHjpE2bNlJcXNxqc3W1ls51RUWFjBs3TjZv3izHjh2T/Px8SUhIkNtuu02qqqrM44wdO1aio6Nl9erVcuDAAcnOzpbw8HD58ccfnZsAIgcqKipk586dsnPnTgEgH3zwgezcuVN++OEHERGZMGGCZGVlmdsvWLBAfH19ZebMmaoaeeHCBVdNodU1N0fz5s0TX19f+fjjj6WkpEQKCgqkZ8+e0qtXL1dNodW9+OKLEhISIuvXr1c9LyorK81trI+31jz9bJ8TJkyQb7/9Vo4dOya7d++WCRMmiKIo8u9//1tEWqb23+iam6Pjx49LUFCQjBkzRg4ePCh5eXkSHh4uU6dOddUUnM6jFn8iIjNmzJBOnTqJ0WiUXr16yZYtW8z39e7dW0aOHKlqv2jRIunWrZsYjUa58847ZcWKFeb7rly5Io8//rhERUWJ0WiUyMhIGTRokBQWFprbzJs3TwDofnm6lsy1Hr3F3/nz52X48OESGBgowcHBMnr0aKmoqGipKbk1V+R727ZtkpaWJjfddJMEBQXJ/fffLytXrmypKbmtlsx1ZWWlpKWlSVhYmLRp00ZiYmLkueeeMy8mG1RXV8urr74q4eHhEhQUJKmpqeY/MhG5k3Xr1unWvIbfi5EjR0rv3r3N7Xv37m23vSdqbo5Erl7aoXv37uLv7y+RkZEyYsQIOXnypPODdxJbr53mzZtnbqN3vLXk6Yu/Z599VmJiYsRoNEpYWJj069fPvKgRaZnaf6O7lhxt2rRJkpKSxGQySWxsrPzpT3+S2tpaJ0fuOoqIh76fgIiIiIiIiMw8+8NpREREREREBICLPyIiIiIiIq/AxR8REREREZEX4OKPiIiIiIjIC3DxR0RERERE5AW4+CMiIiIiIvICXPwRERERERF5AS7+iIiIiIiIvAAXf0RERERERF6Aiz8iIiIiIiIvwMUfERERERGRF+Dij4iIiIiIyAv8H6UjJPl3rKMQAAAAAElFTkSuQmCC\n",
          "text/plain": "<Figure size 1100x900 with 5 Axes>"
         },
         "metadata": {},
         "output_type": "display_data"
        }
       ]
      }
     },
     "039cc312599b47f8b6c898f6d2fabe22": {
      "model_module": "@jupyter-widgets/controls",
      "model_module_version": "2.0.0",
      "model_name": "VBoxModel",
      "state": {
       "children": [
        "IPY_MODEL_db948bc0cace44b3b2b413e3afab3ae5",
        "IPY_MODEL_3fa5a4470578446287ed58b1c0f17a6e"
       ],
       "layout": "IPY_MODEL_329d2e96c4a148ebb037a77efaf9e0cc"
      }
     },
     "086f4a1acb4d4c29a9d994d40102b9ca": {
      "model_module": "@jupyter-widgets/base",
      "model_module_version": "2.0.0",
      "model_name": "LayoutModel",
      "state": {
       "align_items": "center",
       "display": "flex-inline"
      }
     },
     "08ffc90d15894d06b0c74083e614d5e3": {
      "model_module": "@jupyter-widgets/controls",
      "model_module_version": "2.0.0",
      "model_name": "HTMLModel",
      "state": {
       "layout": "IPY_MODEL_13dfc883238e44679596dc4048f4ff1c",
       "style": "IPY_MODEL_dd7e18abd4404d518638c980bc5dd766",
       "value": "<h5>Job ID</h5>"
      }
     },
     "0afb0680eed34c84871d9747b77dec60": {
      "model_module": "@jupyter-widgets/controls",
      "model_module_version": "2.0.0",
      "model_name": "TabModel",
      "state": {
       "layout": "IPY_MODEL_8f1097a705fa489295bdd09eb3cdc9d6"
      }
     },
     "0c337112968944fb99fffc6c3f95ffed": {
      "model_module": "@jupyter-widgets/controls",
      "model_module_version": "2.0.0",
      "model_name": "HTMLStyleModel",
      "state": {
       "description_width": "",
       "font_size": null,
       "text_color": null
      }
     },
     "0c7ec6217e5f41a0b40209c14827d9eb": {
      "model_module": "@jupyter-widgets/base",
      "model_module_version": "2.0.0",
      "model_name": "LayoutModel",
      "state": {
       "margin": "0px 0px 0px 0px"
      }
     },
     "0d4663cff99540638e776385787b4390": {
      "model_module": "@jupyter-widgets/base",
      "model_module_version": "2.0.0",
      "model_name": "LayoutModel",
      "state": {
       "grid_area": "right",
       "padding": "0px 0px 0px 0px",
       "width": "70px"
      }
     },
     "0e8a377fa72d4246bb9cba2398494552": {
      "model_module": "@jupyter-widgets/controls",
      "model_module_version": "2.0.0",
      "model_name": "HTMLStyleModel",
      "state": {
       "description_width": "",
       "font_size": null,
       "text_color": null
      }
     },
     "0f1b4edc580a4646a18952b54b5ffd9b": {
      "model_module": "@jupyter-widgets/base",
      "model_module_version": "2.0.0",
      "model_name": "LayoutModel",
      "state": {
       "grid_gap": "0px 0px",
       "grid_template_areas": "\n                                                   \"top top top\"\n                                                   \"left middle right\"\n                                                   ",
       "grid_template_columns": "33% 33% 33%",
       "grid_template_rows": "auto auto"
      }
     },
     "10552d5141de4642b0b12baf1e7bdaea": {
      "model_module": "@jupyter-widgets/controls",
      "model_module_version": "2.0.0",
      "model_name": "HTMLModel",
      "state": {
       "layout": "IPY_MODEL_2b7765e13441404986ccade37a409f70",
       "style": "IPY_MODEL_c23b645ecced445c88c46cc9b8e3f3d7",
       "value": "<table><style>\ntable {\n    border-collapse: collapse;\n    width: auto;\n}\n\nth, td {\n    text-align: left;\n    padding: 8px;\n}\n\ntr:nth-child(even) {background-color: #f6f6f6;}\n</style><tr><th></th><th>Frequency</th><th>T1</th><th>T2</th><th>RZ</th><th>SX</th><th>X</th><th>Readout error</th></tr><tr><td><font style='font-weight:bold'>Q0</font></td><td>5.02975 GHz</td><td>88.34818 us</td><td>143.5925 us</td><td>0</td><td>0.00041</td><td>0.00041</td><td>0.0203 </td><tr><td><font style='font-weight:bold'>Q1</font></td><td>5.12774 GHz</td><td>132.66725 us</td><td>88.09285 us</td><td>0</td><td>0.00036</td><td>0.00036</td><td>0.031 </td><tr><td><font style='font-weight:bold'>Q2</font></td><td>5.24735 GHz</td><td>91.55637 us</td><td>1.71546 us</td><td>0</td><td>0.00084</td><td>0.00084</td><td>0.031 </td><tr><td><font style='font-weight:bold'>Q3</font></td><td>5.30254 GHz</td><td>65.98057 us</td><td>91.68583 us</td><td>0</td><td>0.0004</td><td>0.0004</td><td>0.0411 </td><tr><td><font style='font-weight:bold'>Q4</font></td><td>5.09208 GHz</td><td>20.85877 us</td><td>24.12741 us</td><td>0</td><td>0.00063</td><td>0.00063</td><td>0.0425 </td></table>"
      }
     },
     "11155c4c4ffb47709904d0c4f29959e4": {
      "model_module": "@jupyter-widgets/base",
      "model_module_version": "2.0.0",
      "model_name": "LayoutModel",
      "state": {
       "width": "145px"
      }
     },
     "129cc6aadfad4a4ab825ec4d41840fd6": {
      "model_module": "@jupyter-widgets/controls",
      "model_module_version": "2.0.0",
      "model_name": "HTMLStyleModel",
      "state": {
       "description_width": "",
       "font_size": null,
       "text_color": null
      }
     },
     "1312add5808d4dbaadc3bfa5736f658c": {
      "model_module": "@jupyter-widgets/controls",
      "model_module_version": "2.0.0",
      "model_name": "HTMLModel",
      "state": {
       "layout": "IPY_MODEL_e3bc2c24da66453c9295b07003fd2407",
       "style": "IPY_MODEL_1a9388b38dff4b63bcba4719a3be6b01",
       "value": "<h5>Queue</h5>"
      }
     },
     "1381394824424f11b121aed7477c0a2c": {
      "model_module": "@jupyter-widgets/base",
      "model_module_version": "2.0.0",
      "model_name": "LayoutModel",
      "state": {
       "grid_area": "bottom",
       "width": "auto"
      }
     },
     "13dfc883238e44679596dc4048f4ff1c": {
      "model_module": "@jupyter-widgets/base",
      "model_module_version": "2.0.0",
      "model_name": "LayoutModel",
      "state": {
       "width": "190px"
      }
     },
     "150dca80442645f8a9adf5331caeec91": {
      "model_module": "@jupyter-widgets/controls",
      "model_module_version": "2.0.0",
      "model_name": "GridBoxModel",
      "state": {
       "children": [
        "IPY_MODEL_cd6de1ad8fc94d82b210ff02d0b59d0b",
        "IPY_MODEL_e7989fe34d3c4c18b581484705ed91f5",
        "IPY_MODEL_38978c2faa4241a1936037287aad4c1e"
       ],
       "layout": "IPY_MODEL_17b9f87bd94843b5976a96e268f7349f"
      }
     },
     "16ecd4d5902243579c2a9494262d1d6f": {
      "model_module": "@jupyter-widgets/controls",
      "model_module_version": "2.0.0",
      "model_name": "HTMLMathStyleModel",
      "state": {
       "description_width": "",
       "font_size": null,
       "text_color": null
      }
     },
     "17b9f87bd94843b5976a96e268f7349f": {
      "model_module": "@jupyter-widgets/base",
      "model_module_version": "2.0.0",
      "model_name": "LayoutModel",
      "state": {
       "grid_gap": "0px 0px",
       "grid_template_areas": "\n                               \"left right right right\"\n                               \"bottom bottom bottom bottom\"\n                               ",
       "grid_template_columns": "31% 23% 23% 23%",
       "grid_template_rows": "auto auto"
      }
     },
     "1821f50933a447cc96d8170cfa8347c8": {
      "model_module": "@jupyter-widgets/base",
      "model_module_version": "2.0.0",
      "model_name": "LayoutModel",
      "state": {
       "margin": "0px 0px 0px 37px",
       "width": "600px"
      }
     },
     "18a1d021760948d79e59b85ee9641577": {
      "model_module": "@jupyter-widgets/base",
      "model_module_version": "2.0.0",
      "model_name": "LayoutModel",
      "state": {
       "grid_gap": "0px 0px",
       "grid_template_areas": "\n                               \"left right right right\"\n                               \"bottom bottom bottom bottom\"\n                               ",
       "grid_template_columns": "31% 23% 23% 23%",
       "grid_template_rows": "auto auto"
      }
     },
     "1a288462c7ea4eb385f5d1d4d371e0b1": {
      "model_module": "@jupyter-widgets/base",
      "model_module_version": "2.0.0",
      "model_name": "LayoutModel",
      "state": {}
     },
     "1a84a24829d943d5b6adb54ea8d5d958": {
      "model_module": "@jupyter-widgets/controls",
      "model_module_version": "2.0.0",
      "model_name": "HTMLModel",
      "state": {
       "layout": "IPY_MODEL_670bbee6a8b342138535ac88b3d67cf4",
       "style": "IPY_MODEL_129cc6aadfad4a4ab825ec4d41840fd6",
       "value": "<h5>Queue</h5>"
      }
     },
     "1a9388b38dff4b63bcba4719a3be6b01": {
      "model_module": "@jupyter-widgets/controls",
      "model_module_version": "2.0.0",
      "model_name": "HTMLStyleModel",
      "state": {
       "description_width": "",
       "font_size": null,
       "text_color": null
      }
     },
     "1c054ad3f58142a7b1c649fafb8cb6a9": {
      "model_module": "@jupyter-widgets/controls",
      "model_module_version": "2.0.0",
      "model_name": "HTMLModel",
      "state": {
       "layout": "IPY_MODEL_c72a257ccef84d528a91b3a0a610d973",
       "style": "IPY_MODEL_562bbd39521e4ff6a2fff59e13635452",
       "value": "<table><style>\ntable {\n    border-collapse: collapse;\n    width: auto;\n}\n\nth, td {\n    text-align: left;\n    padding: 8px;\n}\n\ntr:nth-child(even) {background-color: #f6f6f6;};\n</style><tr><th></th><th>Type</th><th>Gate error</th></tr><tr><td><font style='font-weight:bold'>cx2_1</font></td><td>cx</td><td>0.00876</td></tr><tr><td><font style='font-weight:bold'>cx1_2</font></td><td>cx</td><td>0.00876</td></tr></table>"
      }
     },
     "1df8f5e3d93842c798fb3fd4d9e3f6e3": {
      "model_module": "@jupyter-widgets/base",
      "model_module_version": "2.0.0",
      "model_name": "LayoutModel",
      "state": {
       "align_items": "center",
       "display": "flex-inline",
       "grid_area": "right",
       "max_height": "325px",
       "padding": "10px 10px 10px 10px",
       "width": "auto"
      }
     },
     "1e011fca60a74bc68ac074eab07435f4": {
      "model_module": "@jupyter-widgets/controls",
      "model_module_version": "2.0.0",
      "model_name": "HTMLStyleModel",
      "state": {
       "description_width": "",
       "font_size": null,
       "text_color": null
      }
     },
     "2406a131874245d0bd59c2f673ae94a6": {
      "model_module": "@jupyter-widgets/controls",
      "model_module_version": "2.0.0",
      "model_name": "HTMLStyleModel",
      "state": {
       "description_width": "",
       "font_size": null,
       "text_color": null
      }
     },
     "257eb435e7ce43c29ecbd4454436125f": {
      "model_module": "@jupyter-widgets/base",
      "model_module_version": "2.0.0",
      "model_name": "LayoutModel",
      "state": {}
     },
     "26b9c1d79d51445392b085e567a2b00a": {
      "model_module": "@jupyter-widgets/base",
      "model_module_version": "2.0.0",
      "model_name": "LayoutModel",
      "state": {}
     },
     "26d4ed42ea2a47d9a3d853c096bf8810": {
      "model_module": "@jupyter-widgets/base",
      "model_module_version": "2.0.0",
      "model_name": "LayoutModel",
      "state": {
       "margin": "0px 0px 10px 0px"
      }
     },
     "27bafb24cd1845a0af542be7785998f5": {
      "model_module": "@jupyter-widgets/controls",
      "model_module_version": "2.0.0",
      "model_name": "HTMLStyleModel",
      "state": {
       "description_width": "",
       "font_size": null,
       "text_color": null
      }
     },
     "29624ce7cd3e411e9cb08fbc73c75587": {
      "model_module": "@jupyter-widgets/base",
      "model_module_version": "2.0.0",
      "model_name": "LayoutModel",
      "state": {
       "grid_area": "right"
      }
     },
     "2b3c7c07383a497db49843704f8c2a00": {
      "model_module": "@jupyter-widgets/controls",
      "model_module_version": "2.0.0",
      "model_name": "HTMLModel",
      "state": {
       "layout": "IPY_MODEL_2ce907b3b3ea43e4816bd12a425bf150",
       "style": "IPY_MODEL_8cc317bee0504c14ba00a6365af5c3a2",
       "value": "<table><style>\ntable {\n    border-collapse: collapse;\n    width: auto;\n}\n\nth, td {\n    text-align: left;\n    padding: 8px;\n}\n\ntr:nth-child(even) {background-color: #f6f6f6;};\n</style><tr><th></th><th>Type</th><th>Gate error</th></tr><tr><td><font style='font-weight:bold'>cx4_3</font></td><td>cx</td><td>0.01349</td></tr><tr><td><font style='font-weight:bold'>cx3_4</font></td><td>cx</td><td>0.01349</td></tr><tr><td><font style='font-weight:bold'>cx3_1</font></td><td>cx</td><td>0.00709</td></tr></table>"
      }
     },
     "2b7765e13441404986ccade37a409f70": {
      "model_module": "@jupyter-widgets/base",
      "model_module_version": "2.0.0",
      "model_name": "LayoutModel",
      "state": {}
     },
     "2b8e228d2fce4150a292adf08e5ee106": {
      "model_module": "@jupyter-widgets/controls",
      "model_module_version": "2.0.0",
      "model_name": "HTMLModel",
      "state": {
       "layout": "IPY_MODEL_f09c1d9f1d814b7dbf9b7948e0f526e1",
       "style": "IPY_MODEL_cd4e9ace8ae24895b948dd6d42d251ac",
       "value": "<div><font style='font-weight:bold'>last_update_date</font>: 2023-03-05 07:07:35+01:00</div>"
      }
     },
     "2ce907b3b3ea43e4816bd12a425bf150": {
      "model_module": "@jupyter-widgets/base",
      "model_module_version": "2.0.0",
      "model_name": "LayoutModel",
      "state": {
       "grid_area": "left"
      }
     },
     "2d45c221330c44d5a4d57c8e0c5e34ef": {
      "model_module": "@jupyter-widgets/base",
      "model_module_version": "2.0.0",
      "model_name": "LayoutModel",
      "state": {
       "margin": "0px 0px 0px 37px",
       "width": "600px"
      }
     },
     "329d2e96c4a148ebb037a77efaf9e0cc": {
      "model_module": "@jupyter-widgets/base",
      "model_module_version": "2.0.0",
      "model_name": "LayoutModel",
      "state": {}
     },
     "34e476ac29b14a32b601beef006bf06f": {
      "model_module": "@jupyter-widgets/controls",
      "model_module_version": "2.0.0",
      "model_name": "HTMLMathStyleModel",
      "state": {
       "description_width": "",
       "font_size": null,
       "text_color": null
      }
     },
     "35e71fa5aaa548c4bef6a71fc26c13c8": {
      "model_module": "@jupyter-widgets/controls",
      "model_module_version": "2.0.0",
      "model_name": "HTMLModel",
      "state": {
       "layout": "IPY_MODEL_26d4ed42ea2a47d9a3d853c096bf8810",
       "style": "IPY_MODEL_842a86a1310d48d3ab4197ec04e7411d",
       "value": "<p style='font-family: IBM Plex Sans, Arial, Helvetica, sans-serif; font-size: 20px; font-weight: medium;'>Circuit Properties</p>"
      }
     },
     "36148668e4074cd285c0e17b79b7a7b1": {
      "model_module": "@jupyter-widgets/controls",
      "model_module_version": "2.0.0",
      "model_name": "ButtonModel",
      "state": {
       "button_style": "primary",
       "description": "Clear",
       "layout": "IPY_MODEL_542d37188d6c4f968516a0977a9bfbac",
       "style": "IPY_MODEL_df2d32fd9018464daceaaadf5a426956",
       "tooltip": null
      }
     },
     "378ce428d01041518769b2ddb6899b43": {
      "model_module": "@jupyter-widgets/controls",
      "model_module_version": "2.0.0",
      "model_name": "HTMLStyleModel",
      "state": {
       "description_width": "",
       "font_size": null,
       "text_color": null
      }
     },
     "3876681549fc4b919425a840c0230fd8": {
      "model_module": "@jupyter-widgets/controls",
      "model_module_version": "2.0.0",
      "model_name": "VBoxModel",
      "state": {
       "children": [
        "IPY_MODEL_87cb9bb919b14b29bc6e97d447dcca09",
        "IPY_MODEL_e42bf961264a4a3dbac0d6b181ae9247"
       ],
       "layout": "IPY_MODEL_007412f147fb45b2b6de38a5d82d9982"
      }
     },
     "38978c2faa4241a1936037287aad4c1e": {
      "model_module": "@jupyter-widgets/controls",
      "model_module_version": "2.0.0",
      "model_name": "HTMLMathModel",
      "state": {
       "layout": "IPY_MODEL_1381394824424f11b121aed7477c0a2c",
       "style": "IPY_MODEL_c4fd264f1a824462bf6a3153974a2bd4",
       "value": "<table><style>\ntable {\n    border-collapse: collapse;\n    width: auto;\n}\n\nth, td {\n    text-align: left;\n    padding: 8px;\n}\n\ntr:nth-child(even) {background-color: #f6f6f6;}\n</style><tr><th></th><th></th></tr><tr><td>backend_name</td><td>ibmq_belem</td></tr><tr><td>coupling_map</td><td>[[0, 1], [1, 0], [1, 2], [1, 3], [2, 1], [3, 1], [3, 4], [4, 3]]</td></tr><tr><td>online_date</td><td>2021-01-08 05:00:00+00:00</td></tr><tr><td>memory</td><td>True</td></tr><tr><td>pulse_num_channels</td><td>9</td></tr><tr><td>input_allowed</td><td>['job', 'runtime']</td></tr><tr><td>timing_constraints</td><td>{'acquire_alignment': 16, 'granularity': 16, 'min_length': 64, 'pulse_alignment': 1}</td></tr><tr><td>description</td><td>5 qubit device Belem</td></tr><tr><td>meas_lo_range</td><td>[[6.801574705, 7.801574705], [6.8934333720000005, 7.8934333720000005], [6.860104974, 7.860104974], [6.8033823270000005, 7.8033823270000005], [6.926223338000001, 7.926223338000001]]</td></tr><tr><td>dt</td><td>0.2222222222222222</td></tr><tr><td>uchannels_enabled</td><td>True</td></tr><tr><td>measure_esp_enabled</td><td>False</td></tr><tr><td>dynamic_reprate_enabled</td><td>True</td></tr><tr><td>default_rep_delay</td><td>250.0</td></tr><tr><td>qubit_channel_mapping</td><td>[['u1', 'u0', 'd0', 'm0'], ['u1', 'u3', 'u0', 'd1', 'u5', 'u2', 'm1', 'u4'], ['m2', 'd2', 'u2', 'u4'], ['u3', 'm3', 'u7', 'd3', 'u6', 'u5'], ['m4', 'u6', 'u7', 'd4']]</td></tr><tr><td>allow_object_storage</td><td>True</td></tr><tr><td>processor_type</td><td>{'family': 'Falcon', 'revision': 4, 'segment': 'T'}</td></tr><tr><td>conditional</td><td>False</td></tr><tr><td>pulse_num_qubits</td><td>3</td></tr><tr><td>channels</td><td>{'acquire0': {'operates': {'qubits': [0]}, 'purpose': 'acquire', 'type': 'acquire'}, 'acquire1': {'operates': {'qubits': [1]}, 'purpose': 'acquire', 'type': 'acquire'}, 'acquire2': {'operates': {'qubits': [2]}, 'purpose': 'acquire', 'type': 'acquire'}, 'acquire3': {'operates': {'qubits': [3]}, 'purpose': 'acquire', 'type': 'acquire'}, 'acquire4': {'operates': {'qubits': [4]}, 'purpose': 'acquire', 'type': 'acquire'}, 'd0': {'operates': {'qubits': [0]}, 'purpose': 'drive', 'type': 'drive'}, 'd1': {'operates': {'qubits': [1]}, 'purpose': 'drive', 'type': 'drive'}, 'd2': {'operates': {'qubits': [2]}, 'purpose': 'drive', 'type': 'drive'}, 'd3': {'operates': {'qubits': [3]}, 'purpose': 'drive', 'type': 'drive'}, 'd4': {'operates': {'qubits': [4]}, 'purpose': 'drive', 'type': 'drive'}, 'm0': {'operates': {'qubits': [0]}, 'purpose': 'measure', 'type': 'measure'}, 'm1': {'operates': {'qubits': [1]}, 'purpose': 'measure', 'type': 'measure'}, 'm2': {'operates': {'qubits': [2]}, 'purpose': 'measure', 'type': 'measure'}, 'm3': {'operates': {'qubits': [3]}, 'purpose': 'measure', 'type': 'measure'}, 'm4': {'operates': {'qubits': [4]}, 'purpose': 'measure', 'type': 'measure'}, 'u0': {'operates': {'qubits': [0, 1]}, 'purpose': 'cross-resonance', 'type': 'control'}, 'u1': {'operates': {'qubits': [1, 0]}, 'purpose': 'cross-resonance', 'type': 'control'}, 'u2': {'operates': {'qubits': [1, 2]}, 'purpose': 'cross-resonance', 'type': 'control'}, 'u3': {'operates': {'qubits': [1, 3]}, 'purpose': 'cross-resonance', 'type': 'control'}, 'u4': {'operates': {'qubits': [2, 1]}, 'purpose': 'cross-resonance', 'type': 'control'}, 'u5': {'operates': {'qubits': [3, 1]}, 'purpose': 'cross-resonance', 'type': 'control'}, 'u6': {'operates': {'qubits': [3, 4]}, 'purpose': 'cross-resonance', 'type': 'control'}, 'u7': {'operates': {'qubits': [4, 3]}, 'purpose': 'cross-resonance', 'type': 'control'}}</td></tr><tr><td>open_pulse</td><td>False</td></tr><tr><td>parallel_compilation</td><td>False</td></tr><tr><td>rep_delay_range</td><td>[0.0, 500.0]</td></tr><tr><td>credits_required</td><td>True</td></tr><tr><td>parametric_pulses</td><td>['gaussian', 'gaussian_square', 'gaussian_square_drag', 'drag', 'constant']</td></tr><tr><td>clops</td><td>2454</td></tr><tr><td>url</td><td>None</td></tr><tr><td>allow_q_object</td><td>True</td></tr><tr><td>live_data</td><td>False</td></tr><tr><td>sample_name</td><td>family: Falcon, revision: 4, segment: T</td></tr><tr><td>hamiltonian</td><td>$$\\begin{align} \\mathcal{H}/\\hbar = & \\sum_{i=0}^{4}\\left(\\frac{\\omega_{q,i}}{2}(\\mathbb{I}-\\sigma_i^{z})+\\frac{\\Delta_{i}}{2}(O_i^2-O_i)+\\Omega_{d,i}D_i(t)\\sigma_i^{X}\\right) \\\\ & + J_{0,1}(\\sigma_{0}^{+}\\sigma_{1}^{-}+\\sigma_{0}^{-}\\sigma_{1}^{+}) + J_{1,2}(\\sigma_{1}^{+}\\sigma_{2}^{-}+\\sigma_{1}^{-}\\sigma_{2}^{+}) + J_{1,3}(\\sigma_{1}^{+}\\sigma_{3}^{-}+\\sigma_{1}^{-}\\sigma_{3}^{+}) + J_{3,4}(\\sigma_{3}^{+}\\sigma_{4}^{-}+\\sigma_{3}^{-}\\sigma_{4}^{+}) \\\\ & + \\Omega_{d,0}(U_{0}^{(0,1)}(t))\\sigma_{0}^{X} + \\Omega_{d,1}(U_{1}^{(1,0)}(t)+U_{3}^{(1,3)}(t)+U_{2}^{(1,2)}(t))\\sigma_{1}^{X} \\\\ & + \\Omega_{d,2}(U_{4}^{(2,1)}(t))\\sigma_{2}^{X} + \\Omega_{d,3}(U_{6}^{(3,4)}(t)+U_{5}^{(3,1)}(t))\\sigma_{3}^{X} \\\\ & + \\Omega_{d,4}(U_{7}^{(4,3)}(t))\\sigma_{4}^{X} \\\\ \\end{align}$$</td></tr><tr><td>simulator</td><td>False</td></tr><tr><td>supported_features</td><td>['qobj']</td></tr><tr><td>acquisition_latency</td><td>[]</td></tr><tr><td>qubit_lo_range</td><td>[[4.590223276331611, 5.590223276331611], [4.7455250306079115, 5.7455250306079115], [4.861338752864041, 5.861338752864041], [4.670320646213128, 5.670320646213128], [4.758473643724745, 5.758473643724745]]</td></tr><tr><td>dtm</td><td>0.2222222222222222</td></tr><tr><td>u_channel_lo</td><td>[[{'q': 1, 'scale': (1+0j)}], [{'q': 0, 'scale': (1+0j)}], [{'q': 2, 'scale': (1+0j)}], [{'q': 3, 'scale': (1+0j)}], [{'q': 1, 'scale': (1+0j)}], [{'q': 1, 'scale': (1+0j)}], [{'q': 4, 'scale': (1+0j)}], [{'q': 3, 'scale': (1+0j)}]]</td></tr><tr><td>n_uchannels</td><td>8</td></tr><tr><td>meas_map</td><td>[[0, 1, 2, 3, 4]]</td></tr><tr><td>rep_times</td><td>[1000.0]</td></tr><tr><td>supported_instructions</td><td>['cx', 'id', 'delay', 'measure', 'reset', 'rz', 'sx', 'x']</td></tr><tr><td>discriminators</td><td>['hw_centroid', 'linear_discriminator', 'quadratic_discriminator']</td></tr><tr><td>conditional_latency</td><td>[]</td></tr><tr><td>local</td><td>False</td></tr><tr><td>multi_meas_enabled</td><td>True</td></tr><tr><td>meas_levels</td><td>[1, 2]</td></tr><tr><td>n_registers</td><td>1</td></tr><tr><td>meas_kernels</td><td>['hw_boxcar']</td></tr></table>"
      }
     },
     "39c89688802544d299fab939dbfc9cfc": {
      "model_module": "@jupyter-widgets/controls",
      "model_module_version": "2.0.0",
      "model_name": "TabModel",
      "state": {
       "layout": "IPY_MODEL_b298e21b71894328a3edb4273b1f3b2b"
      }
     },
     "39ec684b39e0470693ef45727e733190": {
      "model_module": "@jupyter-widgets/base",
      "model_module_version": "2.0.0",
      "model_name": "LayoutModel",
      "state": {
       "grid_gap": "0px 0px",
       "grid_template_areas": "\n                                                   \"top top top\"\n                                                   \"left middle right\"\n                                                   ",
       "grid_template_columns": "33% 33% 33%",
       "grid_template_rows": "auto auto"
      }
     },
     "3ae697763f734ed0aaf2fbac7210ba4c": {
      "model_module": "@jupyter-widgets/base",
      "model_module_version": "2.0.0",
      "model_name": "LayoutModel",
      "state": {
       "align_items": "center",
       "display": "flex-inline"
      }
     },
     "3ecaf49a1ddd48e881a23ab7149f6e19": {
      "model_module": "@jupyter-widgets/base",
      "model_module_version": "2.0.0",
      "model_name": "LayoutModel",
      "state": {
       "grid_area": "right",
       "padding": "0px 0px 0px 0px",
       "width": "70px"
      }
     },
     "3fa5a4470578446287ed58b1c0f17a6e": {
      "model_module": "@jupyter-widgets/controls",
      "model_module_version": "2.0.0",
      "model_name": "HTMLModel",
      "state": {
       "layout": "IPY_MODEL_7ddfe7bde70648268cd902cd9cbf4801",
       "style": "IPY_MODEL_74703626b6f5435f9902962dff3bc7c3",
       "value": "<table><style>\ntable {\n    border-collapse: collapse;\n    width: auto;\n}\n\nth, td {\n    text-align: left;\n    padding: 8px;\n}\n\ntr:nth-child(even) {background-color: #f6f6f6;}\n</style><tr><th></th><th>Frequency</th><th>T1</th><th>T2</th><th>RZ</th><th>SX</th><th>X</th><th>Readout error</th></tr><tr><td><font style='font-weight:bold'>Q0</font></td><td>5.30069 GHz</td><td>70.7972 us</td><td>107.43219 us</td><td>0</td><td>0.00029</td><td>0.00029</td><td>0.0362 </td><tr><td><font style='font-weight:bold'>Q1</font></td><td>5.08058 GHz</td><td>69.09603 us</td><td>78.99143 us</td><td>0</td><td>0.0006</td><td>0.0006</td><td>0.0408 </td><tr><td><font style='font-weight:bold'>Q2</font></td><td>5.32219 GHz</td><td>46.39777 us</td><td>70.94904 us</td><td>0</td><td>0.00029</td><td>0.00029</td><td>0.0641 </td><tr><td><font style='font-weight:bold'>Q3</font></td><td>5.16362 GHz</td><td>93.17013 us</td><td>19.08789 us</td><td>0</td><td>0.00033</td><td>0.00033</td><td>0.033 </td><tr><td><font style='font-weight:bold'>Q4</font></td><td>5.05233 GHz</td><td>129.57345 us</td><td>178.46465 us</td><td>0</td><td>0.00035</td><td>0.00035</td><td>0.044 </td></table>"
      }
     },
     "4330bc4fb2634b03a90951c2307726ce": {
      "model_module": "@jupyter-widgets/controls",
      "model_module_version": "2.0.0",
      "model_name": "HTMLMathStyleModel",
      "state": {
       "description_width": "",
       "font_size": null,
       "text_color": null
      }
     },
     "44a752449bba46a0b4f96386f21dd2b7": {
      "model_module": "@jupyter-widgets/controls",
      "model_module_version": "2.0.0",
      "model_name": "HTMLStyleModel",
      "state": {
       "description_width": "",
       "font_size": null,
       "text_color": null
      }
     },
     "45594599dc2e4ca18cadbea32d041ef0": {
      "model_module": "@jupyter-widgets/base",
      "model_module_version": "2.0.0",
      "model_name": "LayoutModel",
      "state": {}
     },
     "45f64989bfc742758b6059dccdbfc5b8": {
      "model_module": "@jupyter-widgets/base",
      "model_module_version": "2.0.0",
      "model_name": "LayoutModel",
      "state": {
       "align_items": "center",
       "display": "flex-inline",
       "grid_area": "right",
       "max_height": "325px",
       "padding": "10px 10px 10px 10px",
       "width": "auto"
      }
     },
     "48210798ce7947cb942996d041032bee": {
      "model_module": "@jupyter-widgets/controls",
      "model_module_version": "2.0.0",
      "model_name": "HTMLModel",
      "state": {
       "layout": "IPY_MODEL_0c7ec6217e5f41a0b40209c14827d9eb",
       "style": "IPY_MODEL_a3e2e0dd2cac44259886d66f7e13f7eb",
       "value": "<h1 style='color:#ffffff;background-color:#000000;padding-top: 1%;padding-bottom: 1%;padding-left: 1%; margin-top: 0px'>ibmq_belem</h1>"
      }
     },
     "48a92d7e2fed48b7a3991237c824d58e": {
      "model_module": "@jupyter-widgets/controls",
      "model_module_version": "2.0.0",
      "model_name": "HTMLModel",
      "state": {
       "layout": "IPY_MODEL_a24a53cfca584cbb9277d662c0592f1e",
       "style": "IPY_MODEL_a4d989b81e6f42879fe94f6b4d3bd1d7",
       "value": "<h5>Status</h5>"
      }
     },
     "498658f77cf94b8da1f6223c3ff78509": {
      "model_module": "@jupyter-widgets/controls",
      "model_module_version": "2.0.0",
      "model_name": "HTMLStyleModel",
      "state": {
       "description_width": "",
       "font_size": null,
       "text_color": null
      }
     },
     "499b8ef9ab0e4455b55b9bd645b28df5": {
      "model_module": "@jupyter-widgets/base",
      "model_module_version": "2.0.0",
      "model_name": "LayoutModel",
      "state": {
       "width": "190px"
      }
     },
     "4a561e8b462b49fea478206331b6b6ab": {
      "model_module": "@jupyter-widgets/controls",
      "model_module_version": "2.0.0",
      "model_name": "GridBoxModel",
      "state": {
       "children": [
        "IPY_MODEL_36148668e4074cd285c0e17b79b7a7b1"
       ],
       "layout": "IPY_MODEL_6a213806b23f4fa281ebad892b1b2151"
      }
     },
     "4c1f3edd98734c6baa3bb0cc5b46802f": {
      "model_module": "@jupyter-widgets/controls",
      "model_module_version": "2.0.0",
      "model_name": "ButtonModel",
      "state": {
       "button_style": "primary",
       "description": "Clear",
       "layout": "IPY_MODEL_0d4663cff99540638e776385787b4390",
       "style": "IPY_MODEL_a6dac67f8ae6488fa8719d4c662374ee",
       "tooltip": null
      }
     },
     "4cc2ce09b0844f878a9b7c058909a33d": {
      "model_module": "@jupyter-widgets/base",
      "model_module_version": "2.0.0",
      "model_name": "LayoutModel",
      "state": {}
     },
     "4d050e837b554d46b7d816fdd21e6528": {
      "model_module": "@jupyter-widgets/controls",
      "model_module_version": "2.0.0",
      "model_name": "HTMLMathModel",
      "state": {
       "layout": "IPY_MODEL_984beb7dcea849be917a1f13ca33c9b6",
       "style": "IPY_MODEL_34e476ac29b14a32b601beef006bf06f",
       "value": "<table><style>\ntable {\n    border-collapse: collapse;\n    width: auto;\n}\n\nth, td {\n    text-align: left;\n    padding: 8px;\n}\n\ntr:nth-child(even) {background-color: #f6f6f6;}\n</style><tr><th></th><th></th></tr><tr><td>backend_name</td><td>ibmq_lima</td></tr><tr><td>coupling_map</td><td>[[0, 1], [1, 0], [1, 2], [1, 3], [2, 1], [3, 1], [3, 4], [4, 3]]</td></tr><tr><td>online_date</td><td>2021-01-08 05:00:00+00:00</td></tr><tr><td>memory</td><td>True</td></tr><tr><td>pulse_num_channels</td><td>9</td></tr><tr><td>input_allowed</td><td>['job', 'runtime']</td></tr><tr><td>timing_constraints</td><td>{'acquire_alignment': 16, 'granularity': 16, 'min_length': 64, 'pulse_alignment': 1}</td></tr><tr><td>description</td><td>5 qubit device Lima</td></tr><tr><td>meas_lo_range</td><td>[[6.925143125000001, 7.925143125000001], [6.721646720000001, 7.721646720000001], [6.971842939, 7.971842939], [6.865317232000001, 7.865317232000001], [6.919067567000001, 7.919067567000001]]</td></tr><tr><td>dt</td><td>0.2222222222222222</td></tr><tr><td>uchannels_enabled</td><td>True</td></tr><tr><td>measure_esp_enabled</td><td>False</td></tr><tr><td>dynamic_reprate_enabled</td><td>True</td></tr><tr><td>default_rep_delay</td><td>250.0</td></tr><tr><td>qubit_channel_mapping</td><td>[['u1', 'u0', 'd0', 'm0'], ['u1', 'u3', 'm1', 'u0', 'u2', 'u5', 'd1', 'u4'], ['u2', 'd2', 'm2', 'u4'], ['u3', 'u5', 'd3', 'u7', 'u6', 'm3'], ['u6', 'u7', 'm4', 'd4']]</td></tr><tr><td>allow_object_storage</td><td>True</td></tr><tr><td>processor_type</td><td>{'family': 'Falcon', 'revision': 4, 'segment': 'T'}</td></tr><tr><td>conditional</td><td>False</td></tr><tr><td>pulse_num_qubits</td><td>3</td></tr><tr><td>channels</td><td>{'acquire0': {'operates': {'qubits': [0]}, 'purpose': 'acquire', 'type': 'acquire'}, 'acquire1': {'operates': {'qubits': [1]}, 'purpose': 'acquire', 'type': 'acquire'}, 'acquire2': {'operates': {'qubits': [2]}, 'purpose': 'acquire', 'type': 'acquire'}, 'acquire3': {'operates': {'qubits': [3]}, 'purpose': 'acquire', 'type': 'acquire'}, 'acquire4': {'operates': {'qubits': [4]}, 'purpose': 'acquire', 'type': 'acquire'}, 'd0': {'operates': {'qubits': [0]}, 'purpose': 'drive', 'type': 'drive'}, 'd1': {'operates': {'qubits': [1]}, 'purpose': 'drive', 'type': 'drive'}, 'd2': {'operates': {'qubits': [2]}, 'purpose': 'drive', 'type': 'drive'}, 'd3': {'operates': {'qubits': [3]}, 'purpose': 'drive', 'type': 'drive'}, 'd4': {'operates': {'qubits': [4]}, 'purpose': 'drive', 'type': 'drive'}, 'm0': {'operates': {'qubits': [0]}, 'purpose': 'measure', 'type': 'measure'}, 'm1': {'operates': {'qubits': [1]}, 'purpose': 'measure', 'type': 'measure'}, 'm2': {'operates': {'qubits': [2]}, 'purpose': 'measure', 'type': 'measure'}, 'm3': {'operates': {'qubits': [3]}, 'purpose': 'measure', 'type': 'measure'}, 'm4': {'operates': {'qubits': [4]}, 'purpose': 'measure', 'type': 'measure'}, 'u0': {'operates': {'qubits': [0, 1]}, 'purpose': 'cross-resonance', 'type': 'control'}, 'u1': {'operates': {'qubits': [1, 0]}, 'purpose': 'cross-resonance', 'type': 'control'}, 'u2': {'operates': {'qubits': [1, 2]}, 'purpose': 'cross-resonance', 'type': 'control'}, 'u3': {'operates': {'qubits': [1, 3]}, 'purpose': 'cross-resonance', 'type': 'control'}, 'u4': {'operates': {'qubits': [2, 1]}, 'purpose': 'cross-resonance', 'type': 'control'}, 'u5': {'operates': {'qubits': [3, 1]}, 'purpose': 'cross-resonance', 'type': 'control'}, 'u6': {'operates': {'qubits': [3, 4]}, 'purpose': 'cross-resonance', 'type': 'control'}, 'u7': {'operates': {'qubits': [4, 3]}, 'purpose': 'cross-resonance', 'type': 'control'}}</td></tr><tr><td>open_pulse</td><td>False</td></tr><tr><td>parallel_compilation</td><td>False</td></tr><tr><td>rep_delay_range</td><td>[0.0, 500.0]</td></tr><tr><td>credits_required</td><td>True</td></tr><tr><td>parametric_pulses</td><td>['gaussian', 'gaussian_square', 'gaussian_square_drag', 'drag', 'constant']</td></tr><tr><td>clops</td><td>2673</td></tr><tr><td>url</td><td>None</td></tr><tr><td>allow_q_object</td><td>True</td></tr><tr><td>live_data</td><td>False</td></tr><tr><td>sample_name</td><td>family: Falcon, revision: 4, segment: T</td></tr><tr><td>hamiltonian</td><td>$$\\begin{align} \\mathcal{H}/\\hbar = & \\sum_{i=0}^{4}\\left(\\frac{\\omega_{q,i}}{2}(\\mathbb{I}-\\sigma_i^{z})+\\frac{\\Delta_{i}}{2}(O_i^2-O_i)+\\Omega_{d,i}D_i(t)\\sigma_i^{X}\\right) \\\\ & + J_{0,1}(\\sigma_{0}^{+}\\sigma_{1}^{-}+\\sigma_{0}^{-}\\sigma_{1}^{+}) + J_{1,2}(\\sigma_{1}^{+}\\sigma_{2}^{-}+\\sigma_{1}^{-}\\sigma_{2}^{+}) + J_{1,3}(\\sigma_{1}^{+}\\sigma_{3}^{-}+\\sigma_{1}^{-}\\sigma_{3}^{+}) + J_{3,4}(\\sigma_{3}^{+}\\sigma_{4}^{-}+\\sigma_{3}^{-}\\sigma_{4}^{+}) \\\\ & + \\Omega_{d,0}(U_{0}^{(0,1)}(t))\\sigma_{0}^{X} + \\Omega_{d,1}(U_{1}^{(1,0)}(t)+U_{3}^{(1,3)}(t)+U_{2}^{(1,2)}(t))\\sigma_{1}^{X} \\\\ & + \\Omega_{d,2}(U_{4}^{(2,1)}(t))\\sigma_{2}^{X} + \\Omega_{d,3}(U_{6}^{(3,4)}(t)+U_{5}^{(3,1)}(t))\\sigma_{3}^{X} \\\\ & + \\Omega_{d,4}(U_{7}^{(4,3)}(t))\\sigma_{4}^{X} \\\\ \\end{align}$$</td></tr><tr><td>simulator</td><td>False</td></tr><tr><td>supported_features</td><td>['qobj']</td></tr><tr><td>acquisition_latency</td><td>[]</td></tr><tr><td>qubit_lo_range</td><td>[[4.529752488114597, 5.529752488114597], [4.627736242833567, 5.627736242833567], [4.747346229302887, 5.747346229302887], [4.802543441925689, 5.802543441925689], [4.592084200056814, 5.592084200056814]]</td></tr><tr><td>dtm</td><td>0.2222222222222222</td></tr><tr><td>u_channel_lo</td><td>[[{'q': 1, 'scale': (1+0j)}], [{'q': 0, 'scale': (1+0j)}], [{'q': 2, 'scale': (1+0j)}], [{'q': 3, 'scale': (1+0j)}], [{'q': 1, 'scale': (1+0j)}], [{'q': 1, 'scale': (1+0j)}], [{'q': 4, 'scale': (1+0j)}], [{'q': 3, 'scale': (1+0j)}]]</td></tr><tr><td>n_uchannels</td><td>8</td></tr><tr><td>meas_map</td><td>[[0, 1, 2, 3, 4]]</td></tr><tr><td>rep_times</td><td>[1000.0]</td></tr><tr><td>supported_instructions</td><td>['cx', 'id', 'delay', 'measure', 'reset', 'rz', 'sx', 'x']</td></tr><tr><td>discriminators</td><td>['linear_discriminator', 'hw_centroid', 'quadratic_discriminator']</td></tr><tr><td>conditional_latency</td><td>[]</td></tr><tr><td>local</td><td>False</td></tr><tr><td>multi_meas_enabled</td><td>True</td></tr><tr><td>meas_levels</td><td>[1, 2]</td></tr><tr><td>n_registers</td><td>1</td></tr><tr><td>meas_kernels</td><td>['hw_boxcar']</td></tr></table>"
      }
     },
     "4e058036d394402786cdcbd782b781e5": {
      "model_module": "@jupyter-widgets/controls",
      "model_module_version": "2.0.0",
      "model_name": "HTMLStyleModel",
      "state": {
       "description_width": "",
       "font_size": null,
       "text_color": null
      }
     },
     "4ebb15d47678465e8ce5e92439ead59b": {
      "model_module": "@jupyter-widgets/base",
      "model_module_version": "2.0.0",
      "model_name": "LayoutModel",
      "state": {}
     },
     "502a2f69fc334f369c469a4c0932cee2": {
      "model_module": "@jupyter-widgets/base",
      "model_module_version": "2.0.0",
      "model_name": "LayoutModel",
      "state": {
       "margin": "0px 0px 10px 0px"
      }
     },
     "542d37188d6c4f968516a0977a9bfbac": {
      "model_module": "@jupyter-widgets/base",
      "model_module_version": "2.0.0",
      "model_name": "LayoutModel",
      "state": {
       "grid_area": "right",
       "padding": "0px 0px 0px 0px",
       "width": "70px"
      }
     },
     "5560336bda5b4cd09f2a53a3799095fb": {
      "model_module": "@jupyter-widgets/base",
      "model_module_version": "2.0.0",
      "model_name": "LayoutModel",
      "state": {}
     },
     "562bbd39521e4ff6a2fff59e13635452": {
      "model_module": "@jupyter-widgets/controls",
      "model_module_version": "2.0.0",
      "model_name": "HTMLStyleModel",
      "state": {
       "description_width": "",
       "font_size": null,
       "text_color": null
      }
     },
     "59e035851e9e4d729a3e689918f331f5": {
      "model_module": "@jupyter-widgets/base",
      "model_module_version": "2.0.0",
      "model_name": "LayoutModel",
      "state": {
       "grid_gap": "0px 0px",
       "grid_template_areas": "\n                                                   \"top top top\"\n                                                   \"left middle right\"\n                                                   ",
       "grid_template_columns": "33% 33% 33%",
       "grid_template_rows": "auto auto"
      }
     },
     "5aa4a98f75074135b6cd41fedc219045": {
      "model_module": "@jupyter-widgets/controls",
      "model_module_version": "2.0.0",
      "model_name": "HTMLStyleModel",
      "state": {
       "description_width": "",
       "font_size": null,
       "text_color": null
      }
     },
     "657a3b1d2b9d43a1acae98074b088a7d": {
      "model_module": "@jupyter-widgets/controls",
      "model_module_version": "2.0.0",
      "model_name": "HBoxModel",
      "state": {
       "children": [
        "IPY_MODEL_7b58028974e242d0b5794d24bbac0df9",
        "IPY_MODEL_fdb6a0d27e984734b45e7a2c8d4ad0a9",
        "IPY_MODEL_a7b3b37054f14cdb9e92f7fd32a9078b",
        "IPY_MODEL_1a84a24829d943d5b6adb54ea8d5d958",
        "IPY_MODEL_bf61577a58f24e0dafca99f6b2235bcc"
       ],
       "layout": "IPY_MODEL_2d45c221330c44d5a4d57c8e0c5e34ef"
      }
     },
     "662ef9839c024ae5af5572af43b77e3d": {
      "model_module": "@jupyter-widgets/controls",
      "model_module_version": "2.0.0",
      "model_name": "HTMLModel",
      "state": {
       "layout": "IPY_MODEL_45594599dc2e4ca18cadbea32d041ef0",
       "style": "IPY_MODEL_2406a131874245d0bd59c2f673ae94a6",
       "value": "<div><font style='font-weight:bold'>last_update_date</font>: Sun 05 March 2023 at 07:07 Europe de l’Ouest</div>"
      }
     },
     "670bbee6a8b342138535ac88b3d67cf4": {
      "model_module": "@jupyter-widgets/base",
      "model_module_version": "2.0.0",
      "model_name": "LayoutModel",
      "state": {
       "width": "70px"
      }
     },
     "67bba0e65592451b824c286fdf5df348": {
      "model_module": "@jupyter-widgets/base",
      "model_module_version": "2.0.0",
      "model_name": "LayoutModel",
      "state": {
       "border_bottom": "4px solid #000000",
       "border_left": "4px solid #000000",
       "border_right": "4px solid #000000",
       "border_top": "4px solid #000000",
       "max_height": "650px",
       "min_height": "650px"
      }
     },
     "6909712f20724492bc4508ca65e12866": {
      "model_module": "@jupyter-widgets/base",
      "model_module_version": "2.0.0",
      "model_name": "LayoutModel",
      "state": {
       "width": "70px"
      }
     },
     "6a213806b23f4fa281ebad892b1b2151": {
      "model_module": "@jupyter-widgets/base",
      "model_module_version": "2.0.0",
      "model_name": "LayoutModel",
      "state": {
       "grid_template_areas": "\n                                       \". . . . right \"\n                                        ",
       "grid_template_columns": "20% 20% 20% 20% 20%",
       "width": "100%"
      }
     },
     "6b1e5308ea1142719b6e404ba6eef17e": {
      "model_module": "@jupyter-widgets/base",
      "model_module_version": "2.0.0",
      "model_name": "LayoutModel",
      "state": {}
     },
     "6c1a85d2c4f54791b22a109449e745bb": {
      "model_module": "@jupyter-widgets/base",
      "model_module_version": "2.0.0",
      "model_name": "LayoutModel",
      "state": {
       "grid_area": "middle"
      }
     },
     "6e2dc8bb67a34c84b57ac90c0db38d6e": {
      "model_module": "@jupyter-widgets/base",
      "model_module_version": "2.0.0",
      "model_name": "LayoutModel",
      "state": {}
     },
     "6e5a2acf428147ad944bbb7453f04fbf": {
      "model_module": "@jupyter-widgets/controls",
      "model_module_version": "2.0.0",
      "model_name": "HTMLStyleModel",
      "state": {
       "description_width": "",
       "font_size": null,
       "text_color": null
      }
     },
     "6f7e2ea5470248ce8187086b9b0c378d": {
      "model_module": "@jupyter-widgets/base",
      "model_module_version": "2.0.0",
      "model_name": "LayoutModel",
      "state": {}
     },
     "7004ccfcf68544e08b1cbee05b02a395": {
      "model_module": "@jupyter-widgets/controls",
      "model_module_version": "2.0.0",
      "model_name": "HTMLStyleModel",
      "state": {
       "description_width": "",
       "font_size": null,
       "text_color": null
      }
     },
     "74638a5bfd184135be8af7117fb34e95": {
      "model_module": "@jupyter-widgets/controls",
      "model_module_version": "2.0.0",
      "model_name": "HTMLModel",
      "state": {
       "layout": "IPY_MODEL_499b8ef9ab0e4455b55b9bd645b28df5",
       "style": "IPY_MODEL_498658f77cf94b8da1f6223c3ff78509",
       "value": "<h5>Job ID</h5>"
      }
     },
     "74703626b6f5435f9902962dff3bc7c3": {
      "model_module": "@jupyter-widgets/controls",
      "model_module_version": "2.0.0",
      "model_name": "HTMLStyleModel",
      "state": {
       "description_width": "",
       "font_size": null,
       "text_color": null
      }
     },
     "765b5067df1048559466768802911ba3": {
      "model_module": "@jupyter-widgets/controls",
      "model_module_version": "2.0.0",
      "model_name": "HTMLModel",
      "state": {
       "layout": "IPY_MODEL_c59800e3d4f74b9a8de25ec937b7511d",
       "style": "IPY_MODEL_79def7be52ef4ea1a1e158c771c0aed6",
       "value": "<h1 style='color:#ffffff;background-color:#000000;padding-top: 1%;padding-bottom: 1%;padding-left: 1%; margin-top: 0px'>ibmq_quito</h1>"
      }
     },
     "76c358a19962416ba017de8552c952c5": {
      "model_module": "@jupyter-widgets/base",
      "model_module_version": "2.0.0",
      "model_name": "LayoutModel",
      "state": {
       "border_bottom": "4px solid #000000",
       "border_left": "4px solid #000000",
       "border_right": "4px solid #000000",
       "border_top": "4px solid #000000",
       "max_height": "650px",
       "min_height": "650px"
      }
     },
     "775e6b9985b64fce814d1380f9f2e272": {
      "model_module": "@jupyter-widgets/controls",
      "model_module_version": "2.0.0",
      "model_name": "VBoxModel",
      "state": {
       "children": [
        "IPY_MODEL_662ef9839c024ae5af5572af43b77e3d",
        "IPY_MODEL_7df0439f495144349b4f13778a157625"
       ],
       "layout": "IPY_MODEL_1a288462c7ea4eb385f5d1d4d371e0b1"
      }
     },
     "77921c58cd654c43b802e0b7e0560166": {
      "model_module": "@jupyter-widgets/controls",
      "model_module_version": "2.0.0",
      "model_name": "HTMLModel",
      "state": {
       "layout": "IPY_MODEL_11155c4c4ffb47709904d0c4f29959e4",
       "style": "IPY_MODEL_378ce428d01041518769b2ddb6899b43",
       "value": "<h5>Backend</h5>"
      }
     },
     "779274246717429ba145a4fa5553ba33": {
      "model_module": "@jupyter-widgets/controls",
      "model_module_version": "2.0.0",
      "model_name": "HTMLStyleModel",
      "state": {
       "description_width": "",
       "font_size": null,
       "text_color": null
      }
     },
     "79def7be52ef4ea1a1e158c771c0aed6": {
      "model_module": "@jupyter-widgets/controls",
      "model_module_version": "2.0.0",
      "model_name": "HTMLStyleModel",
      "state": {
       "description_width": "",
       "font_size": null,
       "text_color": null
      }
     },
     "7b58028974e242d0b5794d24bbac0df9": {
      "model_module": "@jupyter-widgets/controls",
      "model_module_version": "2.0.0",
      "model_name": "HTMLModel",
      "state": {
       "layout": "IPY_MODEL_9e993275899a45b197e45964bd3b90ba",
       "style": "IPY_MODEL_85a1a04994e847e18167cb9be19b916d",
       "value": "<h5>Job ID</h5>"
      }
     },
     "7ddfe7bde70648268cd902cd9cbf4801": {
      "model_module": "@jupyter-widgets/base",
      "model_module_version": "2.0.0",
      "model_name": "LayoutModel",
      "state": {}
     },
     "7df0439f495144349b4f13778a157625": {
      "model_module": "@jupyter-widgets/controls",
      "model_module_version": "2.0.0",
      "model_name": "HTMLModel",
      "state": {
       "layout": "IPY_MODEL_d5d0c7f5f8894a17bcef800007f7c57a",
       "style": "IPY_MODEL_dc514ff1568643d0b1a039d9db1487d6",
       "value": "<table><style>\ntable {\n    border-collapse: collapse;\n    width: auto;\n}\n\nth, td {\n    text-align: left;\n    padding: 8px;\n}\n\ntr:nth-child(even) {background-color: #f6f6f6;}\n</style><tr><th></th><th>Frequency</th><th>T1</th><th>T2</th><th>RZ</th><th>SX</th><th>X</th><th>Readout error</th></tr><tr><td><font style='font-weight:bold'>Q0</font></td><td>5.09022 GHz</td><td>80.03083 us</td><td>125.29743 us</td><td>0</td><td>0.00022</td><td>0.00022</td><td>0.0196 </td><tr><td><font style='font-weight:bold'>Q1</font></td><td>5.24553 GHz</td><td>97.77368 us</td><td>113.18881 us</td><td>0</td><td>0.00038</td><td>0.00038</td><td>0.0172 </td><tr><td><font style='font-weight:bold'>Q2</font></td><td>5.36134 GHz</td><td>66.60893 us</td><td>56.27592 us</td><td>0</td><td>0.00183</td><td>0.00183</td><td>0.0347 </td><tr><td><font style='font-weight:bold'>Q3</font></td><td>5.17032 GHz</td><td>110.9521 us</td><td>142.60505 us</td><td>0</td><td>0.00032</td><td>0.00032</td><td>0.0266 </td><tr><td><font style='font-weight:bold'>Q4</font></td><td>5.25847 GHz</td><td>60.31255 us</td><td>74.61951 us</td><td>0</td><td>0.00116</td><td>0.00116</td><td>0.0343 </td></table>"
      }
     },
     "81115afb70e24c488bb92ce519d0e282": {
      "model_module": "@jupyter-widgets/output",
      "model_module_version": "1.0.0",
      "model_name": "OutputModel",
      "state": {
       "layout": "IPY_MODEL_1df8f5e3d93842c798fb3fd4d9e3f6e3",
       "outputs": [
        {
         "data": {
          "image/png": "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\n",
          "text/plain": "<Figure size 500x500 with 1 Axes>"
         },
         "metadata": {},
         "output_type": "display_data"
        }
       ]
      }
     },
     "81fd414d8b454a87962ff4ce02e68704": {
      "model_module": "@jupyter-widgets/controls",
      "model_module_version": "2.0.0",
      "model_name": "HTMLMathModel",
      "state": {
       "layout": "IPY_MODEL_e7172933f3894b96bd45819c93abb435",
       "style": "IPY_MODEL_89c64363013c431a90ba7b6209b22c3b",
       "value": "<table><style>\ntable {\n    border-collapse: collapse;\n    width: auto;\n}\n\nth, td {\n    text-align: left;\n    padding: 8px;\n}\n\ntr:nth-child(even) {background-color: #f6f6f6;}\n</style><tr><th>Property</th><th>Value</th></tr><tr><td><font style='font-weight:bold'>n_qubits</font></td><td>5</td></tr><tr><td><font style='font-weight:bold'>quantum_volume</font></td><td>16</td></tr><tr><td><font style='font-weight:bold'>operational</font></td><td>True</td></tr><tr><td><font style='font-weight:bold'>status_msg</font></td><td>active</td></tr><tr><td><font style='font-weight:bold'>pending_jobs</font></td><td>38</td></tr><tr><td><font style='font-weight:bold'>backend_version</font></td><td>1.1.39</td></tr><tr><td><font style='font-weight:bold'>basis_gates</font></td><td>['id', 'rz', 'sx', 'x', 'cx', 'reset']</td></tr><tr><td><font style='font-weight:bold'>max_shots</font></td><td>20000</td></tr><tr><td><font style='font-weight:bold'>max_experiments</font></td><td>100</td></tr></table>"
      }
     },
     "842a86a1310d48d3ab4197ec04e7411d": {
      "model_module": "@jupyter-widgets/controls",
      "model_module_version": "2.0.0",
      "model_name": "HTMLStyleModel",
      "state": {
       "description_width": "",
       "font_size": null,
       "text_color": null
      }
     },
     "848dff98e3f24aa8ac8e52951801ba74": {
      "model_module": "@jupyter-widgets/controls",
      "model_module_version": "2.0.0",
      "model_name": "HTMLModel",
      "state": {
       "layout": "IPY_MODEL_6b1e5308ea1142719b6e404ba6eef17e",
       "style": "IPY_MODEL_0c337112968944fb99fffc6c3f95ffed",
       "value": "<h5>Message</h5>"
      }
     },
     "85a1a04994e847e18167cb9be19b916d": {
      "model_module": "@jupyter-widgets/controls",
      "model_module_version": "2.0.0",
      "model_name": "HTMLStyleModel",
      "state": {
       "description_width": "",
       "font_size": null,
       "text_color": null
      }
     },
     "860b5e0162e94694bd38c89d7478cf36": {
      "model_module": "@jupyter-widgets/controls",
      "model_module_version": "2.0.0",
      "model_name": "HTMLModel",
      "state": {
       "layout": "IPY_MODEL_9aca1bd2bf854752a3e35970b3482063",
       "style": "IPY_MODEL_1e011fca60a74bc68ac074eab07435f4",
       "value": "<table><style>\ntable {\n    border-collapse: collapse;\n    width: auto;\n}\n\nth, td {\n    text-align: left;\n    padding: 8px;\n}\n\ntr:nth-child(even) {background-color: #f6f6f6;};\n</style><tr><th></th><th>Type</th><th>Gate error</th></tr><tr><td><font style='font-weight:bold'>cx4_3</font></td><td>cx</td><td>0.01603</td></tr><tr><td><font style='font-weight:bold'>cx3_4</font></td><td>cx</td><td>0.01603</td></tr><tr><td><font style='font-weight:bold'>cx0_1</font></td><td>cx</td><td>0.00819</td></tr></table>"
      }
     },
     "86b11167966c4c8799924510cbfbc097": {
      "model_module": "@jupyter-widgets/controls",
      "model_module_version": "2.0.0",
      "model_name": "HTMLMathStyleModel",
      "state": {
       "description_width": "",
       "font_size": null,
       "text_color": null
      }
     },
     "87cb9bb919b14b29bc6e97d447dcca09": {
      "model_module": "@jupyter-widgets/controls",
      "model_module_version": "2.0.0",
      "model_name": "HTMLModel",
      "state": {
       "layout": "IPY_MODEL_a7a06930c7ca4c178c1d5fd224f26bdd",
       "style": "IPY_MODEL_ea5e297b9992495e923d29586390dc0c",
       "value": "<h1 style='color:#ffffff;background-color:#000000;padding-top: 1%;padding-bottom: 1%;padding-left: 1%; margin-top: 0px'>ibmq_lima</h1>"
      }
     },
     "88d74a375798462ba594bbfeba0eb584": {
      "model_module": "@jupyter-widgets/base",
      "model_module_version": "2.0.0",
      "model_name": "LayoutModel",
      "state": {
       "grid_area": "left",
       "width": "100%"
      }
     },
     "89c15704f5b745c894be375a07969eca": {
      "model_module": "@jupyter-widgets/controls",
      "model_module_version": "2.0.0",
      "model_name": "HTMLStyleModel",
      "state": {
       "description_width": "",
       "font_size": null,
       "text_color": null
      }
     },
     "89c64363013c431a90ba7b6209b22c3b": {
      "model_module": "@jupyter-widgets/controls",
      "model_module_version": "2.0.0",
      "model_name": "HTMLMathStyleModel",
      "state": {
       "description_width": "",
       "font_size": null,
       "text_color": null
      }
     },
     "8ad52bed55234a4fb3a7dafb2b41e642": {
      "model_module": "@jupyter-widgets/base",
      "model_module_version": "2.0.0",
      "model_name": "LayoutModel",
      "state": {
       "align_items": "center",
       "display": "flex-inline",
       "grid_area": "right",
       "max_height": "325px",
       "padding": "10px 10px 10px 10px",
       "width": "auto"
      }
     },
     "8cc317bee0504c14ba00a6365af5c3a2": {
      "model_module": "@jupyter-widgets/controls",
      "model_module_version": "2.0.0",
      "model_name": "HTMLStyleModel",
      "state": {
       "description_width": "",
       "font_size": null,
       "text_color": null
      }
     },
     "8f1097a705fa489295bdd09eb3cdc9d6": {
      "model_module": "@jupyter-widgets/base",
      "model_module_version": "2.0.0",
      "model_name": "LayoutModel",
      "state": {
       "max_height": "620px"
      }
     },
     "92526342723847efbdb15efe78bdc2c1": {
      "model_module": "@jupyter-widgets/controls",
      "model_module_version": "2.0.0",
      "model_name": "HTMLModel",
      "state": {
       "layout": "IPY_MODEL_ef2bae7515dd4bcebe380740445010b2",
       "style": "IPY_MODEL_89c15704f5b745c894be375a07969eca",
       "value": "<table><style>\ntable {\n    border-collapse: collapse;\n    width: auto;\n}\n\nth, td {\n    text-align: left;\n    padding: 8px;\n}\n\ntr:nth-child(even) {background-color: #f6f6f6;};\n</style><tr><th></th><th>Type</th><th>Gate error</th></tr><tr><td><font style='font-weight:bold'>cx3_4</font></td><td>cx</td><td>0.01674</td></tr><tr><td><font style='font-weight:bold'>cx4_3</font></td><td>cx</td><td>0.01674</td></tr><tr><td><font style='font-weight:bold'>cx1_3</font></td><td>cx</td><td>0.01295</td></tr></table>"
      }
     },
     "931883977a97403ea19e37076f1fc2a1": {
      "model_module": "@jupyter-widgets/controls",
      "model_module_version": "2.0.0",
      "model_name": "GridBoxModel",
      "state": {
       "children": [
        "IPY_MODEL_dbd4183e88bc4b2eb09c25eca1d45342"
       ],
       "layout": "IPY_MODEL_f9dbf716f89244c3ab79cc72584e0e63"
      }
     },
     "9555a5a1cb8f4b43acb8e4b6e0a9964b": {
      "model_module": "@jupyter-widgets/controls",
      "model_module_version": "2.0.0",
      "model_name": "HTMLStyleModel",
      "state": {
       "description_width": "",
       "font_size": null,
       "text_color": null
      }
     },
     "96ce226d0696422abe0fe509a8c64142": {
      "model_module": "@jupyter-widgets/base",
      "model_module_version": "2.0.0",
      "model_name": "LayoutModel",
      "state": {
       "grid_area": "top"
      }
     },
     "984beb7dcea849be917a1f13ca33c9b6": {
      "model_module": "@jupyter-widgets/base",
      "model_module_version": "2.0.0",
      "model_name": "LayoutModel",
      "state": {
       "grid_area": "bottom",
       "width": "auto"
      }
     },
     "988eced8756a41f5b8b3ce9069eff250": {
      "model_module": "@jupyter-widgets/base",
      "model_module_version": "2.0.0",
      "model_name": "LayoutModel",
      "state": {
       "width": "95px"
      }
     },
     "9a5827be8a5c4d27869606fcd11df3e9": {
      "model_module": "@jupyter-widgets/controls",
      "model_module_version": "2.0.0",
      "model_name": "HBoxModel",
      "state": {
       "children": [
        "IPY_MODEL_08ffc90d15894d06b0c74083e614d5e3",
        "IPY_MODEL_77921c58cd654c43b802e0b7e0560166",
        "IPY_MODEL_a57d395dfc304ff7bef2007350b61259",
        "IPY_MODEL_f8b0476d8d9f42818236dcb48f2c38bc",
        "IPY_MODEL_cf75248d2ac04e87bb107c589974315f"
       ],
       "layout": "IPY_MODEL_1821f50933a447cc96d8170cfa8347c8"
      }
     },
     "9a605959a9054e38b26e71ca81112ad7": {
      "model_module": "@jupyter-widgets/base",
      "model_module_version": "2.0.0",
      "model_name": "LayoutModel",
      "state": {
       "grid_gap": "0px 0px",
       "grid_template_areas": "\n                               \"left right right right\"\n                               \"bottom bottom bottom bottom\"\n                               ",
       "grid_template_columns": "31% 23% 23% 23%",
       "grid_template_rows": "auto auto"
      }
     },
     "9aca1bd2bf854752a3e35970b3482063": {
      "model_module": "@jupyter-widgets/base",
      "model_module_version": "2.0.0",
      "model_name": "LayoutModel",
      "state": {
       "grid_area": "left"
      }
     },
     "9ba4b1f1938944b9874bc211ef1cc482": {
      "model_module": "@jupyter-widgets/controls",
      "model_module_version": "2.0.0",
      "model_name": "GridBoxModel",
      "state": {
       "children": [
        "IPY_MODEL_81fd414d8b454a87962ff4ce02e68704",
        "IPY_MODEL_81115afb70e24c488bb92ce519d0e282",
        "IPY_MODEL_ba2b13f49bc4457c931d331c23af8a54"
       ],
       "layout": "IPY_MODEL_18a1d021760948d79e59b85ee9641577"
      }
     },
     "9bc6773d75e94f2da064ae2f82de06bc": {
      "model_module": "@jupyter-widgets/controls",
      "model_module_version": "2.0.0",
      "model_name": "HTMLModel",
      "state": {
       "layout": "IPY_MODEL_dbdbdb867aef4437b5cb335e814a1ecc",
       "style": "IPY_MODEL_b961f2f8fec1484d8a5a03c8034d8996",
       "value": "<table><style>\ntable {\n    border-collapse: collapse;\n    width: auto;\n}\n\nth, td {\n    text-align: left;\n    padding: 8px;\n}\n\ntr:nth-child(even) {background-color: #f6f6f6;};\n</style><tr><th></th><th>Type</th><th>Gate error</th></tr><tr><td><font style='font-weight:bold'>cx1_0</font></td><td>cx</td><td>0.00819</td></tr><tr><td><font style='font-weight:bold'>cx3_1</font></td><td>cx</td><td>0.01372</td></tr><tr><td><font style='font-weight:bold'>cx1_3</font></td><td>cx</td><td>0.01372</td></tr></table>"
      }
     },
     "9be0efd8861748bd9161fc707896188d": {
      "model_module": "@jupyter-widgets/controls",
      "model_module_version": "2.0.0",
      "model_name": "ButtonStyleModel",
      "state": {
       "font_family": null,
       "font_size": null,
       "font_style": null,
       "font_variant": null,
       "font_weight": null,
       "text_color": null,
       "text_decoration": null
      }
     },
     "9dcc221c055643bfbbf5851d7cabfd7c": {
      "model_module": "@jupyter-widgets/controls",
      "model_module_version": "2.0.0",
      "model_name": "HTMLModel",
      "state": {
       "layout": "IPY_MODEL_e514c981e1ea447690ce85a3140b24ec",
       "style": "IPY_MODEL_d6e4f4048d154cf88691cf988e25f173",
       "value": "<h5>Backend</h5>"
      }
     },
     "9e993275899a45b197e45964bd3b90ba": {
      "model_module": "@jupyter-widgets/base",
      "model_module_version": "2.0.0",
      "model_name": "LayoutModel",
      "state": {
       "width": "190px"
      }
     },
     "a0ae1c7078c345d89a8e1731585c1464": {
      "model_module": "@jupyter-widgets/controls",
      "model_module_version": "2.0.0",
      "model_name": "VBoxModel",
      "state": {
       "children": [
        "IPY_MODEL_48210798ce7947cb942996d041032bee",
        "IPY_MODEL_fe03af7caac34c3991a43f3ebeefb322"
       ],
       "layout": "IPY_MODEL_67bba0e65592451b824c286fdf5df348"
      }
     },
     "a202df2bf885469aa7dcbf30277d6ddf": {
      "model_module": "@jupyter-widgets/controls",
      "model_module_version": "2.0.0",
      "model_name": "VBoxModel",
      "state": {
       "children": [
        "IPY_MODEL_d367365067064948b2c49ce66fc68923",
        "IPY_MODEL_10552d5141de4642b0b12baf1e7bdaea"
       ],
       "layout": "IPY_MODEL_26b9c1d79d51445392b085e567a2b00a"
      }
     },
     "a24a53cfca584cbb9277d662c0592f1e": {
      "model_module": "@jupyter-widgets/base",
      "model_module_version": "2.0.0",
      "model_name": "LayoutModel",
      "state": {
       "width": "95px"
      }
     },
     "a3e2e0dd2cac44259886d66f7e13f7eb": {
      "model_module": "@jupyter-widgets/controls",
      "model_module_version": "2.0.0",
      "model_name": "HTMLStyleModel",
      "state": {
       "description_width": "",
       "font_size": null,
       "text_color": null
      }
     },
     "a4d989b81e6f42879fe94f6b4d3bd1d7": {
      "model_module": "@jupyter-widgets/controls",
      "model_module_version": "2.0.0",
      "model_name": "HTMLStyleModel",
      "state": {
       "description_width": "",
       "font_size": null,
       "text_color": null
      }
     },
     "a57d395dfc304ff7bef2007350b61259": {
      "model_module": "@jupyter-widgets/controls",
      "model_module_version": "2.0.0",
      "model_name": "HTMLModel",
      "state": {
       "layout": "IPY_MODEL_ddc8be6f7dfb43d0a22873646b576ffa",
       "style": "IPY_MODEL_5aa4a98f75074135b6cd41fedc219045",
       "value": "<h5>Status</h5>"
      }
     },
     "a6dac67f8ae6488fa8719d4c662374ee": {
      "model_module": "@jupyter-widgets/controls",
      "model_module_version": "2.0.0",
      "model_name": "ButtonStyleModel",
      "state": {
       "font_family": null,
       "font_size": null,
       "font_style": null,
       "font_variant": null,
       "font_weight": null,
       "text_color": null,
       "text_decoration": null
      }
     },
     "a70ca3a72ac8444589e91f2da3cdc98f": {
      "model_module": "@jupyter-widgets/base",
      "model_module_version": "2.0.0",
      "model_name": "LayoutModel",
      "state": {
       "grid_template_areas": "\n                                       \". . . . right \"\n                                        ",
       "grid_template_columns": "20% 20% 20% 20% 20%",
       "width": "100%"
      }
     },
     "a7465fbcb87048b08d23b085fea3af56": {
      "model_module": "@jupyter-widgets/controls",
      "model_module_version": "2.0.0",
      "model_name": "HTMLModel",
      "state": {
       "layout": "IPY_MODEL_6c1a85d2c4f54791b22a109449e745bb",
       "style": "IPY_MODEL_4e058036d394402786cdcbd782b781e5",
       "value": "<table><style>\ntable {\n    border-collapse: collapse;\n    width: auto;\n}\n\nth, td {\n    text-align: left;\n    padding: 8px;\n}\n\ntr:nth-child(even) {background-color: #f6f6f6;};\n</style><tr><th></th><th>Type</th><th>Gate error</th></tr><tr><td><font style='font-weight:bold'>cx3_1</font></td><td>cx</td><td>0.01295</td></tr><tr><td><font style='font-weight:bold'>cx2_1</font></td><td>cx</td><td>0.01143</td></tr><tr><td><font style='font-weight:bold'>cx1_2</font></td><td>cx</td><td>0.01143</td></tr></table>"
      }
     },
     "a7a06930c7ca4c178c1d5fd224f26bdd": {
      "model_module": "@jupyter-widgets/base",
      "model_module_version": "2.0.0",
      "model_name": "LayoutModel",
      "state": {
       "margin": "0px 0px 0px 0px"
      }
     },
     "a7b3b37054f14cdb9e92f7fd32a9078b": {
      "model_module": "@jupyter-widgets/controls",
      "model_module_version": "2.0.0",
      "model_name": "HTMLModel",
      "state": {
       "layout": "IPY_MODEL_988eced8756a41f5b8b3ce9069eff250",
       "style": "IPY_MODEL_efc3c88e4a494c6f91179af667c3bffd",
       "value": "<h5>Status</h5>"
      }
     },
     "a8073c0e53f24a1d8a0f0ba7955fd590": {
      "model_module": "@jupyter-widgets/controls",
      "model_module_version": "2.0.0",
      "model_name": "HTMLMathModel",
      "state": {
       "layout": "IPY_MODEL_ccc5e462ce9b44e1bfafc42728ff6576",
       "style": "IPY_MODEL_86b11167966c4c8799924510cbfbc097",
       "value": "<table><style>\ntable {\n    border-collapse: collapse;\n    width: auto;\n}\n\nth, td {\n    text-align: left;\n    padding: 8px;\n}\n\ntr:nth-child(even) {background-color: #f6f6f6;}\n</style><tr><th>Property</th><th>Value</th></tr><tr><td><font style='font-weight:bold'>n_qubits</font></td><td>5</td></tr><tr><td><font style='font-weight:bold'>quantum_volume</font></td><td>8</td></tr><tr><td><font style='font-weight:bold'>operational</font></td><td>True</td></tr><tr><td><font style='font-weight:bold'>status_msg</font></td><td>active</td></tr><tr><td><font style='font-weight:bold'>pending_jobs</font></td><td>76</td></tr><tr><td><font style='font-weight:bold'>backend_version</font></td><td>1.0.46</td></tr><tr><td><font style='font-weight:bold'>basis_gates</font></td><td>['id', 'rz', 'sx', 'x', 'cx', 'reset']</td></tr><tr><td><font style='font-weight:bold'>max_shots</font></td><td>20000</td></tr><tr><td><font style='font-weight:bold'>max_experiments</font></td><td>100</td></tr></table>"
      }
     },
     "a8686b7b3483471b99e8b7cae817e597": {
      "model_module": "@jupyter-widgets/base",
      "model_module_version": "2.0.0",
      "model_name": "LayoutModel",
      "state": {
       "margin": "0px 0px 10px 0px"
      }
     },
     "aca5760809564224a243143783b537d1": {
      "model_module": "@jupyter-widgets/base",
      "model_module_version": "2.0.0",
      "model_name": "LayoutModel",
      "state": {
       "grid_area": "bottom",
       "width": "auto"
      }
     },
     "ada05311bb104b3180c084032ea7286e": {
      "model_module": "@jupyter-widgets/base",
      "model_module_version": "2.0.0",
      "model_name": "LayoutModel",
      "state": {
       "max_height": "620px"
      }
     },
     "b08d735f69304aaa9e6ca998a83d230a": {
      "model_module": "@jupyter-widgets/controls",
      "model_module_version": "2.0.0",
      "model_name": "HBoxModel",
      "state": {
       "children": [
        "IPY_MODEL_74638a5bfd184135be8af7117fb34e95",
        "IPY_MODEL_9dcc221c055643bfbbf5851d7cabfd7c",
        "IPY_MODEL_48a92d7e2fed48b7a3991237c824d58e",
        "IPY_MODEL_1312add5808d4dbaadc3bfa5736f658c",
        "IPY_MODEL_848dff98e3f24aa8ac8e52951801ba74"
       ],
       "layout": "IPY_MODEL_d488c84d69284624b1bdd422b9387400"
      }
     },
     "b298e21b71894328a3edb4273b1f3b2b": {
      "model_module": "@jupyter-widgets/base",
      "model_module_version": "2.0.0",
      "model_name": "LayoutModel",
      "state": {
       "max_height": "620px"
      }
     },
     "b3fad2a23e5e40ca97436feb87bf4b9e": {
      "model_module": "@jupyter-widgets/controls",
      "model_module_version": "2.0.0",
      "model_name": "TabModel",
      "state": {
       "children": [
        "IPY_MODEL_9ba4b1f1938944b9874bc211ef1cc482",
        "IPY_MODEL_039cc312599b47f8b6c898f6d2fabe22",
        "IPY_MODEL_ccaa6d2df4ae445b9392ec03b22d910c",
        "IPY_MODEL_022514c9a5ee42da8625389e33b8aad6",
        "IPY_MODEL_0afb0680eed34c84871d9747b77dec60"
       ],
       "layout": "IPY_MODEL_257eb435e7ce43c29ecbd4454436125f",
       "selected_index": 0,
       "titles": [
        "Configuration",
        "Qubit Properties",
        "Multi-Qubit Gates",
        "Error Map",
        "Job History"
       ]
      }
     },
     "b961f2f8fec1484d8a5a03c8034d8996": {
      "model_module": "@jupyter-widgets/controls",
      "model_module_version": "2.0.0",
      "model_name": "HTMLStyleModel",
      "state": {
       "description_width": "",
       "font_size": null,
       "text_color": null
      }
     },
     "b9847f61a46f4914bd604ee0d3b59e7e": {
      "model_module": "@quantum/ibm-q-lab-widgets",
      "model_module_version": "^1.0.3",
      "model_name": "CircuitComposerModel",
      "state": {
       "_model_module_version": "^1.0.3",
       "_view_module_version": "^1.0.3",
       "circuit": "\"OPENQASM 2.0;\\ninclude \\\"qelib1.inc\\\";\\n\\nqreg q[3];\\ncreg c[3];\\n\\nh q[0];\\ncx q[0],q[1];\"",
       "editable": true,
       "layout": "IPY_MODEL_fad83839cb0d4cb08fbacd97d85c1b59",
       "qiskit_code_cell_index": -1
      }
     },
     "ba2b13f49bc4457c931d331c23af8a54": {
      "model_module": "@jupyter-widgets/controls",
      "model_module_version": "2.0.0",
      "model_name": "HTMLMathModel",
      "state": {
       "layout": "IPY_MODEL_aca5760809564224a243143783b537d1",
       "style": "IPY_MODEL_4330bc4fb2634b03a90951c2307726ce",
       "value": "<table><style>\ntable {\n    border-collapse: collapse;\n    width: auto;\n}\n\nth, td {\n    text-align: left;\n    padding: 8px;\n}\n\ntr:nth-child(even) {background-color: #f6f6f6;}\n</style><tr><th></th><th></th></tr><tr><td>backend_name</td><td>ibmq_quito</td></tr><tr><td>coupling_map</td><td>[[0, 1], [1, 0], [1, 2], [1, 3], [2, 1], [3, 1], [3, 4], [4, 3]]</td></tr><tr><td>online_date</td><td>2021-01-08 05:00:00+00:00</td></tr><tr><td>memory</td><td>True</td></tr><tr><td>pulse_num_channels</td><td>9</td></tr><tr><td>input_allowed</td><td>['job', 'runtime']</td></tr><tr><td>timing_constraints</td><td>{'acquire_alignment': 16, 'granularity': 16, 'min_length': 64, 'pulse_alignment': 1}</td></tr><tr><td>description</td><td>5 qubit device Quito</td></tr><tr><td>meas_lo_range</td><td>[[6.807868157000001, 7.807868157000001], [6.7292695270000005, 7.7292695270000005], [6.991060108, 7.991060108], [6.8547510460000005, 7.8547510460000005], [6.904365522000001, 7.904365522000001]]</td></tr><tr><td>dt</td><td>0.2222222222222222</td></tr><tr><td>uchannels_enabled</td><td>True</td></tr><tr><td>measure_esp_enabled</td><td>False</td></tr><tr><td>dynamic_reprate_enabled</td><td>True</td></tr><tr><td>default_rep_delay</td><td>250.0</td></tr><tr><td>qubit_channel_mapping</td><td>[['u0', 'u1', 'd0', 'm0'], ['u4', 'u0', 'u3', 'u5', 'u2', 'u1', 'm1', 'd1'], ['u2', 'd2', 'm2', 'u4'], ['d3', 'u6', 'u7', 'u3', 'u5', 'm3'], ['u7', 'm4', 'd4', 'u6']]</td></tr><tr><td>allow_object_storage</td><td>True</td></tr><tr><td>processor_type</td><td>{'family': 'Falcon', 'revision': 4, 'segment': 'T'}</td></tr><tr><td>conditional</td><td>False</td></tr><tr><td>pulse_num_qubits</td><td>3</td></tr><tr><td>channels</td><td>{'acquire0': {'operates': {'qubits': [0]}, 'purpose': 'acquire', 'type': 'acquire'}, 'acquire1': {'operates': {'qubits': [1]}, 'purpose': 'acquire', 'type': 'acquire'}, 'acquire2': {'operates': {'qubits': [2]}, 'purpose': 'acquire', 'type': 'acquire'}, 'acquire3': {'operates': {'qubits': [3]}, 'purpose': 'acquire', 'type': 'acquire'}, 'acquire4': {'operates': {'qubits': [4]}, 'purpose': 'acquire', 'type': 'acquire'}, 'd0': {'operates': {'qubits': [0]}, 'purpose': 'drive', 'type': 'drive'}, 'd1': {'operates': {'qubits': [1]}, 'purpose': 'drive', 'type': 'drive'}, 'd2': {'operates': {'qubits': [2]}, 'purpose': 'drive', 'type': 'drive'}, 'd3': {'operates': {'qubits': [3]}, 'purpose': 'drive', 'type': 'drive'}, 'd4': {'operates': {'qubits': [4]}, 'purpose': 'drive', 'type': 'drive'}, 'm0': {'operates': {'qubits': [0]}, 'purpose': 'measure', 'type': 'measure'}, 'm1': {'operates': {'qubits': [1]}, 'purpose': 'measure', 'type': 'measure'}, 'm2': {'operates': {'qubits': [2]}, 'purpose': 'measure', 'type': 'measure'}, 'm3': {'operates': {'qubits': [3]}, 'purpose': 'measure', 'type': 'measure'}, 'm4': {'operates': {'qubits': [4]}, 'purpose': 'measure', 'type': 'measure'}, 'u0': {'operates': {'qubits': [0, 1]}, 'purpose': 'cross-resonance', 'type': 'control'}, 'u1': {'operates': {'qubits': [1, 0]}, 'purpose': 'cross-resonance', 'type': 'control'}, 'u2': {'operates': {'qubits': [1, 2]}, 'purpose': 'cross-resonance', 'type': 'control'}, 'u3': {'operates': {'qubits': [1, 3]}, 'purpose': 'cross-resonance', 'type': 'control'}, 'u4': {'operates': {'qubits': [2, 1]}, 'purpose': 'cross-resonance', 'type': 'control'}, 'u5': {'operates': {'qubits': [3, 1]}, 'purpose': 'cross-resonance', 'type': 'control'}, 'u6': {'operates': {'qubits': [3, 4]}, 'purpose': 'cross-resonance', 'type': 'control'}, 'u7': {'operates': {'qubits': [4, 3]}, 'purpose': 'cross-resonance', 'type': 'control'}}</td></tr><tr><td>open_pulse</td><td>False</td></tr><tr><td>parallel_compilation</td><td>False</td></tr><tr><td>rep_delay_range</td><td>[0.0, 500.0]</td></tr><tr><td>credits_required</td><td>True</td></tr><tr><td>parametric_pulses</td><td>['gaussian', 'gaussian_square', 'gaussian_square_drag', 'drag', 'constant']</td></tr><tr><td>clops</td><td>2506</td></tr><tr><td>url</td><td>None</td></tr><tr><td>allow_q_object</td><td>True</td></tr><tr><td>live_data</td><td>False</td></tr><tr><td>sample_name</td><td>family: Falcon, revision: 4, segment: T</td></tr><tr><td>hamiltonian</td><td>$$\\begin{align} \\mathcal{H}/\\hbar = & \\sum_{i=0}^{4}\\left(\\frac{\\omega_{q,i}}{2}(\\mathbb{I}-\\sigma_i^{z})+\\frac{\\Delta_{i}}{2}(O_i^2-O_i)+\\Omega_{d,i}D_i(t)\\sigma_i^{X}\\right) \\\\ & + J_{0,1}(\\sigma_{0}^{+}\\sigma_{1}^{-}+\\sigma_{0}^{-}\\sigma_{1}^{+}) + J_{1,2}(\\sigma_{1}^{+}\\sigma_{2}^{-}+\\sigma_{1}^{-}\\sigma_{2}^{+}) + J_{1,3}(\\sigma_{1}^{+}\\sigma_{3}^{-}+\\sigma_{1}^{-}\\sigma_{3}^{+}) + J_{3,4}(\\sigma_{3}^{+}\\sigma_{4}^{-}+\\sigma_{3}^{-}\\sigma_{4}^{+}) \\\\ & + \\Omega_{d,0}(U_{0}^{(0,1)}(t))\\sigma_{0}^{X} + \\Omega_{d,1}(U_{1}^{(1,0)}(t)+U_{3}^{(1,3)}(t)+U_{2}^{(1,2)}(t))\\sigma_{1}^{X} \\\\ & + \\Omega_{d,2}(U_{4}^{(2,1)}(t))\\sigma_{2}^{X} + \\Omega_{d,3}(U_{6}^{(3,4)}(t)+U_{5}^{(3,1)}(t))\\sigma_{3}^{X} \\\\ & + \\Omega_{d,4}(U_{7}^{(4,3)}(t))\\sigma_{4}^{X} \\\\ \\end{align}$$</td></tr><tr><td>simulator</td><td>False</td></tr><tr><td>supported_features</td><td>['qobj']</td></tr><tr><td>acquisition_latency</td><td>[]</td></tr><tr><td>qubit_lo_range</td><td>[[4.800686354247838, 5.800686354247838], [4.580578785988127, 5.580578785988127], [4.822186692370727, 5.822186692370727], [4.6636222287991, 5.663622228799101], [4.552330180301075, 5.552330180301075]]</td></tr><tr><td>dtm</td><td>0.2222222222222222</td></tr><tr><td>u_channel_lo</td><td>[[{'q': 1, 'scale': (1+0j)}], [{'q': 0, 'scale': (1+0j)}], [{'q': 2, 'scale': (1+0j)}], [{'q': 3, 'scale': (1+0j)}], [{'q': 1, 'scale': (1+0j)}], [{'q': 1, 'scale': (1+0j)}], [{'q': 4, 'scale': (1+0j)}], [{'q': 3, 'scale': (1+0j)}]]</td></tr><tr><td>n_uchannels</td><td>8</td></tr><tr><td>meas_map</td><td>[[0, 1, 2, 3, 4]]</td></tr><tr><td>rep_times</td><td>[1000.0]</td></tr><tr><td>supported_instructions</td><td>['cx', 'id', 'delay', 'measure', 'reset', 'rz', 'sx', 'x']</td></tr><tr><td>discriminators</td><td>['quadratic_discriminator', 'linear_discriminator', 'hw_centroid']</td></tr><tr><td>conditional_latency</td><td>[]</td></tr><tr><td>local</td><td>False</td></tr><tr><td>multi_meas_enabled</td><td>True</td></tr><tr><td>meas_levels</td><td>[1, 2]</td></tr><tr><td>n_registers</td><td>1</td></tr><tr><td>meas_kernels</td><td>['hw_boxcar']</td></tr></table>"
      }
     },
     "ba2dbd34123943cea99ea94913743c21": {
      "model_module": "@jupyter-widgets/base",
      "model_module_version": "2.0.0",
      "model_name": "LayoutModel",
      "state": {
       "width": "145px"
      }
     },
     "baa7118518544a68901f6f323092d2b1": {
      "model_module": "@jupyter-widgets/controls",
      "model_module_version": "2.0.0",
      "model_name": "HTMLModel",
      "state": {
       "layout": "IPY_MODEL_bd8d23111e3d4003ad50f60fcafb971f",
       "style": "IPY_MODEL_fbfc028b57ee40e9b3092b6a1028db9c",
       "value": "<table><style>\ntable {\n    border-collapse: collapse;\n    width: auto;\n}\n\nth, td {\n    text-align: left;\n    padding: 8px;\n}\n\ntr:nth-child(even) {background-color: #f6f6f6;};\n</style><tr><th></th><th>Type</th><th>Gate error</th></tr><tr><td><font style='font-weight:bold'>cx1_3</font></td><td>cx</td><td>0.00709</td></tr><tr><td><font style='font-weight:bold'>cx2_1</font></td><td>cx</td><td>0.03691</td></tr><tr><td><font style='font-weight:bold'>cx1_2</font></td><td>cx</td><td>0.03691</td></tr></table>"
      }
     },
     "bbddace96e7146cb9d06992108328114": {
      "model_module": "@jupyter-widgets/controls",
      "model_module_version": "2.0.0",
      "model_name": "HTMLModel",
      "state": {
       "layout": "IPY_MODEL_a8686b7b3483471b99e8b7cae817e597",
       "style": "IPY_MODEL_7004ccfcf68544e08b1cbee05b02a395",
       "value": "<p style='font-family: IBM Plex Sans, Arial, Helvetica, sans-serif; font-size: 20px; font-weight: medium;'>Circuit Properties</p>"
      }
     },
     "bd8d23111e3d4003ad50f60fcafb971f": {
      "model_module": "@jupyter-widgets/base",
      "model_module_version": "2.0.0",
      "model_name": "LayoutModel",
      "state": {
       "grid_area": "middle"
      }
     },
     "be28e8d773724386a8db98cf39f60369": {
      "model_module": "@jupyter-widgets/controls",
      "model_module_version": "2.0.0",
      "model_name": "HTMLModel",
      "state": {
       "layout": "IPY_MODEL_96ce226d0696422abe0fe509a8c64142",
       "style": "IPY_MODEL_27bafb24cd1845a0af542be7785998f5",
       "value": "<div><font style='font-weight:bold'>last_update_date</font>: 2023-03-05 07:02:22+01:00</div>"
      }
     },
     "bf61577a58f24e0dafca99f6b2235bcc": {
      "model_module": "@jupyter-widgets/controls",
      "model_module_version": "2.0.0",
      "model_name": "HTMLModel",
      "state": {
       "layout": "IPY_MODEL_4ebb15d47678465e8ce5e92439ead59b",
       "style": "IPY_MODEL_fde9ad415dfb457ba0c244b821d6cf2e",
       "value": "<h5>Message</h5>"
      }
     },
     "c23b645ecced445c88c46cc9b8e3f3d7": {
      "model_module": "@jupyter-widgets/controls",
      "model_module_version": "2.0.0",
      "model_name": "HTMLStyleModel",
      "state": {
       "description_width": "",
       "font_size": null,
       "text_color": null
      }
     },
     "c4fd264f1a824462bf6a3153974a2bd4": {
      "model_module": "@jupyter-widgets/controls",
      "model_module_version": "2.0.0",
      "model_name": "HTMLMathStyleModel",
      "state": {
       "description_width": "",
       "font_size": null,
       "text_color": null
      }
     },
     "c556df9f6e8d4373a5d08e72fd99d4f0": {
      "model_module": "@jupyter-widgets/base",
      "model_module_version": "2.0.0",
      "model_name": "LayoutModel",
      "state": {}
     },
     "c59800e3d4f74b9a8de25ec937b7511d": {
      "model_module": "@jupyter-widgets/base",
      "model_module_version": "2.0.0",
      "model_name": "LayoutModel",
      "state": {
       "margin": "0px 0px 0px 0px"
      }
     },
     "c5adebbb85da4b63b45d91691ec15d86": {
      "model_module": "@jupyter-widgets/base",
      "model_module_version": "2.0.0",
      "model_name": "LayoutModel",
      "state": {
       "grid_area": "right"
      }
     },
     "c72a257ccef84d528a91b3a0a610d973": {
      "model_module": "@jupyter-widgets/base",
      "model_module_version": "2.0.0",
      "model_name": "LayoutModel",
      "state": {
       "grid_area": "right"
      }
     },
     "c8597f16462f4fe6921a55aba71c0c3b": {
      "model_module": "@jupyter-widgets/controls",
      "model_module_version": "2.0.0",
      "model_name": "GridBoxModel",
      "state": {
       "children": [
        "IPY_MODEL_be28e8d773724386a8db98cf39f60369",
        "IPY_MODEL_860b5e0162e94694bd38c89d7478cf36",
        "IPY_MODEL_9bc6773d75e94f2da064ae2f82de06bc",
        "IPY_MODEL_1c054ad3f58142a7b1c649fafb8cb6a9"
       ],
       "layout": "IPY_MODEL_0f1b4edc580a4646a18952b54b5ffd9b"
      }
     },
     "c963f95e9a8a49b48663aa89f131a1f9": {
      "model_module": "@jupyter-widgets/controls",
      "model_module_version": "2.0.0",
      "model_name": "TabModel",
      "state": {
       "layout": "IPY_MODEL_ada05311bb104b3180c084032ea7286e"
      }
     },
     "cb1310e702eb4069a3955fa18eafe09a": {
      "model_module": "@jupyter-widgets/controls",
      "model_module_version": "2.0.0",
      "model_name": "HTMLModel",
      "state": {
       "layout": "IPY_MODEL_502a2f69fc334f369c469a4c0932cee2",
       "style": "IPY_MODEL_d6092c73eef044d5ab0884581a7ca8fd",
       "value": "<p style='font-family: IBM Plex Sans, Arial, Helvetica, sans-serif; font-size: 20px; font-weight: medium;'>Circuit Properties</p>"
      }
     },
     "ccaa6d2df4ae445b9392ec03b22d910c": {
      "model_module": "@jupyter-widgets/controls",
      "model_module_version": "2.0.0",
      "model_name": "GridBoxModel",
      "state": {
       "children": [
        "IPY_MODEL_f2c69c318bab43b3bb8cade8b3a70ed1",
        "IPY_MODEL_92526342723847efbdb15efe78bdc2c1",
        "IPY_MODEL_a7465fbcb87048b08d23b085fea3af56",
        "IPY_MODEL_d944f01159774f3ba12fb17d6183146f"
       ],
       "layout": "IPY_MODEL_59e035851e9e4d729a3e689918f331f5"
      }
     },
     "ccc5e462ce9b44e1bfafc42728ff6576": {
      "model_module": "@jupyter-widgets/base",
      "model_module_version": "2.0.0",
      "model_name": "LayoutModel",
      "state": {
       "grid_area": "left",
       "width": "100%"
      }
     },
     "cd4e9ace8ae24895b948dd6d42d251ac": {
      "model_module": "@jupyter-widgets/controls",
      "model_module_version": "2.0.0",
      "model_name": "HTMLStyleModel",
      "state": {
       "description_width": "",
       "font_size": null,
       "text_color": null
      }
     },
     "cd6de1ad8fc94d82b210ff02d0b59d0b": {
      "model_module": "@jupyter-widgets/controls",
      "model_module_version": "2.0.0",
      "model_name": "HTMLMathModel",
      "state": {
       "layout": "IPY_MODEL_88d74a375798462ba594bbfeba0eb584",
       "style": "IPY_MODEL_16ecd4d5902243579c2a9494262d1d6f",
       "value": "<table><style>\ntable {\n    border-collapse: collapse;\n    width: auto;\n}\n\nth, td {\n    text-align: left;\n    padding: 8px;\n}\n\ntr:nth-child(even) {background-color: #f6f6f6;}\n</style><tr><th>Property</th><th>Value</th></tr><tr><td><font style='font-weight:bold'>n_qubits</font></td><td>5</td></tr><tr><td><font style='font-weight:bold'>quantum_volume</font></td><td>16</td></tr><tr><td><font style='font-weight:bold'>operational</font></td><td>True</td></tr><tr><td><font style='font-weight:bold'>status_msg</font></td><td>active</td></tr><tr><td><font style='font-weight:bold'>pending_jobs</font></td><td>0</td></tr><tr><td><font style='font-weight:bold'>backend_version</font></td><td>1.2.6</td></tr><tr><td><font style='font-weight:bold'>basis_gates</font></td><td>['id', 'rz', 'sx', 'x', 'cx', 'reset']</td></tr><tr><td><font style='font-weight:bold'>max_shots</font></td><td>20000</td></tr><tr><td><font style='font-weight:bold'>max_experiments</font></td><td>100</td></tr></table>"
      }
     },
     "cf359f44016b42ba9dd03f0c6ce19117": {
      "model_module": "@jupyter-widgets/controls",
      "model_module_version": "2.0.0",
      "model_name": "HTMLStyleModel",
      "state": {
       "description_width": "",
       "font_size": null,
       "text_color": null
      }
     },
     "cf75248d2ac04e87bb107c589974315f": {
      "model_module": "@jupyter-widgets/controls",
      "model_module_version": "2.0.0",
      "model_name": "HTMLModel",
      "state": {
       "layout": "IPY_MODEL_c556df9f6e8d4373a5d08e72fd99d4f0",
       "style": "IPY_MODEL_9555a5a1cb8f4b43acb8e4b6e0a9964b",
       "value": "<h5>Message</h5>"
      }
     },
     "d367365067064948b2c49ce66fc68923": {
      "model_module": "@jupyter-widgets/controls",
      "model_module_version": "2.0.0",
      "model_name": "HTMLModel",
      "state": {
       "layout": "IPY_MODEL_5560336bda5b4cd09f2a53a3799095fb",
       "style": "IPY_MODEL_d7c05af220bf43168b18390dd012f62c",
       "value": "<div><font style='font-weight:bold'>last_update_date</font>: Sun 05 March 2023 at 07:02 Europe de l’Ouest</div>"
      }
     },
     "d488c84d69284624b1bdd422b9387400": {
      "model_module": "@jupyter-widgets/base",
      "model_module_version": "2.0.0",
      "model_name": "LayoutModel",
      "state": {
       "margin": "0px 0px 0px 37px",
       "width": "600px"
      }
     },
     "d5d0c7f5f8894a17bcef800007f7c57a": {
      "model_module": "@jupyter-widgets/base",
      "model_module_version": "2.0.0",
      "model_name": "LayoutModel",
      "state": {}
     },
     "d6092c73eef044d5ab0884581a7ca8fd": {
      "model_module": "@jupyter-widgets/controls",
      "model_module_version": "2.0.0",
      "model_name": "HTMLStyleModel",
      "state": {
       "description_width": "",
       "font_size": null,
       "text_color": null
      }
     },
     "d6e4f4048d154cf88691cf988e25f173": {
      "model_module": "@jupyter-widgets/controls",
      "model_module_version": "2.0.0",
      "model_name": "HTMLStyleModel",
      "state": {
       "description_width": "",
       "font_size": null,
       "text_color": null
      }
     },
     "d7c05af220bf43168b18390dd012f62c": {
      "model_module": "@jupyter-widgets/controls",
      "model_module_version": "2.0.0",
      "model_name": "HTMLStyleModel",
      "state": {
       "description_width": "",
       "font_size": null,
       "text_color": null
      }
     },
     "d8090484c97642fdb25a6bcd4c6f72b3": {
      "model_module": "@jupyter-widgets/controls",
      "model_module_version": "2.0.0",
      "model_name": "VBoxModel",
      "state": {
       "children": [
        "IPY_MODEL_765b5067df1048559466768802911ba3",
        "IPY_MODEL_b3fad2a23e5e40ca97436feb87bf4b9e"
       ],
       "layout": "IPY_MODEL_76c358a19962416ba017de8552c952c5"
      }
     },
     "d811393b5d1d46c194a1e26dd6e99608": {
      "model_module": "@jupyter-widgets/controls",
      "model_module_version": "2.0.0",
      "model_name": "GridBoxModel",
      "state": {
       "children": [
        "IPY_MODEL_a8073c0e53f24a1d8a0f0ba7955fd590",
        "IPY_MODEL_e0f8eaddae2e489095a2366fab31238c",
        "IPY_MODEL_4d050e837b554d46b7d816fdd21e6528"
       ],
       "layout": "IPY_MODEL_9a605959a9054e38b26e71ca81112ad7"
      }
     },
     "d944f01159774f3ba12fb17d6183146f": {
      "model_module": "@jupyter-widgets/controls",
      "model_module_version": "2.0.0",
      "model_name": "HTMLModel",
      "state": {
       "layout": "IPY_MODEL_c5adebbb85da4b63b45d91691ec15d86",
       "style": "IPY_MODEL_779274246717429ba145a4fa5553ba33",
       "value": "<table><style>\ntable {\n    border-collapse: collapse;\n    width: auto;\n}\n\nth, td {\n    text-align: left;\n    padding: 8px;\n}\n\ntr:nth-child(even) {background-color: #f6f6f6;};\n</style><tr><th></th><th>Type</th><th>Gate error</th></tr><tr><td><font style='font-weight:bold'>cx0_1</font></td><td>cx</td><td>0.04073</td></tr><tr><td><font style='font-weight:bold'>cx1_0</font></td><td>cx</td><td>0.04073</td></tr></table>"
      }
     },
     "db948bc0cace44b3b2b413e3afab3ae5": {
      "model_module": "@jupyter-widgets/controls",
      "model_module_version": "2.0.0",
      "model_name": "HTMLModel",
      "state": {
       "layout": "IPY_MODEL_6e2dc8bb67a34c84b57ac90c0db38d6e",
       "style": "IPY_MODEL_0e8a377fa72d4246bb9cba2398494552",
       "value": "<div><font style='font-weight:bold'>last_update_date</font>: Sun 05 March 2023 at 07:04 Europe de l’Ouest</div>"
      }
     },
     "dbd4183e88bc4b2eb09c25eca1d45342": {
      "model_module": "@jupyter-widgets/controls",
      "model_module_version": "2.0.0",
      "model_name": "ButtonModel",
      "state": {
       "button_style": "primary",
       "description": "Clear",
       "layout": "IPY_MODEL_3ecaf49a1ddd48e881a23ab7149f6e19",
       "style": "IPY_MODEL_9be0efd8861748bd9161fc707896188d",
       "tooltip": null
      }
     },
     "dbdbdb867aef4437b5cb335e814a1ecc": {
      "model_module": "@jupyter-widgets/base",
      "model_module_version": "2.0.0",
      "model_name": "LayoutModel",
      "state": {
       "grid_area": "middle"
      }
     },
     "dc514ff1568643d0b1a039d9db1487d6": {
      "model_module": "@jupyter-widgets/controls",
      "model_module_version": "2.0.0",
      "model_name": "HTMLStyleModel",
      "state": {
       "description_width": "",
       "font_size": null,
       "text_color": null
      }
     },
     "dd7e18abd4404d518638c980bc5dd766": {
      "model_module": "@jupyter-widgets/controls",
      "model_module_version": "2.0.0",
      "model_name": "HTMLStyleModel",
      "state": {
       "description_width": "",
       "font_size": null,
       "text_color": null
      }
     },
     "ddc8be6f7dfb43d0a22873646b576ffa": {
      "model_module": "@jupyter-widgets/base",
      "model_module_version": "2.0.0",
      "model_name": "LayoutModel",
      "state": {
       "width": "95px"
      }
     },
     "df2d32fd9018464daceaaadf5a426956": {
      "model_module": "@jupyter-widgets/controls",
      "model_module_version": "2.0.0",
      "model_name": "ButtonStyleModel",
      "state": {
       "font_family": null,
       "font_size": null,
       "font_style": null,
       "font_variant": null,
       "font_weight": null,
       "text_color": null,
       "text_decoration": null
      }
     },
     "df663dc03358438cbe8614405f260507": {
      "model_module": "@jupyter-widgets/controls",
      "model_module_version": "2.0.0",
      "model_name": "HTMLStyleModel",
      "state": {
       "description_width": "",
       "font_size": null,
       "text_color": null
      }
     },
     "e0f8eaddae2e489095a2366fab31238c": {
      "model_module": "@jupyter-widgets/output",
      "model_module_version": "1.0.0",
      "model_name": "OutputModel",
      "state": {
       "layout": "IPY_MODEL_8ad52bed55234a4fb3a7dafb2b41e642",
       "outputs": [
        {
         "data": {
          "image/png": "iVBORw0KGgoAAAANSUhEUgAAAZQAAAGVCAYAAADZmQcFAAAAOXRFWHRTb2Z0d2FyZQBNYXRwbG90bGliIHZlcnNpb24zLjYuMiwgaHR0cHM6Ly9tYXRwbG90bGliLm9yZy8o6BhiAAAACXBIWXMAAA9hAAAPYQGoP6dpAAAg4klEQVR4nO3daZBd5Z3f8d+53a2WhFogCW1oaaENJGNJLAJEYSQBBWKnirLNjG3GY5hU7MSVvIwrmaQqU6m8ySTjOI6Tig0zZpjC8VBhsdnGEmIZix1JBgRa0b40SEItJLW6+568+OtOt0S3ulv3f+45z3O/nyoVzVXr3Kdv33O/Zz9JmqapAACoUinvAQAA4kBQAAAuCAoAwAVBAQC4ICgAABcEBQDggqAAAFwQFACAC4ICAHBBUAAALggKAMAFQQEAuCAoAAAXBAUA4IKgAABcEBQAgAuCAgBwQVAAAC4ICgDABUEBALggKAAAFwQFAOCCoAAAXBAUAIALggIAcEFQAAAuCAoAwAVBAQC4ICgAABcEBQDggqAAAFwQFACAC4ICAHBBUAAALggKAMAFQQEAuCAoAAAXBAUA4IKgAABcEBQAgAuCAgBwQVAAAC4ICgDABUEBALggKAAAFwQFAOCCoAAAXBAUAIALggIAcEFQAAAuCAoAwAVBAQC4ICgAABcEBQDggqAAAFwQFACAC4ICAHBBUAAALggKAMAFQQEAuCAoAAAXBAUA4IKgAABcEBQAgAuCAgBwQVAAAC4ICgDABUEBALggKAAAFwQFAOCCoAAAXBAUAIALggIAcEFQAAAuCAoAwAVBAQC4ICgAABcEBQDggqAAAFwQFACAi8a8BwAUTZpKB9ulT/ZLn7VLnV1Sd7fU0CA1NUoXjpZaJ0hjW6QkyXu0QHEQFEDS3oPSGx9JW/daSI6ftMeT5NQfSaksNmlqfzdimDRjojRzsnTNpdLksXmNHiiGJE0rswdQX7q6pXVbpVVrpY27pVIilc9hbqj8u7lTpBsXSQtnSo0N3qMFio+goO6UU+mV9dLTr0vtx889JGeqTKdlhHT3tdINC+wxoF4QFNSVts+lR16UNu3O/rnmTpG+e4s0/vzsnwsoAoKCulBOpZfXS79+Reou+6yRDKSUSA0l6es3SEtZW0EdICiIXle39PPnpXc25TeGK+dID61g3wriRlAQtZNd0k+fljbssKO08pJImt8q/eAuaRjHViJSnNiIaHV1Sz97RtqwM9+YSPb8H+6QfvYbGxcQI4KCaP3yd9IH23vOG8lbmkoffGLjAmJEUBCltzdKazbkv2ZyplQ2rrc35j0SwB9BQXSOHJMeXZn3KM7u0ZVS+7G8RwH4IiiIzmOrpBMn8x7F2Z04Kf3tqrxHAfgiKIjK2i3Su5trc55JNcqpjXPtlrxHAvghKIjKc2+FcwXgJLHxArEgKIjGzjZp677iHNU1kDS18e5qy3skgA+CgmisXh/e5U1KiY0biAHn7CIKxzqkNR/67jsZ2SzdepU0a7Ld96S5yR7//Yd2gUkP5dSmd9/10ohmn2kCeWENBVHYsEPqdD4Dfdxo6fbF0iVTe2KShc5uO5sfCB1BQRS2H5BKzu/mrm7p413Ss29Jr73vO+3eSiVp+/7spg/UCkFBFD7ZJ5XLvtPce1D6L38v/b9/tNsCZ6Vcznb6QK0QFAQvTcP/QN62P5yj04D+EBQE72C7dLzgZ8YP5HiH/RxAyAgKgtd+PO8R+Dgayc+B+kVQELzOrrxH4MP7KDWg1ggKgue9Mz4v3ZH8HKhfBAXBa4zk9Nwm7jePwEUyK6KeNWf0Lh7WKF02w76eNqHn8bEt0hWz7etP9vvtTOde8wgdb2EEb/wFUiL/uzO2jJS+f+eXH790mv2R7BIsv/+w+udKEmnCmOqnA+SJTV4IXnOTNDHwD+OJF7CGgvDxFkYUZk6WDnzuu4P+syPSn/2V3/T6U0rsApRA6FhDQRRaJ0hpoEdJpanUOjHvUQDVIyiIwuyL/Peh1Eoq1lAQB4KCKEwbL0290HbOhySRjXva+LxHAlSPoCAKSSLduCi8tZRU0k2X2/iB0BEUROPqS7K9EVYWhjdJi+fmPQrAB0FBNJqbpK9dFs595UuJdP1l4UUQ6A9BQVRuWywNH5b3KAZn+DC7xTAQC4KCqIweKX3nprxHMTgP3Gxn4wOxICiIzlVz7VpbRd30VUpsfFfOyXskgC+Cgijdv6y4R04liY0PiA1BQXS6uqVfvVzc+4t0l218XdxQC5EhKIhKV7f08+eldzblPZKze2eTjZOoICYEBdEIJSYVRAWxISiIwkAxaWqQWkbUfr9Kktjz9nc3RqKCmHD5egRvoJg0N0n/6l67XtYTr0mr19sHfZrhdVoq01/6Vem+66WdbdKPn5Q6Or/8vZVxP7RCauQ2wAhYkqZZzlZAtgYbkzlTeh77aKf08AvSoaPZjWvsKOlPb+25s6Mkbdrdf1QkO4yYqCBkBAXBOpeYVHR0Sms2SCvfk/YdsnNDylXMCZV/P3msXaRyyby+L6lCVBAzgoIgVROT3tJU2rxHemmdTauc2iXlkwECUzq1SSs99fWVc6TlC+2+LAPtpyEqiBVBQXC8YnKmk122r2PHAWn7fmnLXmn/4S/va2lqsCsbt06Upk+wfTNDvR88UUGMCAqCklVM+vOfH5e27jv9sZmTpB/dX/20iQpiw2HDCEatY5K1OVNsvP1dvp5DihEagoIgxBaTCqKCmBAUFF6sMakgKogFQUGhxR6TCqKCGBAUFFa9xKSCqCB0BAWFVG8xqSAqCBlBQeHUa0wqiApCRVBQKPUekwqighARFBQGMTkdUUFoCAoKgZj0jaggJAQFuSMmZ0dUEAqCglwRk8EhKggBQUFuiMnQEBUUHUFBLojJuSEqKDKCgpojJtUhKigqgoKaIiY+iAqKiKCgZoiJL6KCoiEoqAlikg2igiIhKMhcx0npL58gJlkZTFT+8gn7PQBZIijIVMdJ6c9/KW3e0/ffFz0mbZ8P7rG8DRSVzXvs90BUkCWCgsxUYnLoaN9/X/SYSNLJrsE9VgQDReXQUaKCbBEUZCKGmISIqCBPBAXuurqlv3qy/5hI0kMriElW5kyRHlzR/98fOmq/H3bUwxtBgavK0Vz97TORpD9eLi2aVbsx1aPLZ9nr3J/Nezj6C/4ICtwMdGiwZB9yyxfWbkzVGtY4uMeKaPnCs0eFQ4rhjaDARYwxkaTx5w/usaIiKqilQJa1UGSDOWnxwRW2GQa1t3yhNGaU/Y46Or/895Xf20MrpMaG2o4NcWENBVUZ7BnwxCRfi2ZxRj2yR1BwzricSli4TAuyRlBwTohJmIgKskRQMGTEJGxEBVkhKBgSYhIHooIsEBQMGjGJC1GBN4KCQSEmcSIq8ERQMCBiEjeiAi8EBWdFTOoDUYEHgoJ+EZP6QlRQLYKCPhGT+kRUUA2Cgi8hJvWNqOBcERSchphAIio4NwQF/4SYoDeigqEiKJBETNA3ooKhICggJjgrooLBIih1jphgMIgKBoOg1DFigqEgKhgItwAuqDSVDrZL7celzi6pXJYaG6XmRmn8Bf3P1INFTAZ29Hjft8ztLtd+LEVRicqPn8z+dsIdnVLbYamjS+rqkkolqalRahkhjW2RkqS66cNfkqZpmvcgIB3rkDbskLYfkD7ZJ32yXzp+su/vTRJp4gXSzMlS6wRp9kXStPGDn8GIyZd1l6WNu6Rt++x3sHWfdPho/99/wShp5iR7/S+eJM2dKjXU0fr+pt39R0WSrpwztKikqbSzTdq859Trv1faf9ge78uIYdKMidKMU7+DedOlkc3n8pPAE0HJ2c42afV6ac2HUme3LYWVB7kEXCpJaVlKJU29ULpxkXT1JWdfeyEmpzv8hfTqH+x3cOSYVErs9RzMXJEkUiKpnEqjR0rLF0rXXyZdcF7Woy4Gj6h0dEpvfiytWivt+tRez2SI80C5LDU1SEvmS8sXSFPHD/EHgRuCkpO1W6Tn3rIl4VJiH0rVSGQfhM1N0tcuk25fLLWMPP17iEmPnW3Sb9+U3ts8+IAMpBKYy2dLd1xta42xO9eoHDlm7/9X37d/W3n/VqMyH82cJN22WFo0q8oJYsgISo0dOSY9tkp6d7N9AGXx6pcSafgw6Ts3SVfNtceIienqlp5902IiVR/yvpRObXq84xoLe7X7EopuqFF5e6P06ErpxMlsXv/KfHXFbOnbN355wQrZISg1lPWM1JcrZkv3L5N+9TIx2XFA+sUL0p7PavecF42THrxVmj6hds+Zh8FE5Rs32Pvw3c21GVNfC1bIFkGpga5u6W/+QXr9o9o/dymxJbb+jkyql5i8tE56fLV9XauYSz1rK/cvs30sMRsoKg0lW3Oo5etfsWSe9MDN8a8t5o2gZOxkl/SzZ6QPtle/jdhbPcQkTW3z1lNr8h6JdM8S27cS8+GuA0UlL4mkr8yQvn+nNIyTJTJTRwc61l5Xt/TTp6UPdhCTvBQlJpKN49m38h5FtgY6+TEvqWyh7n8+w4mXWSIoGSmnthN8w45sdrxXo6mhPmLy0rrixKTiyd/buGJWiUpTwTYvpan04XabL/PY7FYPCEpGXl5vO8GL+L4dPiz+Q1p3HOjZZ1I0j6+28cVs2nh7nxVNKpsvX16f90jiRFAy0Pa59OtX8h5F/46ekJ54Le9RZKer247mKrJfvBD3ppcnXrP3WVH9+hWbT+GLoDgrp9IjLxb7ek9pameGf7Qz75Fk49k37dDgom7WKKc2vlj3p2zYae+vom3q7a27LP31i8V9j4SKoDh7Zb0d6VL0N2qSSA+/ULyjcapVOQM+BL99w8Ybk45O6ZEXin8kWzmVNu62+RV+CIqjrm7p6dfzHsXgpKl06Ki0ZkPeI/EVSkwqng1svANZ86G9r4q8dtLb06/Hvemx1giKo3Vb7XLzoUhkF+ULZeYfyOEv7NpcRV87rCindtb451/kPRIfaSqtXJv3KIam/bi0flveo4gHQXG0am3PmdEhSCXtPWiXDI/Ba+8X86i6s0llF0iMwaY90r5DeY9iaEqJzbfwQVCc7D1o22RDWTquKCVxnBfRXbafI7S1rTS1cRf5II7BWr0urAUqyebXj3fZ/IvqcRECJ2985HMZ+t4aG6RbrpCuuVQaf77t8Ny0R/rN69IOp5255dSOyz/ZFfYlKTbusis5e5k2Xlo8107SGzfa7hJ4vMNuN/DC2/Z78HLkmI1/3nS/adZaR6e9j7ze/1PGSSuuklonSuefZ+/N4yelXW3Sax/YPVS8lBKbf++9zm+a9Srgj5Bi2brXNyalRPrhPdL8Xh8yTY3S5bOky1ql//6U32G/5VN3y5s12Wd6edjmdF+ZiqVflZYuOP2xlpHSwpnSV2dI/+u30ntbfJ6rlNgdOkMOyq423/f/1PHStfNOf6xlhL1G86Zb5J9zOuy6nNr7B9UjKA7S1D4QPC1b2BOTXZ9KT6+xS6DfeY2F5U9vkf7tX/scoZLIztwOOSjbD/jvPzn8hfSP79vayHnD7bWfPNbuEviNpX5BSeX//qm17Qd8bpJV8cUJ6ZU/2Gbkz7+w1//my+1215LdndQrKJK0bb/Nx0U/3LnoCIqDg+393//9XC39as/Xj/7ONrW8t8Xuo33ZDGlsi7TgYp97SySJtD3wD7St+3z3n7z+kfR/X7FNgRV7PpP+w7ft6wtPbQbzOKovjWAJefsBu3Vv6rQv6P1P7E9vBw5L//5b9vVw54tPHu+w+XjcaN/p1ht2yjvwXroc2Ww3ZpJsDWRbr+lv2dvztdfFHcvp6dMNzdHj0uGjvtPcvOf0mEj2gdbbmX9fjUNH7ecI1da9g78P/FAlsv0oN/RayPp4l//zbI/8+mq1wBqKg8/afW/ne2GvpaSjJ06fbvuxvr+vWgfb/aZVa5/VaOxXzO75euMu/6sMHGyXRo3wnWatZPX++dE3pZm9NsWWU+kP2+yGdZ6SRPrsiO806xFrKA46u3y3vfa+l0T3GftIeu8zGea42h/yYaudjmsK/Zk+Qfqj5T3P96sMLv5Zi58jK7U62zxNbU3Ie19HorBf/6JgDcVBd7e9Ib30XvI985alvf//pOMScnc53J2SZ0bX2+yL7Ii7kc32wfl/nsvm8vOhXgIky9v6/nKldF6zNKZFWrbAfheXz5bGjJL+0+N+z5Mk4b7+RUJQHDQ0+B5h9GmvVe/zhp9+OOzo8/r+vmo1lMKMiWSvf1bmT5d+cJetNXZ2Sf/7WbvEThZCvd95kvifg1Wx+9Oer9/bLP23f27npMyYJE28QNp/2Od50jTc179I2OTloKnR9wijYx12RJFkb/IZk3r+rvehvZt2+z1nQ8DvhKaMFosunyX9y7stJidO2rk/WcVEyu7nqAXvD+P+7vbYez4b0ez3fKnCfv2LgpfQwbgW/0t+vPwH6Y+W2dcP3GS3sm2dIH2l1R472O57UbuxLX7TqrVxGYz9yjnSn91moS2n0jNv2CaRynkQkh3d57mZJOTfwdgW3+t4/bs/tiPHNu2x9/rokbbJq7J/saPT93Ipacohwx4IioMZE/2nuXqdnZU9f7o05ULb7FLR2WU38fL6MCslYZ/UOGqEdMEo30OHF1zcs9ZWSqSvf+3L3/NvHvY7MmjMqHCP8JLsSKwDn/sdOjysSbr+MvvTl79/1f8ou9YJvtOrRwTFwdgWacQw35Mby6n0k6fsWl7XzrNDhDs67fyIZxyv5SXZ0llrBlGspZmT7MTP0C4OKdk+iIsnDfx9RdY6we6F4uXFd2yBavJYO4FUsjPmt+y1+8F7XktNss1nIa8hFgVBcZAktpaywfmWul3ddpvYrG8Vm8oOiw1Z6wRp7Ra/gyMeedH+1EKibNZya6l1gu+BKS+tq+1VsC+eGO5BKUUS8K7YYpk5ObxLd1eUEru6bsgunhTerQMqymn4QZk6Puz3f+hriEVBUJxcc2mYH2ilxHZAh3zpekmaO9V23IZo9Egbf8iam+x9FGJUyql07aV5jyIOBMXJ5LHS3CnhzVDlVFq+MO9RVK+hZD9HaJstksTGHfJh2xXLFoa3UFVKpEumSpPG5j2SOETwNi6OGxeFNUMlshD2PhQ2ZNdf5nvFglpIJH2tnyOZQjPnImnSmLxHMTTl1OZb+CAojhbO7DkiJQSpbGYKbam+PxecZ5flCGUtsZTYBSfPP2/g7w1Bkkg3Lcp7FEPTMsLmW/ggKI4aG6S7r817FIOTJHbuw5J5A39vSO64Ou8RDM3tgY13IEvm2/sqlIWUu6+NY3NjUfBSOrthgd2npOhLyWkqPXjr6Vc2jsG08eFE5Y5rwj+67kzNTdL3bi3++UClxPZ53rBg4O/F4BEUZ6XEbs9b5KWeJLHLWFwyLe+RZOP2q+0GZUWNeimRpoyTbl+c90iycek0e38VeS2loSR995bivkdCVeCPvXCNP1/6+g15j6JvSWL7Gu67Pu+RZKexwda+iux7t8Z9ddv7rpdGDc97FP37+g02n8IXQcnI0gV2XH6RFoASSY0l6ft3SsOH5T2abE2fIN2/LO9R9O3+ZeFfmWAgO9vsCs1Fk8jmy6Vs6soEQclIKZEeWiHNm16MVf9EUlKyG0XVy1nByxdK9yzJexSnu/e6OM77OZtNu6UfPyl1FuyGVUkizW+1+ZJNXdkgKBlqbJD+xd12yfk8379JYjeh+uHdFrh6csfV9iFeBPdeF+9+k4pKTLyvBFytRDYf/uCuuDc15i1J06IfjxG+rm7pl7+T1myo/XOXEtu89cN74jmB8Vy8tE56fLV9XcuTTytLwvcvq581k/5i0lDK9nbBZ7NknvTAzcQkawSlht7eKD260rYt12qmunKO9K3lUkug17nytOOA9IsXeu6GWQtTxkkProjv8OAzDRSTK+dI31xqUX93c23GVFmYeuBme35kj6DUWPsx6W9X2UyVJNkcr8+M1L/KLQF++4b9fxZhr6yV3HGNbeKKfal4MDF5aEXP65D1glVlvmJhqvYISk7WbpGee0vaus8+gKqdsRLZpVSGn7rT3e2LmZHOZmeb9OybFvZUPmFPEvs9XDHbzoWJfa1EGnpMKtqPWdhfe1860dnz/q1GZT6aOUm6bbG0aFaVE8SQEZSc7WqTVq+Xfv+hHRVTKg3+NqqlU0tiqaSpF0o3XS4tnhvf2e9ZOvyFfai9tE46cuzUa6rBBaYSkHJql6BfvtAu9BjLtbkGcq4x6a2jU3pro7TyPWnXp6eORhzCAlZlfmlqkK6bbydUTq2DkBcVQSmI4x12x8ft+6VP9kvb9ttjfUkSaeIFdh/41on232nji3F4cqi6y9LGXfbaf7Lf1hzPdo/6MaPs8OsZE+3P3KnFvjqCN4+Y9Jamtta4Ze+p13+vtP9w/2Ef0Wx3WZwx0eaBedPsMeSLoBRUmkoH26Wjx23NpfvUUtiwRmnCmPBviBWCo8ftd9DZZfteGhukpka79/iogK4q7c07Jv052SUdOGT/7ey2YDc12Gs/toUFqCIiKAAGrVYxQZjqaCUdQDWICQZCUAAMiJhgMAgKgLMiJhgsggKgX8QEQ0FQAPSJmGCoCAqALyEmOBcEBcBpiAnOFUEB8E+ICapBUABIIiaoHkEBQEzggqAAdY6YwAtBAeoYMYEnggLUKWICbwQFqEPEBFkgKECdISbICkEB6ggxQZYIClAniAmyxo1kgTrw3hbpF88TE2SLoACRe2md9Hcv9f/3xARe2OQFRIyYoJYIChApYoJaIyhAhNZuOXtMZl9ETOCPoACR2bRb+vnz/f/9mFHSv76XmMAfQQEiMtChwWNGSX/xgNQ8rKbDQp0gKEAkiAnyxmHDQAQGisnsi2wzFzFBlggKEDjOgEdRsMkLCBgxQZEQFCBQxARFQ1CAABETFBFBAQJDTFBUBAUICDFBkREUIBDEBEVHUIAAEBOEgKAABUdMEAqCAhQYMUFICApQUMQEoSEoQAERE4SIoAAFQ0wQKoICFAgxQcgIClAQxAShIyhAARATxICgADkjJogFQQFyREwQE4ICDEKa+k+TmCA23AIYOKWjU9rVJm0/YH+27pUOtktd3VI5lUqJfbiPbZFmTpZaJ9ifqeOl5qahPRcxQYySNM1i2QsIQ5pKm/ZIq9dJ72yycCSSkpJULvf/70olKS1LqSw0V86Rli2U5lwkJcnZn5OYIFYEBXWpo1Na86G0cq2075BFoVzFnFD595PGSDctkpbM73uthZggZgQFdeejndLDL0iHjmb3HGNGSd+7Vbp0Ws9jxASxIyioGydOSk+8Jq1eb5ulsnznV6a/bIF03/XSzjZigvgRFNSFbfukn/1GOvxFtiE5U5JIo4ZbzDq7+/4eYoJYEBRE78Md0v94Suoq1zYmg0FMEBMOG0bU3v9E+snTPUdkFQkxQWw4sRHR2rxH+ukzxASoFYKCKB05Jv3kKam7gDFpKEnfXEpMEB+Cgig9tsp2hBdtn4lkY3p8dd6jAPwRFETn7Y3Su5urO1ExS+XUxvf2xrxHAvgiKIjKkWPSoyvzHsXgPLpSaj+W9ygAPwQFUXnuLdvUFYITJ6Vn38p7FIAfgoJodHRKr75f3E1dZyqn0mvv93/2PBAagoJovPlxeB/OJzqlt9iXgkgQFEQhTe3KwQNcOb5wEkkr3yvm0WjAUHGmPKKws03a/Wl20//hPdKCi3v+/8//xi57X61U0q5PbfzTJ1Q/PSBPrKEgCpv3ZLd2cs0lp8fEWyJpy97spg/UCkFBFLYfsLssehs13M5qL6dSZ5f/9CW7IvH2/dlMG6glgoIobN179lv2nqtvLpVaRtrRY59ndM5IOWUNBXEgKAheR6e032F/xpm+0ipdO8/u7PjEq/7T723/YelkRmtAQK0QFASv7bD/BSCbm6Rv32RfP7ZKOp7xyZJpKh3IIIpALREUBK8jgyX7e6+TLhxt19tat9V/+n1hDQWhIygIXpfzB/GkMdKNC6UvTkh/t9p32mfT3y2CgVBwHgqCV3JeLBp9nk3zvOHSf/1nfX/PX/yJnTvyHx/ze94GFu8QON7CCF5TJItFTdxwC4GLZFZEPWsZ4Tu9tsPS4y9/+fG7rrG1Fkl69k1pz2e+zzvK+ecAao2gIHhjW6QRw/yOxDp01K6vdaabL+8JypoNPpdeqRjRbD8HEDI2eSF4SSLNmJj3KKpz8UT7OYCQsYaCKMyYJH28O5uz5St+9HA20y2Vwg8iILGGgki0Tsg2Jlkql6VWgoIIEBREYd70cI+SamqQ5k3LexRA9QgKojCyWVoyXyoFth+ilEjXzbed8kDoCAqisWxBOPeTryinNm4gBgQF0Zg2Xpo5KZyjpZLExjt1fN4jAXwQFETltsXh3J89TW28QCwICqKyaJZ0xezi70spJTbORbPyHgngh6AgOt+6URo+LO9RnN3wYdK3b8x7FIAvgoLojB4pfeemvEdxdg/cbLcWBmJCUBClq+ZKS+ZJRdvylcjGdeWcvEcC+CMoiNYDN9t94Yty1FeSSF+ZYeMCYkRQEK3GBun7d0nzp+e/ppLIxvH9O21cQIySNA3lIEvg3HR1Sz9/XnpnU35juGqO9OAKYoK4ERTUhXIqvbxe+vUrUne5NmfUlxK7re83bpBuWFD8Q5mBahEU1JW2z6VHXpQ27c7+ueZOkb57izT+/OyfCygCgoK6U06lV9ZLT78utR+3NQePNZbKdFpGSHdfy1oJ6g9BQd3q6pbWb5NWrZU+3nXuYan8u0umSjcukhZczL4S1CeCAkjae1B64yNp2z5p237peIc9niR2hFaS2LW3UvVcK2xEs9269+JJ0jWXSpPH5jV6oBgICnCGNJUOtkvbD0ifHZE6u2xtprFBamqUxo22O0SObSnOOS5AERAUAIALTmwEALggKAAAFwQFAOCCoAAAXBAUAIALggIAcEFQAAAuCAoAwAVBAQC4ICgAABcEBQDggqAAAFwQFACAC4ICAHBBUAAALggKAMAFQQEAuCAoAAAXBAUA4IKgAABcEBQAgAuCAgBwQVAAAC4ICgDABUEBALggKAAAFwQFAOCCoAAAXBAUAIALggIAcEFQAAAuCAoAwAVBAQC4ICgAABcEBQDggqAAAFwQFACAC4ICAHBBUAAALggKAMAFQQEAuCAoAAAXBAUA4IKgAABcEBQAgAuCAgBwQVAAAC4ICgDABUEBALggKAAAFwQFAOCCoAAAXBAUAIALggIAcEFQAAAuCAoAwAVBAQC4ICgAABcEBQDggqAAAFwQFACAC4ICAHBBUAAALggKAMAFQQEAuCAoAAAXBAUA4IKgAABcEBQAgAuCAgBwQVAAAC4ICgDABUEBALggKAAAFwQFAOCCoAAAXBAUAIALggIAcEFQAAAuCAoAwMX/Bz7H9QI/GuyhAAAAAElFTkSuQmCC\n",
          "text/plain": "<Figure size 500x500 with 1 Axes>"
         },
         "metadata": {},
         "output_type": "display_data"
        }
       ]
      }
     },
     "e15b7d1291d244a3a9b760c442f110cd": {
      "model_module": "@jupyter-widgets/controls",
      "model_module_version": "2.0.0",
      "model_name": "HTMLModel",
      "state": {
       "layout": "IPY_MODEL_29624ce7cd3e411e9cb08fbc73c75587",
       "style": "IPY_MODEL_df663dc03358438cbe8614405f260507",
       "value": "<table><style>\ntable {\n    border-collapse: collapse;\n    width: auto;\n}\n\nth, td {\n    text-align: left;\n    padding: 8px;\n}\n\ntr:nth-child(even) {background-color: #f6f6f6;};\n</style><tr><th></th><th>Type</th><th>Gate error</th></tr><tr><td><font style='font-weight:bold'>cx1_0</font></td><td>cx</td><td>0.01554</td></tr><tr><td><font style='font-weight:bold'>cx0_1</font></td><td>cx</td><td>0.01554</td></tr></table>"
      }
     },
     "e3bc2c24da66453c9295b07003fd2407": {
      "model_module": "@jupyter-widgets/base",
      "model_module_version": "2.0.0",
      "model_name": "LayoutModel",
      "state": {
       "width": "70px"
      }
     },
     "e3dcc8c38f5b456bbbad0205c814e0f3": {
      "model_module": "@jupyter-widgets/base",
      "model_module_version": "2.0.0",
      "model_name": "LayoutModel",
      "state": {}
     },
     "e42bf961264a4a3dbac0d6b181ae9247": {
      "model_module": "@jupyter-widgets/controls",
      "model_module_version": "2.0.0",
      "model_name": "TabModel",
      "state": {
       "children": [
        "IPY_MODEL_d811393b5d1d46c194a1e26dd6e99608",
        "IPY_MODEL_a202df2bf885469aa7dcbf30277d6ddf",
        "IPY_MODEL_c8597f16462f4fe6921a55aba71c0c3b",
        "IPY_MODEL_fc181f31cd0f40209ee304c267506f58",
        "IPY_MODEL_39c89688802544d299fab939dbfc9cfc"
       ],
       "layout": "IPY_MODEL_4cc2ce09b0844f878a9b7c058909a33d",
       "selected_index": 0,
       "titles": [
        "Configuration",
        "Qubit Properties",
        "Multi-Qubit Gates",
        "Error Map",
        "Job History"
       ]
      }
     },
     "e514c981e1ea447690ce85a3140b24ec": {
      "model_module": "@jupyter-widgets/base",
      "model_module_version": "2.0.0",
      "model_name": "LayoutModel",
      "state": {
       "width": "145px"
      }
     },
     "e7172933f3894b96bd45819c93abb435": {
      "model_module": "@jupyter-widgets/base",
      "model_module_version": "2.0.0",
      "model_name": "LayoutModel",
      "state": {
       "grid_area": "left",
       "width": "100%"
      }
     },
     "e7989fe34d3c4c18b581484705ed91f5": {
      "model_module": "@jupyter-widgets/output",
      "model_module_version": "1.0.0",
      "model_name": "OutputModel",
      "state": {
       "layout": "IPY_MODEL_45f64989bfc742758b6059dccdbfc5b8",
       "outputs": [
        {
         "data": {
          "image/png": "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\n",
          "text/plain": "<Figure size 500x500 with 1 Axes>"
         },
         "metadata": {},
         "output_type": "display_data"
        }
       ]
      }
     },
     "ea5e297b9992495e923d29586390dc0c": {
      "model_module": "@jupyter-widgets/controls",
      "model_module_version": "2.0.0",
      "model_name": "HTMLStyleModel",
      "state": {
       "description_width": "",
       "font_size": null,
       "text_color": null
      }
     },
     "eaeea00ed0de486cb85da6472a0c1dba": {
      "model_module": "@jupyter-widgets/controls",
      "model_module_version": "2.0.0",
      "model_name": "GridBoxModel",
      "state": {
       "children": [
        "IPY_MODEL_4c1f3edd98734c6baa3bb0cc5b46802f"
       ],
       "layout": "IPY_MODEL_a70ca3a72ac8444589e91f2da3cdc98f"
      }
     },
     "ec035a6e31d142f5ac1c7bf1efa57fcc": {
      "model_module": "@jupyter-widgets/output",
      "model_module_version": "1.0.0",
      "model_name": "OutputModel",
      "state": {
       "layout": "IPY_MODEL_f27dfa7e91464e6686dcd5dc610d9a86",
       "outputs": [
        {
         "data": {
          "image/png": "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\n",
          "text/plain": "<Figure size 1100x900 with 5 Axes>"
         },
         "metadata": {},
         "output_type": "display_data"
        }
       ]
      }
     },
     "ed864d7d9089469bac0b841e55bbfff6": {
      "model_module": "@jupyter-widgets/controls",
      "model_module_version": "2.0.0",
      "model_name": "GridBoxModel",
      "state": {
       "children": [
        "IPY_MODEL_2b8e228d2fce4150a292adf08e5ee106",
        "IPY_MODEL_2b3c7c07383a497db49843704f8c2a00",
        "IPY_MODEL_baa7118518544a68901f6f323092d2b1",
        "IPY_MODEL_e15b7d1291d244a3a9b760c442f110cd"
       ],
       "layout": "IPY_MODEL_39ec684b39e0470693ef45727e733190"
      }
     },
     "ef2bae7515dd4bcebe380740445010b2": {
      "model_module": "@jupyter-widgets/base",
      "model_module_version": "2.0.0",
      "model_name": "LayoutModel",
      "state": {
       "grid_area": "left"
      }
     },
     "efc3c88e4a494c6f91179af667c3bffd": {
      "model_module": "@jupyter-widgets/controls",
      "model_module_version": "2.0.0",
      "model_name": "HTMLStyleModel",
      "state": {
       "description_width": "",
       "font_size": null,
       "text_color": null
      }
     },
     "f09c1d9f1d814b7dbf9b7948e0f526e1": {
      "model_module": "@jupyter-widgets/base",
      "model_module_version": "2.0.0",
      "model_name": "LayoutModel",
      "state": {
       "grid_area": "top"
      }
     },
     "f27dfa7e91464e6686dcd5dc610d9a86": {
      "model_module": "@jupyter-widgets/base",
      "model_module_version": "2.0.0",
      "model_name": "LayoutModel",
      "state": {
       "align_items": "center",
       "display": "flex-inline"
      }
     },
     "f2c69c318bab43b3bb8cade8b3a70ed1": {
      "model_module": "@jupyter-widgets/controls",
      "model_module_version": "2.0.0",
      "model_name": "HTMLModel",
      "state": {
       "layout": "IPY_MODEL_fb5541d743544764b911b8443d4544d0",
       "style": "IPY_MODEL_44a752449bba46a0b4f96386f21dd2b7",
       "value": "<div><font style='font-weight:bold'>last_update_date</font>: 2023-03-05 07:04:42+01:00</div>"
      }
     },
     "f8b0476d8d9f42818236dcb48f2c38bc": {
      "model_module": "@jupyter-widgets/controls",
      "model_module_version": "2.0.0",
      "model_name": "HTMLModel",
      "state": {
       "layout": "IPY_MODEL_6909712f20724492bc4508ca65e12866",
       "style": "IPY_MODEL_cf359f44016b42ba9dd03f0c6ce19117",
       "value": "<h5>Queue</h5>"
      }
     },
     "f9dbf716f89244c3ab79cc72584e0e63": {
      "model_module": "@jupyter-widgets/base",
      "model_module_version": "2.0.0",
      "model_name": "LayoutModel",
      "state": {
       "grid_template_areas": "\n                                       \". . . . right \"\n                                        ",
       "grid_template_columns": "20% 20% 20% 20% 20%",
       "width": "100%"
      }
     },
     "fad83839cb0d4cb08fbacd97d85c1b59": {
      "model_module": "@jupyter-widgets/base",
      "model_module_version": "2.0.0",
      "model_name": "LayoutModel",
      "state": {}
     },
     "fb5541d743544764b911b8443d4544d0": {
      "model_module": "@jupyter-widgets/base",
      "model_module_version": "2.0.0",
      "model_name": "LayoutModel",
      "state": {
       "grid_area": "top"
      }
     },
     "fbfc028b57ee40e9b3092b6a1028db9c": {
      "model_module": "@jupyter-widgets/controls",
      "model_module_version": "2.0.0",
      "model_name": "HTMLStyleModel",
      "state": {
       "description_width": "",
       "font_size": null,
       "text_color": null
      }
     },
     "fc181f31cd0f40209ee304c267506f58": {
      "model_module": "@jupyter-widgets/output",
      "model_module_version": "1.0.0",
      "model_name": "OutputModel",
      "state": {
       "layout": "IPY_MODEL_3ae697763f734ed0aaf2fbac7210ba4c",
       "outputs": [
        {
         "data": {
          "image/png": "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\n",
          "text/plain": "<Figure size 1100x900 with 5 Axes>"
         },
         "metadata": {},
         "output_type": "display_data"
        }
       ]
      }
     },
     "fdb6a0d27e984734b45e7a2c8d4ad0a9": {
      "model_module": "@jupyter-widgets/controls",
      "model_module_version": "2.0.0",
      "model_name": "HTMLModel",
      "state": {
       "layout": "IPY_MODEL_ba2dbd34123943cea99ea94913743c21",
       "style": "IPY_MODEL_6e5a2acf428147ad944bbb7453f04fbf",
       "value": "<h5>Backend</h5>"
      }
     },
     "fdd3d8d0581e4b0583be24f86149cfaf": {
      "model_module": "@quantum/ibm-q-lab-widgets",
      "model_module_version": "^1.0.3",
      "model_name": "CircuitComposerModel",
      "state": {
       "_model_module_version": "^1.0.3",
       "_view_module_version": "^1.0.3",
       "circuit": "\"OPENQASM 2.0;\\ninclude \\\"qelib1.inc\\\";\\n\\nqreg q[3];\\ncreg c[3];\\n\\n\"",
       "editable": true,
       "layout": "IPY_MODEL_e3dcc8c38f5b456bbbad0205c814e0f3",
       "qiskit_code_cell_index": -1
      }
     },
     "fde9ad415dfb457ba0c244b821d6cf2e": {
      "model_module": "@jupyter-widgets/controls",
      "model_module_version": "2.0.0",
      "model_name": "HTMLStyleModel",
      "state": {
       "description_width": "",
       "font_size": null,
       "text_color": null
      }
     },
     "fe03af7caac34c3991a43f3ebeefb322": {
      "model_module": "@jupyter-widgets/controls",
      "model_module_version": "2.0.0",
      "model_name": "TabModel",
      "state": {
       "children": [
        "IPY_MODEL_150dca80442645f8a9adf5331caeec91",
        "IPY_MODEL_775e6b9985b64fce814d1380f9f2e272",
        "IPY_MODEL_ed864d7d9089469bac0b841e55bbfff6",
        "IPY_MODEL_ec035a6e31d142f5ac1c7bf1efa57fcc",
        "IPY_MODEL_c963f95e9a8a49b48663aa89f131a1f9"
       ],
       "layout": "IPY_MODEL_6f7e2ea5470248ce8187086b9b0c378d",
       "selected_index": 0,
       "titles": [
        "Configuration",
        "Qubit Properties",
        "Multi-Qubit Gates",
        "Error Map",
        "Job History"
       ]
      }
     }
    },
    "version_major": 2,
    "version_minor": 0
   }
  }
 },
 "nbformat": 4,
 "nbformat_minor": 2
}
